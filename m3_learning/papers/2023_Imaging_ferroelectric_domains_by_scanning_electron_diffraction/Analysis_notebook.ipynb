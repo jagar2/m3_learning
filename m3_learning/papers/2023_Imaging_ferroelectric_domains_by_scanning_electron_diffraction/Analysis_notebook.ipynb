{
 "cells": [
  {
   "attachments": {},
   "cell_type": "markdown",
   "metadata": {},
   "source": [
    "# Imaging and structure analysis of ferroelectric domains, domain walls, and vortices by scanning electron diffraction\n",
    "\n",
    "Ursula Ludacka<sup>1</sup>, Jiali He<sup>1</sup>, Shuyu Qin<sup>3,4</sup>, Manuel Zahn<sup>1,5</sup>, Emil Frang Christiansen<sup>2</sup>, Kasper A. Hunnestad<sup>1</sup>, Zewu Yan<sup>6,7</sup>, Edith Bourret<sup>7</sup>, István Kézsmárki<sup>5</sup>, Antonius T. J. van Helvoort<sup>2</sup>, Joshua Agar<sup>3,4</sup>, Dennis Meier<sup>1</sup>\n",
    "\n",
    "Email: dennis.meier@ntnu.no, jca92@drexel.edu\n",
    "\n",
    "<sup>1</sup> Department of Materials Science and Engineering, NTNU Norwegian University of Science and Technology, Trondheim, Norway \\\n",
    "<sup>2</sup> Department of Physics, NTNU Norwegian University of Science and Technology, Trondheim, Norway\\\n",
    "<sup>3</sup> Department of Materials Science and Engineering, Lehigh University, Bethlehem, USA\\\n",
    "<sup>4</sup> Department of Mechanical Engineering and Mechanics, Drexel University, Philadelphia, USA\\\n",
    "<sup>5</sup> Experimental Physics V, University of Augsburg, Augsburg, Germany\\\n",
    "<sup>6</sup> Department of Physics, ETH Zurich, Zürich, Switzerland.\\\n",
    "<sup>7</sup> Materials Sciences Division, Lawrence Berkeley National Laboratory, Berkeley, USA.\n"
   ]
  },
  {
   "attachments": {},
   "cell_type": "markdown",
   "metadata": {},
   "source": [
    "## Abstract\n",
    "\n",
    "Direct electron detectors in scanning transmission electron microscopy give unprecedented possibilities for structure analysis at the nanoscale. In electronic and quantum materials, this new capability gives access to, for example, emergent chiral structures and symmetry-breaking distortions that underpin functional properties. Quantifying nanoscale structural features with statistical significance, however, is complicated by the subtleties of dynamic diffraction and coexisting contrast mechanisms, which often results in low signal-to-noise and the superposition of multiple signals that are challenging to deconvolute. Here we apply scanning electron diffraction to explore local polar distortions in the uniaxial ferroelectric Er(Mn,Ti)O3. Using a custom-designed convolutional autoencoder with bespoke regularization, we demonstrate that subtle variations in the scattering signatures of ferroelectric domains, domain walls, and vortex textures can readily be disentangled with statistical significance and separated from extrinsic contributions due to, e.g., variations in specimen thickness or bending. The work demonstrates a pathway to quantitatively measure symmetry-breaking distortions across large areas, mapping structural changes at interfaces and topological structures with nanoscale spatial resolution.\n"
   ]
  },
  {
   "attachments": {},
   "cell_type": "markdown",
   "metadata": {},
   "source": [
    "$$L = \\frac{\\lambda}{2N} \\sum\\limits_{i=1}^{N} \\left[\\left(\\sum\\limits_{j=1, j\\neq i}^{N} \\frac{latent_i \\cdot latent_j}{\\left\\lVert latent_i \\right\\rVert \\left\\lVert latent_j \\right\\rVert}\\right] - 1\\right)$$\n"
   ]
  },
  {
   "cell_type": "markdown",
   "metadata": {},
   "source": [
    "## Imports and settings"
   ]
  },
  {
   "cell_type": "code",
   "execution_count": 1,
   "metadata": {},
   "outputs": [],
   "source": [
    "%load_ext autoreload\n",
    "%autoreload 2"
   ]
  },
  {
   "cell_type": "code",
   "execution_count": 2,
   "metadata": {},
   "outputs": [],
   "source": [
    "import sys\n",
    "\n",
    "sys.path.append(\"../../\")\n",
    "sys.path.append(\"/home/ferroelectric/m3_learning/m3_learning/src\")\n"
   ]
  },
  {
   "cell_type": "code",
   "execution_count": 3,
   "metadata": {},
   "outputs": [
    {
     "name": "stdout",
     "output_type": "stream",
     "text": [
      "printing set for seaborn\n",
      "Pytorch seed was set to 42\n",
      "Numpy seed was set to 42\n"
     ]
    },
    {
     "name": "stderr",
     "output_type": "stream",
     "text": [
      "2023-04-10 10:46:21.523194: I tensorflow/core/platform/cpu_feature_guard.cc:193] This TensorFlow binary is optimized with oneAPI Deep Neural Network Library (oneDNN) to use the following CPU instructions in performance-critical operations:  AVX2 FMA\n",
      "To enable them in other operations, rebuild TensorFlow with the appropriate compiler flags.\n",
      "2023-04-10 10:46:21.636493: E tensorflow/stream_executor/cuda/cuda_blas.cc:2981] Unable to register cuBLAS factory: Attempting to register factory for plugin cuBLAS when one has already been registered\n",
      "2023-04-10 10:46:22.097577: W tensorflow/stream_executor/platform/default/dso_loader.cc:64] Could not load dynamic library 'libnvinfer.so.7'; dlerror: libnvinfer.so.7: cannot open shared object file: No such file or directory; LD_LIBRARY_PATH: /home/ferroelectric/anaconda3/envs/STEM/lib/python3.9/site-packages/cv2/../../lib64:\n",
      "2023-04-10 10:46:22.097626: W tensorflow/stream_executor/platform/default/dso_loader.cc:64] Could not load dynamic library 'libnvinfer_plugin.so.7'; dlerror: libnvinfer_plugin.so.7: cannot open shared object file: No such file or directory; LD_LIBRARY_PATH: /home/ferroelectric/anaconda3/envs/STEM/lib/python3.9/site-packages/cv2/../../lib64:\n",
      "2023-04-10 10:46:22.097630: W tensorflow/compiler/tf2tensorrt/utils/py_utils.cc:38] TF-TRT Warning: Cannot dlopen some TensorRT libraries. If you would like to use Nvidia GPU with TensorRT, please make sure the missing libraries mentioned above are installed properly.\n"
     ]
    },
    {
     "name": "stdout",
     "output_type": "stream",
     "text": [
      "tensorflow seed was set to 42\n"
     ]
    }
   ],
   "source": [
    "import matplotlib.pyplot as plt\n",
    "import numpy as np\n",
    "import hyperspy.api as hs\n",
    "import torch\n",
    "\n",
    "from m3_learning.nn.random import random_seed\n",
    "from m3_learning.nn.STEM_AE.Viz import Viz\n",
    "from m3_learning.nn.STEM_AE.STEM_AE import ConvAutoencoder\n",
    "from m3_learning.viz.style import set_style\n",
    "from m3_learning.viz.printing import printer\n",
    "from m3_learning.viz.layout import layout_fig, imagemap, labelfigs, scalebar\n",
    "from m3_learning.viz.Movies import make_movie\n",
    "from m3_learning.nn.STEM_AE.Dataset import STEM_Dataset\n",
    "printing = printer(basepath='./figures/')\n",
    "\n",
    "\n",
    "set_style(\"printing\")\n",
    "random_seed(seed=42)\n",
    "\n",
    "%matplotlib inline\n"
   ]
  },
  {
   "attachments": {},
   "cell_type": "markdown",
   "metadata": {},
   "source": [
    "TODO: add download\n"
   ]
  },
  {
   "attachments": {},
   "cell_type": "markdown",
   "metadata": {},
   "source": [
    "## Loads the Dataset"
   ]
  },
  {
   "cell_type": "code",
   "execution_count": 4,
   "metadata": {},
   "outputs": [
    {
     "name": "stderr",
     "output_type": "stream",
     "text": [
      "WARNING:hyperspy.io:This file contains a signal provided by the pyxem Python package that is not currently installed. The signal will be loaded into a generic HyperSpy signal. Consider installing pyxem to load this dataset into its original signal class.\n",
      "WARNING:hyperspy.io:`signal_type='electron_diffraction'` not understood. See `hs.print_known_signal_types()` for a list of installed signal types or https://github.com/hyperspy/hyperspy-extensions-list for the list of all hyperspy extensions providing signals.\n",
      "/home/ferroelectric/anaconda3/envs/STEM/lib/python3.9/site-packages/hyperspy/misc/utils.py:471: VisibleDeprecationWarning: Use of the `binned` attribute in metadata is going to be deprecated in v2.0. Set the `axis.is_binned` attribute instead. \n",
      "  warnings.warn(\n",
      "/home/ferroelectric/anaconda3/envs/STEM/lib/python3.9/site-packages/hyperspy/io.py:572: VisibleDeprecationWarning: Loading old file version. The binned attribute has been moved from metadata.Signal to axis.is_binned. Setting this attribute for all signal axes instead.\n",
      "  warnings.warn('Loading old file version. The binned attribute '\n"
     ]
    }
   ],
   "source": [
    "# loads the dataset\n",
    "# this object will also compute the log of the dataset\n",
    "# this is available as self.log_data\n",
    "domain = STEM_Dataset(data_path=\"/home/ferroelectric/data/256p_3w_step1k4_a5_cl12_50ms_nmf_4.hspy\")"
   ]
  },
  {
   "attachments": {},
   "cell_type": "markdown",
   "metadata": {},
   "source": [
    "## Instantiates the Visualizer"
   ]
  },
  {
   "cell_type": "code",
   "execution_count": 5,
   "metadata": {},
   "outputs": [],
   "source": [
    "# instantiates the visualization class\n",
    "viz = Viz(printer = printing, labelfigs_=True)"
   ]
  },
  {
   "attachments": {},
   "cell_type": "markdown",
   "metadata": {},
   "source": [
    "## Visualizes the Raw Data"
   ]
  },
  {
   "cell_type": "code",
   "execution_count": 6,
   "metadata": {},
   "outputs": [
    {
     "name": "stdout",
     "output_type": "stream",
     "text": [
      "./figures/STEM_raw_and_virtual_domain.png\n",
      "./figures/STEM_raw_and_virtual_domain.svg\n"
     ]
    },
    {
     "data": {
      "image/png": "[encoded data removed]",
      "text/plain": [
       "<Figure size 375x125 with 6 Axes>"
      ]
     },
     "metadata": {},
     "output_type": "display_data"
    }
   ],
   "source": [
    "bright_field_ = (117,135, 119, 135)\n",
    "dark_field_ = (102,117, 114,130)\n",
    "printer_ = printer(basepath=\"./figures/\")\n",
    "filename = \"STEM_raw_and_virtual_domain\"\n",
    "viz.scalebar_ = {'width': 250, 'scale length': 100, 'units': 'nm'}\n",
    "viz.STEM_raw_and_virtual(domain, bright_field_=bright_field_, dark_field_=dark_field_, scalebar_=True, filename=filename, shape_ = domain.data.shape)"
   ]
  },
  {
   "attachments": {},
   "cell_type": "markdown",
   "metadata": {},
   "source": [
    "## Builds the Neural Network Model"
   ]
  },
  {
   "cell_type": "code",
   "execution_count": 7,
   "metadata": {},
   "outputs": [],
   "source": [
    "encoder_step_size = [256, 256]\n",
    "pooling_list = [4, 4, 2]\n",
    "decoder_step_size = [8, 8]\n",
    "upsampling_list = [2, 4, 4]\n",
    "embedding_size = 32\n",
    "conv_size = 128\n",
    "\n",
    "# set device to load model\n",
    "device = 'cpu'\n",
    "if torch.cuda.is_available():\n",
    "    device = 'cuda:1'\n",
    "\n",
    "model = ConvAutoencoder(encoder_step_size=encoder_step_size,\n",
    "                        pooling_list=pooling_list,\n",
    "                        decoder_step_size=decoder_step_size,\n",
    "                        upsampling_list=upsampling_list,\n",
    "                        embedding_size=embedding_size,\n",
    "                        conv_size=conv_size,\n",
    "                        device=device,\n",
    "                        learning_rate=3e-5)"
   ]
  },
  {
   "attachments": {},
   "cell_type": "markdown",
   "metadata": {},
   "source": [
    "## Trains or Loads Pretrained Weights"
   ]
  },
  {
   "cell_type": "code",
   "execution_count": 8,
   "metadata": {},
   "outputs": [],
   "source": [
    "# set retrain parameter\n",
    "train = False\n",
    "\n",
    "if train:\n",
    "    model.Train(domain.log_data,\n",
    "          coef_1=1e-5,\n",
    "          epochs=225,\n",
    "          with_scheduler=False,\n",
    "          folder_path=\"Domain_Weights\",\n",
    "          batch_size=256)\n",
    "else:\n",
    "    model.load_weights(\"/home/ferroelectric/data/11.23_log_epoch_0376_coef_1e-05_trainloss_0.1362.pkl\")"
   ]
  },
  {
   "attachments": {},
   "cell_type": "markdown",
   "metadata": {},
   "source": [
    "## Computes the Embeddings"
   ]
  },
  {
   "cell_type": "code",
   "execution_count": 9,
   "metadata": {},
   "outputs": [
    {
     "name": "stderr",
     "output_type": "stream",
     "text": [
      "100%|██████████| 2048/2048 [04:07<00:00,  8.29it/s]\n"
     ]
    }
   ],
   "source": [
    "embedding = model.get_embedding(domain.log_data)\n"
   ]
  },
  {
   "attachments": {},
   "cell_type": "markdown",
   "metadata": {},
   "source": [
    "## Visualizes the Embeddings"
   ]
  },
  {
   "cell_type": "code",
   "execution_count": 10,
   "metadata": {},
   "outputs": [
    {
     "name": "stdout",
     "output_type": "stream",
     "text": [
      "./figures/domain wall_embedding_maps.png\n",
      "./figures/domain wall_embedding_maps.svg\n"
     ]
    },
    {
     "data": {
      "image/png": "[encoded data removed]",
      "text/plain": [
       "<Figure size 500x600 with 64 Axes>"
      ]
     },
     "metadata": {},
     "output_type": "display_data"
    }
   ],
   "source": [
    "viz.model = model\n",
    "viz.channels = [20,29]\n",
    "viz.scalebar_ = {'width': 250, 'scale length': 100, 'units': 'nm'}\n",
    "viz.embeddings(mod = 4, scalebar_=True, figsize = (5, 6), name = \"domain wall\", shape_=domain.data.shape)"
   ]
  },
  {
   "attachments": {},
   "cell_type": "markdown",
   "metadata": {},
   "source": [
    "## Generates Data from the Latent Space"
   ]
  },
  {
   "cell_type": "code",
   "execution_count": 11,
   "metadata": {},
   "outputs": [
    {
     "name": "stderr",
     "output_type": "stream",
     "text": [
      "  0%|          | 0/200 [00:00<?, ?it/s]"
     ]
    },
    {
     "name": "stdout",
     "output_type": "stream",
     "text": [
      "./figures/generator_images_Generator_of_Figure_4_a_d/0000_maps.png\n",
      "./figures/generator_images_Generator_of_Figure_4_a_d/0000_maps.svg\n"
     ]
    },
    {
     "name": "stderr",
     "output_type": "stream",
     "text": [
      "  0%|          | 1/200 [00:01<03:27,  1.04s/it]"
     ]
    },
    {
     "name": "stdout",
     "output_type": "stream",
     "text": [
      "./figures/generator_images_Generator_of_Figure_4_a_d/0001_maps.png\n",
      "./figures/generator_images_Generator_of_Figure_4_a_d/0001_maps.svg\n"
     ]
    },
    {
     "name": "stderr",
     "output_type": "stream",
     "text": [
      "  1%|          | 2/200 [00:02<03:25,  1.04s/it]"
     ]
    },
    {
     "name": "stdout",
     "output_type": "stream",
     "text": [
      "./figures/generator_images_Generator_of_Figure_4_a_d/0002_maps.png\n",
      "./figures/generator_images_Generator_of_Figure_4_a_d/0002_maps.svg\n"
     ]
    },
    {
     "name": "stderr",
     "output_type": "stream",
     "text": [
      "  2%|▏         | 3/200 [00:03<03:24,  1.04s/it]"
     ]
    },
    {
     "name": "stdout",
     "output_type": "stream",
     "text": [
      "./figures/generator_images_Generator_of_Figure_4_a_d/0003_maps.png\n",
      "./figures/generator_images_Generator_of_Figure_4_a_d/0003_maps.svg\n"
     ]
    },
    {
     "name": "stderr",
     "output_type": "stream",
     "text": [
      "  2%|▏         | 4/200 [00:04<03:23,  1.04s/it]"
     ]
    },
    {
     "name": "stdout",
     "output_type": "stream",
     "text": [
      "./figures/generator_images_Generator_of_Figure_4_a_d/0004_maps.png\n",
      "./figures/generator_images_Generator_of_Figure_4_a_d/0004_maps.svg\n"
     ]
    },
    {
     "name": "stderr",
     "output_type": "stream",
     "text": [
      "  2%|▎         | 5/200 [00:05<03:22,  1.04s/it]"
     ]
    },
    {
     "name": "stdout",
     "output_type": "stream",
     "text": [
      "./figures/generator_images_Generator_of_Figure_4_a_d/0005_maps.png\n",
      "./figures/generator_images_Generator_of_Figure_4_a_d/0005_maps.svg\n"
     ]
    },
    {
     "name": "stderr",
     "output_type": "stream",
     "text": [
      "  3%|▎         | 6/200 [00:06<03:20,  1.04s/it]"
     ]
    },
    {
     "name": "stdout",
     "output_type": "stream",
     "text": [
      "./figures/generator_images_Generator_of_Figure_4_a_d/0006_maps.png\n",
      "./figures/generator_images_Generator_of_Figure_4_a_d/0006_maps.svg\n"
     ]
    },
    {
     "name": "stderr",
     "output_type": "stream",
     "text": [
      "  4%|▎         | 7/200 [00:07<03:19,  1.03s/it]"
     ]
    },
    {
     "name": "stdout",
     "output_type": "stream",
     "text": [
      "./figures/generator_images_Generator_of_Figure_4_a_d/0007_maps.png\n",
      "./figures/generator_images_Generator_of_Figure_4_a_d/0007_maps.svg\n"
     ]
    },
    {
     "name": "stderr",
     "output_type": "stream",
     "text": [
      "  4%|▍         | 8/200 [00:08<03:18,  1.03s/it]"
     ]
    },
    {
     "name": "stdout",
     "output_type": "stream",
     "text": [
      "./figures/generator_images_Generator_of_Figure_4_a_d/0008_maps.png\n",
      "./figures/generator_images_Generator_of_Figure_4_a_d/0008_maps.svg\n"
     ]
    },
    {
     "name": "stderr",
     "output_type": "stream",
     "text": [
      "  4%|▍         | 9/200 [00:09<03:17,  1.03s/it]"
     ]
    },
    {
     "name": "stdout",
     "output_type": "stream",
     "text": [
      "./figures/generator_images_Generator_of_Figure_4_a_d/0009_maps.png\n",
      "./figures/generator_images_Generator_of_Figure_4_a_d/0009_maps.svg\n"
     ]
    },
    {
     "name": "stderr",
     "output_type": "stream",
     "text": [
      "  5%|▌         | 10/200 [00:10<03:16,  1.04s/it]"
     ]
    },
    {
     "name": "stdout",
     "output_type": "stream",
     "text": [
      "./figures/generator_images_Generator_of_Figure_4_a_d/0010_maps.png\n",
      "./figures/generator_images_Generator_of_Figure_4_a_d/0010_maps.svg\n"
     ]
    },
    {
     "name": "stderr",
     "output_type": "stream",
     "text": [
      "  6%|▌         | 11/200 [00:11<03:31,  1.12s/it]"
     ]
    },
    {
     "name": "stdout",
     "output_type": "stream",
     "text": [
      "./figures/generator_images_Generator_of_Figure_4_a_d/0011_maps.png\n",
      "./figures/generator_images_Generator_of_Figure_4_a_d/0011_maps.svg\n"
     ]
    },
    {
     "name": "stderr",
     "output_type": "stream",
     "text": [
      "  6%|▌         | 12/200 [00:12<03:25,  1.10s/it]"
     ]
    },
    {
     "name": "stdout",
     "output_type": "stream",
     "text": [
      "./figures/generator_images_Generator_of_Figure_4_a_d/0012_maps.png\n",
      "./figures/generator_images_Generator_of_Figure_4_a_d/0012_maps.svg\n"
     ]
    },
    {
     "name": "stderr",
     "output_type": "stream",
     "text": [
      "  6%|▋         | 13/200 [00:13<03:21,  1.08s/it]"
     ]
    },
    {
     "name": "stdout",
     "output_type": "stream",
     "text": [
      "./figures/generator_images_Generator_of_Figure_4_a_d/0013_maps.png\n",
      "./figures/generator_images_Generator_of_Figure_4_a_d/0013_maps.svg\n"
     ]
    },
    {
     "name": "stderr",
     "output_type": "stream",
     "text": [
      "  7%|▋         | 14/200 [00:14<03:18,  1.07s/it]"
     ]
    },
    {
     "name": "stdout",
     "output_type": "stream",
     "text": [
      "./figures/generator_images_Generator_of_Figure_4_a_d/0014_maps.png\n",
      "./figures/generator_images_Generator_of_Figure_4_a_d/0014_maps.svg\n"
     ]
    },
    {
     "name": "stderr",
     "output_type": "stream",
     "text": [
      "  8%|▊         | 15/200 [00:15<03:16,  1.06s/it]"
     ]
    },
    {
     "name": "stdout",
     "output_type": "stream",
     "text": [
      "./figures/generator_images_Generator_of_Figure_4_a_d/0015_maps.png\n",
      "./figures/generator_images_Generator_of_Figure_4_a_d/0015_maps.svg\n"
     ]
    },
    {
     "name": "stderr",
     "output_type": "stream",
     "text": [
      "  8%|▊         | 16/200 [00:16<03:13,  1.05s/it]"
     ]
    },
    {
     "name": "stdout",
     "output_type": "stream",
     "text": [
      "./figures/generator_images_Generator_of_Figure_4_a_d/0016_maps.png\n",
      "./figures/generator_images_Generator_of_Figure_4_a_d/0016_maps.svg\n"
     ]
    },
    {
     "name": "stderr",
     "output_type": "stream",
     "text": [
      "  8%|▊         | 17/200 [00:17<03:11,  1.05s/it]"
     ]
    },
    {
     "name": "stdout",
     "output_type": "stream",
     "text": [
      "./figures/generator_images_Generator_of_Figure_4_a_d/0017_maps.png\n",
      "./figures/generator_images_Generator_of_Figure_4_a_d/0017_maps.svg\n"
     ]
    },
    {
     "name": "stderr",
     "output_type": "stream",
     "text": [
      "  9%|▉         | 18/200 [00:18<03:10,  1.05s/it]"
     ]
    },
    {
     "name": "stdout",
     "output_type": "stream",
     "text": [
      "./figures/generator_images_Generator_of_Figure_4_a_d/0018_maps.png\n",
      "./figures/generator_images_Generator_of_Figure_4_a_d/0018_maps.svg\n"
     ]
    },
    {
     "name": "stderr",
     "output_type": "stream",
     "text": [
      " 10%|▉         | 19/200 [00:19<03:08,  1.04s/it]"
     ]
    },
    {
     "name": "stdout",
     "output_type": "stream",
     "text": [
      "./figures/generator_images_Generator_of_Figure_4_a_d/0019_maps.png\n",
      "./figures/generator_images_Generator_of_Figure_4_a_d/0019_maps.svg\n"
     ]
    },
    {
     "name": "stderr",
     "output_type": "stream",
     "text": [
      " 10%|█         | 20/200 [00:21<03:07,  1.04s/it]"
     ]
    },
    {
     "name": "stdout",
     "output_type": "stream",
     "text": [
      "./figures/generator_images_Generator_of_Figure_4_a_d/0020_maps.png\n",
      "./figures/generator_images_Generator_of_Figure_4_a_d/0020_maps.svg\n"
     ]
    },
    {
     "name": "stderr",
     "output_type": "stream",
     "text": [
      " 10%|█         | 21/200 [00:22<03:06,  1.04s/it]"
     ]
    },
    {
     "name": "stdout",
     "output_type": "stream",
     "text": [
      "./figures/generator_images_Generator_of_Figure_4_a_d/0021_maps.png\n",
      "./figures/generator_images_Generator_of_Figure_4_a_d/0021_maps.svg\n"
     ]
    },
    {
     "name": "stderr",
     "output_type": "stream",
     "text": [
      " 11%|█         | 22/200 [00:23<03:16,  1.10s/it]"
     ]
    },
    {
     "name": "stdout",
     "output_type": "stream",
     "text": [
      "./figures/generator_images_Generator_of_Figure_4_a_d/0022_maps.png\n",
      "./figures/generator_images_Generator_of_Figure_4_a_d/0022_maps.svg\n"
     ]
    },
    {
     "name": "stderr",
     "output_type": "stream",
     "text": [
      " 12%|█▏        | 23/200 [00:24<03:11,  1.08s/it]"
     ]
    },
    {
     "name": "stdout",
     "output_type": "stream",
     "text": [
      "./figures/generator_images_Generator_of_Figure_4_a_d/0023_maps.png\n",
      "./figures/generator_images_Generator_of_Figure_4_a_d/0023_maps.svg\n"
     ]
    },
    {
     "name": "stderr",
     "output_type": "stream",
     "text": [
      " 12%|█▏        | 24/200 [00:25<03:07,  1.06s/it]"
     ]
    },
    {
     "name": "stdout",
     "output_type": "stream",
     "text": [
      "./figures/generator_images_Generator_of_Figure_4_a_d/0024_maps.png\n",
      "./figures/generator_images_Generator_of_Figure_4_a_d/0024_maps.svg\n"
     ]
    },
    {
     "name": "stderr",
     "output_type": "stream",
     "text": [
      " 12%|█▎        | 25/200 [00:26<03:04,  1.05s/it]"
     ]
    },
    {
     "name": "stdout",
     "output_type": "stream",
     "text": [
      "./figures/generator_images_Generator_of_Figure_4_a_d/0025_maps.png\n",
      "./figures/generator_images_Generator_of_Figure_4_a_d/0025_maps.svg\n"
     ]
    },
    {
     "name": "stderr",
     "output_type": "stream",
     "text": [
      " 13%|█▎        | 26/200 [00:27<03:02,  1.05s/it]"
     ]
    },
    {
     "name": "stdout",
     "output_type": "stream",
     "text": [
      "./figures/generator_images_Generator_of_Figure_4_a_d/0026_maps.png\n",
      "./figures/generator_images_Generator_of_Figure_4_a_d/0026_maps.svg\n"
     ]
    },
    {
     "name": "stderr",
     "output_type": "stream",
     "text": [
      " 14%|█▎        | 27/200 [00:28<03:00,  1.04s/it]"
     ]
    },
    {
     "name": "stdout",
     "output_type": "stream",
     "text": [
      "./figures/generator_images_Generator_of_Figure_4_a_d/0027_maps.png\n",
      "./figures/generator_images_Generator_of_Figure_4_a_d/0027_maps.svg\n"
     ]
    },
    {
     "name": "stderr",
     "output_type": "stream",
     "text": [
      " 14%|█▍        | 28/200 [00:29<02:59,  1.04s/it]"
     ]
    },
    {
     "name": "stdout",
     "output_type": "stream",
     "text": [
      "./figures/generator_images_Generator_of_Figure_4_a_d/0028_maps.png\n",
      "./figures/generator_images_Generator_of_Figure_4_a_d/0028_maps.svg\n"
     ]
    },
    {
     "name": "stderr",
     "output_type": "stream",
     "text": [
      " 14%|█▍        | 29/200 [00:30<02:57,  1.04s/it]"
     ]
    },
    {
     "name": "stdout",
     "output_type": "stream",
     "text": [
      "./figures/generator_images_Generator_of_Figure_4_a_d/0029_maps.png\n",
      "./figures/generator_images_Generator_of_Figure_4_a_d/0029_maps.svg\n"
     ]
    },
    {
     "name": "stderr",
     "output_type": "stream",
     "text": [
      " 15%|█▌        | 30/200 [00:31<02:56,  1.04s/it]"
     ]
    },
    {
     "name": "stdout",
     "output_type": "stream",
     "text": [
      "./figures/generator_images_Generator_of_Figure_4_a_d/0030_maps.png\n",
      "./figures/generator_images_Generator_of_Figure_4_a_d/0030_maps.svg\n"
     ]
    },
    {
     "name": "stderr",
     "output_type": "stream",
     "text": [
      " 16%|█▌        | 31/200 [00:32<02:54,  1.03s/it]"
     ]
    },
    {
     "name": "stdout",
     "output_type": "stream",
     "text": [
      "./figures/generator_images_Generator_of_Figure_4_a_d/0031_maps.png\n",
      "./figures/generator_images_Generator_of_Figure_4_a_d/0031_maps.svg\n"
     ]
    },
    {
     "name": "stderr",
     "output_type": "stream",
     "text": [
      " 16%|█▌        | 32/200 [00:33<02:53,  1.03s/it]"
     ]
    },
    {
     "name": "stdout",
     "output_type": "stream",
     "text": [
      "./figures/generator_images_Generator_of_Figure_4_a_d/0032_maps.png\n",
      "./figures/generator_images_Generator_of_Figure_4_a_d/0032_maps.svg\n"
     ]
    },
    {
     "name": "stderr",
     "output_type": "stream",
     "text": [
      " 16%|█▋        | 33/200 [00:34<02:53,  1.04s/it]"
     ]
    },
    {
     "name": "stdout",
     "output_type": "stream",
     "text": [
      "./figures/generator_images_Generator_of_Figure_4_a_d/0033_maps.png\n",
      "./figures/generator_images_Generator_of_Figure_4_a_d/0033_maps.svg\n"
     ]
    },
    {
     "name": "stderr",
     "output_type": "stream",
     "text": [
      " 17%|█▋        | 34/200 [00:35<02:52,  1.04s/it]"
     ]
    },
    {
     "name": "stdout",
     "output_type": "stream",
     "text": [
      "./figures/generator_images_Generator_of_Figure_4_a_d/0034_maps.png\n",
      "./figures/generator_images_Generator_of_Figure_4_a_d/0034_maps.svg\n"
     ]
    },
    {
     "name": "stderr",
     "output_type": "stream",
     "text": [
      " 18%|█▊        | 35/200 [00:36<02:51,  1.04s/it]"
     ]
    },
    {
     "name": "stdout",
     "output_type": "stream",
     "text": [
      "./figures/generator_images_Generator_of_Figure_4_a_d/0035_maps.png\n",
      "./figures/generator_images_Generator_of_Figure_4_a_d/0035_maps.svg\n"
     ]
    },
    {
     "name": "stderr",
     "output_type": "stream",
     "text": [
      " 18%|█▊        | 36/200 [00:37<02:49,  1.04s/it]"
     ]
    },
    {
     "name": "stdout",
     "output_type": "stream",
     "text": [
      "./figures/generator_images_Generator_of_Figure_4_a_d/0036_maps.png\n",
      "./figures/generator_images_Generator_of_Figure_4_a_d/0036_maps.svg\n"
     ]
    },
    {
     "name": "stderr",
     "output_type": "stream",
     "text": [
      " 18%|█▊        | 37/200 [00:39<03:01,  1.12s/it]"
     ]
    },
    {
     "name": "stdout",
     "output_type": "stream",
     "text": [
      "./figures/generator_images_Generator_of_Figure_4_a_d/0037_maps.png\n",
      "./figures/generator_images_Generator_of_Figure_4_a_d/0037_maps.svg\n"
     ]
    },
    {
     "name": "stderr",
     "output_type": "stream",
     "text": [
      " 19%|█▉        | 38/200 [00:40<02:56,  1.09s/it]"
     ]
    },
    {
     "name": "stdout",
     "output_type": "stream",
     "text": [
      "./figures/generator_images_Generator_of_Figure_4_a_d/0038_maps.png\n",
      "./figures/generator_images_Generator_of_Figure_4_a_d/0038_maps.svg\n"
     ]
    },
    {
     "name": "stderr",
     "output_type": "stream",
     "text": [
      " 20%|█▉        | 39/200 [00:41<02:52,  1.07s/it]"
     ]
    },
    {
     "name": "stdout",
     "output_type": "stream",
     "text": [
      "./figures/generator_images_Generator_of_Figure_4_a_d/0039_maps.png\n",
      "./figures/generator_images_Generator_of_Figure_4_a_d/0039_maps.svg\n"
     ]
    },
    {
     "name": "stderr",
     "output_type": "stream",
     "text": [
      " 20%|██        | 40/200 [00:42<02:49,  1.06s/it]"
     ]
    },
    {
     "name": "stdout",
     "output_type": "stream",
     "text": [
      "./figures/generator_images_Generator_of_Figure_4_a_d/0040_maps.png\n",
      "./figures/generator_images_Generator_of_Figure_4_a_d/0040_maps.svg\n"
     ]
    },
    {
     "name": "stderr",
     "output_type": "stream",
     "text": [
      " 20%|██        | 41/200 [00:43<02:47,  1.05s/it]"
     ]
    },
    {
     "name": "stdout",
     "output_type": "stream",
     "text": [
      "./figures/generator_images_Generator_of_Figure_4_a_d/0041_maps.png\n",
      "./figures/generator_images_Generator_of_Figure_4_a_d/0041_maps.svg\n"
     ]
    },
    {
     "name": "stderr",
     "output_type": "stream",
     "text": [
      " 21%|██        | 42/200 [00:44<02:45,  1.05s/it]"
     ]
    },
    {
     "name": "stdout",
     "output_type": "stream",
     "text": [
      "./figures/generator_images_Generator_of_Figure_4_a_d/0042_maps.png\n",
      "./figures/generator_images_Generator_of_Figure_4_a_d/0042_maps.svg\n"
     ]
    },
    {
     "name": "stderr",
     "output_type": "stream",
     "text": [
      " 22%|██▏       | 43/200 [00:45<02:44,  1.04s/it]"
     ]
    },
    {
     "name": "stdout",
     "output_type": "stream",
     "text": [
      "./figures/generator_images_Generator_of_Figure_4_a_d/0043_maps.png\n",
      "./figures/generator_images_Generator_of_Figure_4_a_d/0043_maps.svg\n"
     ]
    },
    {
     "name": "stderr",
     "output_type": "stream",
     "text": [
      " 22%|██▏       | 44/200 [00:46<02:42,  1.04s/it]"
     ]
    },
    {
     "name": "stdout",
     "output_type": "stream",
     "text": [
      "./figures/generator_images_Generator_of_Figure_4_a_d/0044_maps.png\n",
      "./figures/generator_images_Generator_of_Figure_4_a_d/0044_maps.svg\n"
     ]
    },
    {
     "name": "stderr",
     "output_type": "stream",
     "text": [
      " 22%|██▎       | 45/200 [00:47<02:40,  1.04s/it]"
     ]
    },
    {
     "name": "stdout",
     "output_type": "stream",
     "text": [
      "./figures/generator_images_Generator_of_Figure_4_a_d/0045_maps.png\n",
      "./figures/generator_images_Generator_of_Figure_4_a_d/0045_maps.svg\n"
     ]
    },
    {
     "name": "stderr",
     "output_type": "stream",
     "text": [
      " 23%|██▎       | 46/200 [00:48<02:39,  1.03s/it]"
     ]
    },
    {
     "name": "stdout",
     "output_type": "stream",
     "text": [
      "./figures/generator_images_Generator_of_Figure_4_a_d/0046_maps.png\n",
      "./figures/generator_images_Generator_of_Figure_4_a_d/0046_maps.svg\n"
     ]
    },
    {
     "name": "stderr",
     "output_type": "stream",
     "text": [
      " 24%|██▎       | 47/200 [00:49<02:37,  1.03s/it]"
     ]
    },
    {
     "name": "stdout",
     "output_type": "stream",
     "text": [
      "./figures/generator_images_Generator_of_Figure_4_a_d/0047_maps.png\n",
      "./figures/generator_images_Generator_of_Figure_4_a_d/0047_maps.svg\n"
     ]
    },
    {
     "name": "stderr",
     "output_type": "stream",
     "text": [
      " 24%|██▍       | 48/200 [00:50<02:36,  1.03s/it]"
     ]
    },
    {
     "name": "stdout",
     "output_type": "stream",
     "text": [
      "./figures/generator_images_Generator_of_Figure_4_a_d/0048_maps.png\n",
      "./figures/generator_images_Generator_of_Figure_4_a_d/0048_maps.svg\n"
     ]
    },
    {
     "name": "stderr",
     "output_type": "stream",
     "text": [
      " 24%|██▍       | 49/200 [00:51<02:35,  1.03s/it]"
     ]
    },
    {
     "name": "stdout",
     "output_type": "stream",
     "text": [
      "./figures/generator_images_Generator_of_Figure_4_a_d/0049_maps.png\n",
      "./figures/generator_images_Generator_of_Figure_4_a_d/0049_maps.svg\n"
     ]
    },
    {
     "name": "stderr",
     "output_type": "stream",
     "text": [
      " 25%|██▌       | 50/200 [00:52<02:34,  1.03s/it]"
     ]
    },
    {
     "name": "stdout",
     "output_type": "stream",
     "text": [
      "./figures/generator_images_Generator_of_Figure_4_a_d/0050_maps.png\n",
      "./figures/generator_images_Generator_of_Figure_4_a_d/0050_maps.svg\n"
     ]
    },
    {
     "name": "stderr",
     "output_type": "stream",
     "text": [
      " 26%|██▌       | 51/200 [00:53<02:33,  1.03s/it]"
     ]
    },
    {
     "name": "stdout",
     "output_type": "stream",
     "text": [
      "./figures/generator_images_Generator_of_Figure_4_a_d/0051_maps.png\n",
      "./figures/generator_images_Generator_of_Figure_4_a_d/0051_maps.svg\n"
     ]
    },
    {
     "name": "stderr",
     "output_type": "stream",
     "text": [
      " 26%|██▌       | 52/200 [00:54<02:32,  1.03s/it]"
     ]
    },
    {
     "name": "stdout",
     "output_type": "stream",
     "text": [
      "./figures/generator_images_Generator_of_Figure_4_a_d/0052_maps.png\n",
      "./figures/generator_images_Generator_of_Figure_4_a_d/0052_maps.svg\n"
     ]
    },
    {
     "name": "stderr",
     "output_type": "stream",
     "text": [
      " 26%|██▋       | 53/200 [00:55<02:31,  1.03s/it]"
     ]
    },
    {
     "name": "stdout",
     "output_type": "stream",
     "text": [
      "./figures/generator_images_Generator_of_Figure_4_a_d/0053_maps.png\n",
      "./figures/generator_images_Generator_of_Figure_4_a_d/0053_maps.svg\n"
     ]
    },
    {
     "name": "stderr",
     "output_type": "stream",
     "text": [
      " 27%|██▋       | 54/200 [00:56<02:30,  1.03s/it]"
     ]
    },
    {
     "name": "stdout",
     "output_type": "stream",
     "text": [
      "./figures/generator_images_Generator_of_Figure_4_a_d/0054_maps.png\n",
      "./figures/generator_images_Generator_of_Figure_4_a_d/0054_maps.svg\n"
     ]
    },
    {
     "name": "stderr",
     "output_type": "stream",
     "text": [
      " 28%|██▊       | 55/200 [00:57<02:43,  1.13s/it]"
     ]
    },
    {
     "name": "stdout",
     "output_type": "stream",
     "text": [
      "./figures/generator_images_Generator_of_Figure_4_a_d/0055_maps.png\n",
      "./figures/generator_images_Generator_of_Figure_4_a_d/0055_maps.svg\n"
     ]
    },
    {
     "name": "stderr",
     "output_type": "stream",
     "text": [
      " 28%|██▊       | 56/200 [00:58<02:38,  1.10s/it]"
     ]
    },
    {
     "name": "stdout",
     "output_type": "stream",
     "text": [
      "./figures/generator_images_Generator_of_Figure_4_a_d/0056_maps.png\n",
      "./figures/generator_images_Generator_of_Figure_4_a_d/0056_maps.svg\n"
     ]
    },
    {
     "name": "stderr",
     "output_type": "stream",
     "text": [
      " 28%|██▊       | 57/200 [01:00<02:34,  1.08s/it]"
     ]
    },
    {
     "name": "stdout",
     "output_type": "stream",
     "text": [
      "./figures/generator_images_Generator_of_Figure_4_a_d/0057_maps.png\n",
      "./figures/generator_images_Generator_of_Figure_4_a_d/0057_maps.svg\n"
     ]
    },
    {
     "name": "stderr",
     "output_type": "stream",
     "text": [
      " 29%|██▉       | 58/200 [01:01<02:30,  1.06s/it]"
     ]
    },
    {
     "name": "stdout",
     "output_type": "stream",
     "text": [
      "./figures/generator_images_Generator_of_Figure_4_a_d/0058_maps.png\n",
      "./figures/generator_images_Generator_of_Figure_4_a_d/0058_maps.svg\n"
     ]
    },
    {
     "name": "stderr",
     "output_type": "stream",
     "text": [
      " 30%|██▉       | 59/200 [01:02<02:28,  1.05s/it]"
     ]
    },
    {
     "name": "stdout",
     "output_type": "stream",
     "text": [
      "./figures/generator_images_Generator_of_Figure_4_a_d/0059_maps.png\n",
      "./figures/generator_images_Generator_of_Figure_4_a_d/0059_maps.svg\n"
     ]
    },
    {
     "name": "stderr",
     "output_type": "stream",
     "text": [
      " 30%|███       | 60/200 [01:03<02:26,  1.04s/it]"
     ]
    },
    {
     "name": "stdout",
     "output_type": "stream",
     "text": [
      "./figures/generator_images_Generator_of_Figure_4_a_d/0060_maps.png\n",
      "./figures/generator_images_Generator_of_Figure_4_a_d/0060_maps.svg\n"
     ]
    },
    {
     "name": "stderr",
     "output_type": "stream",
     "text": [
      " 30%|███       | 61/200 [01:04<02:24,  1.04s/it]"
     ]
    },
    {
     "name": "stdout",
     "output_type": "stream",
     "text": [
      "./figures/generator_images_Generator_of_Figure_4_a_d/0061_maps.png\n",
      "./figures/generator_images_Generator_of_Figure_4_a_d/0061_maps.svg\n"
     ]
    },
    {
     "name": "stderr",
     "output_type": "stream",
     "text": [
      " 31%|███       | 62/200 [01:05<02:22,  1.03s/it]"
     ]
    },
    {
     "name": "stdout",
     "output_type": "stream",
     "text": [
      "./figures/generator_images_Generator_of_Figure_4_a_d/0062_maps.png\n",
      "./figures/generator_images_Generator_of_Figure_4_a_d/0062_maps.svg\n"
     ]
    },
    {
     "name": "stderr",
     "output_type": "stream",
     "text": [
      " 32%|███▏      | 63/200 [01:06<02:21,  1.03s/it]"
     ]
    },
    {
     "name": "stdout",
     "output_type": "stream",
     "text": [
      "./figures/generator_images_Generator_of_Figure_4_a_d/0063_maps.png\n",
      "./figures/generator_images_Generator_of_Figure_4_a_d/0063_maps.svg\n"
     ]
    },
    {
     "name": "stderr",
     "output_type": "stream",
     "text": [
      " 32%|███▏      | 64/200 [01:07<02:20,  1.03s/it]"
     ]
    },
    {
     "name": "stdout",
     "output_type": "stream",
     "text": [
      "./figures/generator_images_Generator_of_Figure_4_a_d/0064_maps.png\n",
      "./figures/generator_images_Generator_of_Figure_4_a_d/0064_maps.svg\n"
     ]
    },
    {
     "name": "stderr",
     "output_type": "stream",
     "text": [
      " 32%|███▎      | 65/200 [01:08<02:18,  1.03s/it]"
     ]
    },
    {
     "name": "stdout",
     "output_type": "stream",
     "text": [
      "./figures/generator_images_Generator_of_Figure_4_a_d/0065_maps.png\n",
      "./figures/generator_images_Generator_of_Figure_4_a_d/0065_maps.svg\n"
     ]
    },
    {
     "name": "stderr",
     "output_type": "stream",
     "text": [
      " 33%|███▎      | 66/200 [01:09<02:17,  1.03s/it]"
     ]
    },
    {
     "name": "stdout",
     "output_type": "stream",
     "text": [
      "./figures/generator_images_Generator_of_Figure_4_a_d/0066_maps.png\n",
      "./figures/generator_images_Generator_of_Figure_4_a_d/0066_maps.svg\n"
     ]
    },
    {
     "name": "stderr",
     "output_type": "stream",
     "text": [
      " 34%|███▎      | 67/200 [01:10<02:16,  1.03s/it]"
     ]
    },
    {
     "name": "stdout",
     "output_type": "stream",
     "text": [
      "./figures/generator_images_Generator_of_Figure_4_a_d/0067_maps.png\n",
      "./figures/generator_images_Generator_of_Figure_4_a_d/0067_maps.svg\n"
     ]
    },
    {
     "name": "stderr",
     "output_type": "stream",
     "text": [
      " 34%|███▍      | 68/200 [01:11<02:15,  1.03s/it]"
     ]
    },
    {
     "name": "stdout",
     "output_type": "stream",
     "text": [
      "./figures/generator_images_Generator_of_Figure_4_a_d/0068_maps.png\n",
      "./figures/generator_images_Generator_of_Figure_4_a_d/0068_maps.svg\n"
     ]
    },
    {
     "name": "stderr",
     "output_type": "stream",
     "text": [
      " 34%|███▍      | 69/200 [01:12<02:14,  1.02s/it]"
     ]
    },
    {
     "name": "stdout",
     "output_type": "stream",
     "text": [
      "./figures/generator_images_Generator_of_Figure_4_a_d/0069_maps.png\n",
      "./figures/generator_images_Generator_of_Figure_4_a_d/0069_maps.svg\n"
     ]
    },
    {
     "name": "stderr",
     "output_type": "stream",
     "text": [
      " 35%|███▌      | 70/200 [01:13<02:13,  1.02s/it]"
     ]
    },
    {
     "name": "stdout",
     "output_type": "stream",
     "text": [
      "./figures/generator_images_Generator_of_Figure_4_a_d/0070_maps.png\n",
      "./figures/generator_images_Generator_of_Figure_4_a_d/0070_maps.svg\n"
     ]
    },
    {
     "name": "stderr",
     "output_type": "stream",
     "text": [
      " 36%|███▌      | 71/200 [01:14<02:11,  1.02s/it]"
     ]
    },
    {
     "name": "stdout",
     "output_type": "stream",
     "text": [
      "./figures/generator_images_Generator_of_Figure_4_a_d/0071_maps.png\n",
      "./figures/generator_images_Generator_of_Figure_4_a_d/0071_maps.svg\n"
     ]
    },
    {
     "name": "stderr",
     "output_type": "stream",
     "text": [
      " 36%|███▌      | 72/200 [01:15<02:11,  1.02s/it]"
     ]
    },
    {
     "name": "stdout",
     "output_type": "stream",
     "text": [
      "./figures/generator_images_Generator_of_Figure_4_a_d/0072_maps.png\n",
      "./figures/generator_images_Generator_of_Figure_4_a_d/0072_maps.svg\n"
     ]
    },
    {
     "name": "stderr",
     "output_type": "stream",
     "text": [
      " 36%|███▋      | 73/200 [01:16<02:09,  1.02s/it]"
     ]
    },
    {
     "name": "stdout",
     "output_type": "stream",
     "text": [
      "./figures/generator_images_Generator_of_Figure_4_a_d/0073_maps.png\n",
      "./figures/generator_images_Generator_of_Figure_4_a_d/0073_maps.svg\n"
     ]
    },
    {
     "name": "stderr",
     "output_type": "stream",
     "text": [
      " 37%|███▋      | 74/200 [01:17<02:08,  1.02s/it]"
     ]
    },
    {
     "name": "stdout",
     "output_type": "stream",
     "text": [
      "./figures/generator_images_Generator_of_Figure_4_a_d/0074_maps.png\n",
      "./figures/generator_images_Generator_of_Figure_4_a_d/0074_maps.svg\n"
     ]
    },
    {
     "name": "stderr",
     "output_type": "stream",
     "text": [
      " 38%|███▊      | 75/200 [01:18<02:07,  1.02s/it]"
     ]
    },
    {
     "name": "stdout",
     "output_type": "stream",
     "text": [
      "./figures/generator_images_Generator_of_Figure_4_a_d/0075_maps.png\n",
      "./figures/generator_images_Generator_of_Figure_4_a_d/0075_maps.svg\n"
     ]
    },
    {
     "name": "stderr",
     "output_type": "stream",
     "text": [
      " 38%|███▊      | 76/200 [01:19<02:06,  1.02s/it]"
     ]
    },
    {
     "name": "stdout",
     "output_type": "stream",
     "text": [
      "./figures/generator_images_Generator_of_Figure_4_a_d/0076_maps.png\n",
      "./figures/generator_images_Generator_of_Figure_4_a_d/0076_maps.svg\n"
     ]
    },
    {
     "name": "stderr",
     "output_type": "stream",
     "text": [
      " 38%|███▊      | 77/200 [01:20<02:05,  1.02s/it]"
     ]
    },
    {
     "name": "stdout",
     "output_type": "stream",
     "text": [
      "./figures/generator_images_Generator_of_Figure_4_a_d/0077_maps.png\n",
      "./figures/generator_images_Generator_of_Figure_4_a_d/0077_maps.svg\n"
     ]
    },
    {
     "name": "stderr",
     "output_type": "stream",
     "text": [
      " 39%|███▉      | 78/200 [01:21<02:19,  1.14s/it]"
     ]
    },
    {
     "name": "stdout",
     "output_type": "stream",
     "text": [
      "./figures/generator_images_Generator_of_Figure_4_a_d/0078_maps.png\n",
      "./figures/generator_images_Generator_of_Figure_4_a_d/0078_maps.svg\n"
     ]
    },
    {
     "name": "stderr",
     "output_type": "stream",
     "text": [
      " 40%|███▉      | 79/200 [01:22<02:14,  1.11s/it]"
     ]
    },
    {
     "name": "stdout",
     "output_type": "stream",
     "text": [
      "./figures/generator_images_Generator_of_Figure_4_a_d/0079_maps.png\n",
      "./figures/generator_images_Generator_of_Figure_4_a_d/0079_maps.svg\n"
     ]
    },
    {
     "name": "stderr",
     "output_type": "stream",
     "text": [
      " 40%|████      | 80/200 [01:23<02:10,  1.08s/it]"
     ]
    },
    {
     "name": "stdout",
     "output_type": "stream",
     "text": [
      "./figures/generator_images_Generator_of_Figure_4_a_d/0080_maps.png\n",
      "./figures/generator_images_Generator_of_Figure_4_a_d/0080_maps.svg\n"
     ]
    },
    {
     "name": "stderr",
     "output_type": "stream",
     "text": [
      " 40%|████      | 81/200 [01:24<02:07,  1.07s/it]"
     ]
    },
    {
     "name": "stdout",
     "output_type": "stream",
     "text": [
      "./figures/generator_images_Generator_of_Figure_4_a_d/0081_maps.png\n",
      "./figures/generator_images_Generator_of_Figure_4_a_d/0081_maps.svg\n"
     ]
    },
    {
     "name": "stderr",
     "output_type": "stream",
     "text": [
      " 41%|████      | 82/200 [01:26<02:04,  1.05s/it]"
     ]
    },
    {
     "name": "stdout",
     "output_type": "stream",
     "text": [
      "./figures/generator_images_Generator_of_Figure_4_a_d/0082_maps.png\n",
      "./figures/generator_images_Generator_of_Figure_4_a_d/0082_maps.svg\n"
     ]
    },
    {
     "name": "stderr",
     "output_type": "stream",
     "text": [
      " 42%|████▏     | 83/200 [01:27<02:02,  1.05s/it]"
     ]
    },
    {
     "name": "stdout",
     "output_type": "stream",
     "text": [
      "./figures/generator_images_Generator_of_Figure_4_a_d/0083_maps.png\n",
      "./figures/generator_images_Generator_of_Figure_4_a_d/0083_maps.svg\n"
     ]
    },
    {
     "name": "stderr",
     "output_type": "stream",
     "text": [
      " 42%|████▏     | 84/200 [01:28<02:00,  1.04s/it]"
     ]
    },
    {
     "name": "stdout",
     "output_type": "stream",
     "text": [
      "./figures/generator_images_Generator_of_Figure_4_a_d/0084_maps.png\n",
      "./figures/generator_images_Generator_of_Figure_4_a_d/0084_maps.svg\n"
     ]
    },
    {
     "name": "stderr",
     "output_type": "stream",
     "text": [
      " 42%|████▎     | 85/200 [01:29<01:59,  1.04s/it]"
     ]
    },
    {
     "name": "stdout",
     "output_type": "stream",
     "text": [
      "./figures/generator_images_Generator_of_Figure_4_a_d/0085_maps.png\n",
      "./figures/generator_images_Generator_of_Figure_4_a_d/0085_maps.svg\n"
     ]
    },
    {
     "name": "stderr",
     "output_type": "stream",
     "text": [
      " 43%|████▎     | 86/200 [01:30<01:58,  1.04s/it]"
     ]
    },
    {
     "name": "stdout",
     "output_type": "stream",
     "text": [
      "./figures/generator_images_Generator_of_Figure_4_a_d/0086_maps.png\n",
      "./figures/generator_images_Generator_of_Figure_4_a_d/0086_maps.svg\n"
     ]
    },
    {
     "name": "stderr",
     "output_type": "stream",
     "text": [
      " 44%|████▎     | 87/200 [01:31<01:57,  1.04s/it]"
     ]
    },
    {
     "name": "stdout",
     "output_type": "stream",
     "text": [
      "./figures/generator_images_Generator_of_Figure_4_a_d/0087_maps.png\n",
      "./figures/generator_images_Generator_of_Figure_4_a_d/0087_maps.svg\n"
     ]
    },
    {
     "name": "stderr",
     "output_type": "stream",
     "text": [
      " 44%|████▍     | 88/200 [01:32<01:55,  1.03s/it]"
     ]
    },
    {
     "name": "stdout",
     "output_type": "stream",
     "text": [
      "./figures/generator_images_Generator_of_Figure_4_a_d/0088_maps.png\n",
      "./figures/generator_images_Generator_of_Figure_4_a_d/0088_maps.svg\n"
     ]
    },
    {
     "name": "stderr",
     "output_type": "stream",
     "text": [
      " 44%|████▍     | 89/200 [01:33<01:54,  1.03s/it]"
     ]
    },
    {
     "name": "stdout",
     "output_type": "stream",
     "text": [
      "./figures/generator_images_Generator_of_Figure_4_a_d/0089_maps.png\n",
      "./figures/generator_images_Generator_of_Figure_4_a_d/0089_maps.svg\n"
     ]
    },
    {
     "name": "stderr",
     "output_type": "stream",
     "text": [
      " 45%|████▌     | 90/200 [01:34<01:53,  1.03s/it]"
     ]
    },
    {
     "name": "stdout",
     "output_type": "stream",
     "text": [
      "./figures/generator_images_Generator_of_Figure_4_a_d/0090_maps.png\n",
      "./figures/generator_images_Generator_of_Figure_4_a_d/0090_maps.svg\n"
     ]
    },
    {
     "name": "stderr",
     "output_type": "stream",
     "text": [
      " 46%|████▌     | 91/200 [01:35<01:52,  1.03s/it]"
     ]
    },
    {
     "name": "stdout",
     "output_type": "stream",
     "text": [
      "./figures/generator_images_Generator_of_Figure_4_a_d/0091_maps.png\n",
      "./figures/generator_images_Generator_of_Figure_4_a_d/0091_maps.svg\n"
     ]
    },
    {
     "name": "stderr",
     "output_type": "stream",
     "text": [
      " 46%|████▌     | 92/200 [01:36<01:51,  1.03s/it]"
     ]
    },
    {
     "name": "stdout",
     "output_type": "stream",
     "text": [
      "./figures/generator_images_Generator_of_Figure_4_a_d/0092_maps.png\n",
      "./figures/generator_images_Generator_of_Figure_4_a_d/0092_maps.svg\n"
     ]
    },
    {
     "name": "stderr",
     "output_type": "stream",
     "text": [
      " 46%|████▋     | 93/200 [01:37<01:50,  1.03s/it]"
     ]
    },
    {
     "name": "stdout",
     "output_type": "stream",
     "text": [
      "./figures/generator_images_Generator_of_Figure_4_a_d/0093_maps.png\n",
      "./figures/generator_images_Generator_of_Figure_4_a_d/0093_maps.svg\n"
     ]
    },
    {
     "name": "stderr",
     "output_type": "stream",
     "text": [
      " 47%|████▋     | 94/200 [01:38<01:49,  1.03s/it]"
     ]
    },
    {
     "name": "stdout",
     "output_type": "stream",
     "text": [
      "./figures/generator_images_Generator_of_Figure_4_a_d/0094_maps.png\n",
      "./figures/generator_images_Generator_of_Figure_4_a_d/0094_maps.svg\n"
     ]
    },
    {
     "name": "stderr",
     "output_type": "stream",
     "text": [
      " 48%|████▊     | 95/200 [01:39<01:48,  1.03s/it]"
     ]
    },
    {
     "name": "stdout",
     "output_type": "stream",
     "text": [
      "./figures/generator_images_Generator_of_Figure_4_a_d/0095_maps.png\n",
      "./figures/generator_images_Generator_of_Figure_4_a_d/0095_maps.svg\n"
     ]
    },
    {
     "name": "stderr",
     "output_type": "stream",
     "text": [
      " 48%|████▊     | 96/200 [01:40<01:47,  1.03s/it]"
     ]
    },
    {
     "name": "stdout",
     "output_type": "stream",
     "text": [
      "./figures/generator_images_Generator_of_Figure_4_a_d/0096_maps.png\n",
      "./figures/generator_images_Generator_of_Figure_4_a_d/0096_maps.svg\n"
     ]
    },
    {
     "name": "stderr",
     "output_type": "stream",
     "text": [
      " 48%|████▊     | 97/200 [01:41<01:46,  1.03s/it]"
     ]
    },
    {
     "name": "stdout",
     "output_type": "stream",
     "text": [
      "./figures/generator_images_Generator_of_Figure_4_a_d/0097_maps.png\n",
      "./figures/generator_images_Generator_of_Figure_4_a_d/0097_maps.svg\n"
     ]
    },
    {
     "name": "stderr",
     "output_type": "stream",
     "text": [
      " 49%|████▉     | 98/200 [01:42<01:45,  1.03s/it]"
     ]
    },
    {
     "name": "stdout",
     "output_type": "stream",
     "text": [
      "./figures/generator_images_Generator_of_Figure_4_a_d/0098_maps.png\n",
      "./figures/generator_images_Generator_of_Figure_4_a_d/0098_maps.svg\n"
     ]
    },
    {
     "name": "stderr",
     "output_type": "stream",
     "text": [
      " 50%|████▉     | 99/200 [01:43<01:43,  1.03s/it]"
     ]
    },
    {
     "name": "stdout",
     "output_type": "stream",
     "text": [
      "./figures/generator_images_Generator_of_Figure_4_a_d/0099_maps.png\n",
      "./figures/generator_images_Generator_of_Figure_4_a_d/0099_maps.svg\n"
     ]
    },
    {
     "name": "stderr",
     "output_type": "stream",
     "text": [
      " 50%|█████     | 100/200 [01:44<01:42,  1.03s/it]"
     ]
    },
    {
     "name": "stdout",
     "output_type": "stream",
     "text": [
      "./figures/generator_images_Generator_of_Figure_4_a_d/0100_maps.png\n",
      "./figures/generator_images_Generator_of_Figure_4_a_d/0100_maps.svg\n"
     ]
    },
    {
     "name": "stderr",
     "output_type": "stream",
     "text": [
      " 50%|█████     | 101/200 [01:45<01:41,  1.03s/it]"
     ]
    },
    {
     "name": "stdout",
     "output_type": "stream",
     "text": [
      "./figures/generator_images_Generator_of_Figure_4_a_d/0101_maps.png\n",
      "./figures/generator_images_Generator_of_Figure_4_a_d/0101_maps.svg\n"
     ]
    },
    {
     "name": "stderr",
     "output_type": "stream",
     "text": [
      " 51%|█████     | 102/200 [01:46<01:40,  1.03s/it]"
     ]
    },
    {
     "name": "stdout",
     "output_type": "stream",
     "text": [
      "./figures/generator_images_Generator_of_Figure_4_a_d/0102_maps.png\n",
      "./figures/generator_images_Generator_of_Figure_4_a_d/0102_maps.svg\n"
     ]
    },
    {
     "name": "stderr",
     "output_type": "stream",
     "text": [
      " 52%|█████▏    | 103/200 [01:47<01:39,  1.03s/it]"
     ]
    },
    {
     "name": "stdout",
     "output_type": "stream",
     "text": [
      "./figures/generator_images_Generator_of_Figure_4_a_d/0103_maps.png\n",
      "./figures/generator_images_Generator_of_Figure_4_a_d/0103_maps.svg\n"
     ]
    },
    {
     "name": "stderr",
     "output_type": "stream",
     "text": [
      " 52%|█████▏    | 104/200 [01:48<01:38,  1.03s/it]"
     ]
    },
    {
     "name": "stdout",
     "output_type": "stream",
     "text": [
      "./figures/generator_images_Generator_of_Figure_4_a_d/0104_maps.png\n",
      "./figures/generator_images_Generator_of_Figure_4_a_d/0104_maps.svg\n"
     ]
    },
    {
     "name": "stderr",
     "output_type": "stream",
     "text": [
      " 52%|█████▎    | 105/200 [01:49<01:37,  1.03s/it]"
     ]
    },
    {
     "name": "stdout",
     "output_type": "stream",
     "text": [
      "./figures/generator_images_Generator_of_Figure_4_a_d/0105_maps.png\n",
      "./figures/generator_images_Generator_of_Figure_4_a_d/0105_maps.svg\n"
     ]
    },
    {
     "name": "stderr",
     "output_type": "stream",
     "text": [
      " 53%|█████▎    | 106/200 [01:51<01:50,  1.17s/it]"
     ]
    },
    {
     "name": "stdout",
     "output_type": "stream",
     "text": [
      "./figures/generator_images_Generator_of_Figure_4_a_d/0106_maps.png\n",
      "./figures/generator_images_Generator_of_Figure_4_a_d/0106_maps.svg\n"
     ]
    },
    {
     "name": "stderr",
     "output_type": "stream",
     "text": [
      " 54%|█████▎    | 107/200 [01:52<01:45,  1.13s/it]"
     ]
    },
    {
     "name": "stdout",
     "output_type": "stream",
     "text": [
      "./figures/generator_images_Generator_of_Figure_4_a_d/0107_maps.png\n",
      "./figures/generator_images_Generator_of_Figure_4_a_d/0107_maps.svg\n"
     ]
    },
    {
     "name": "stderr",
     "output_type": "stream",
     "text": [
      " 54%|█████▍    | 108/200 [01:53<01:41,  1.10s/it]"
     ]
    },
    {
     "name": "stdout",
     "output_type": "stream",
     "text": [
      "./figures/generator_images_Generator_of_Figure_4_a_d/0108_maps.png\n",
      "./figures/generator_images_Generator_of_Figure_4_a_d/0108_maps.svg\n"
     ]
    },
    {
     "name": "stderr",
     "output_type": "stream",
     "text": [
      " 55%|█████▍    | 109/200 [01:54<01:37,  1.08s/it]"
     ]
    },
    {
     "name": "stdout",
     "output_type": "stream",
     "text": [
      "./figures/generator_images_Generator_of_Figure_4_a_d/0109_maps.png\n",
      "./figures/generator_images_Generator_of_Figure_4_a_d/0109_maps.svg\n"
     ]
    },
    {
     "name": "stderr",
     "output_type": "stream",
     "text": [
      " 55%|█████▌    | 110/200 [01:55<01:35,  1.06s/it]"
     ]
    },
    {
     "name": "stdout",
     "output_type": "stream",
     "text": [
      "./figures/generator_images_Generator_of_Figure_4_a_d/0110_maps.png\n",
      "./figures/generator_images_Generator_of_Figure_4_a_d/0110_maps.svg\n"
     ]
    },
    {
     "name": "stderr",
     "output_type": "stream",
     "text": [
      " 56%|█████▌    | 111/200 [01:56<01:33,  1.05s/it]"
     ]
    },
    {
     "name": "stdout",
     "output_type": "stream",
     "text": [
      "./figures/generator_images_Generator_of_Figure_4_a_d/0111_maps.png\n",
      "./figures/generator_images_Generator_of_Figure_4_a_d/0111_maps.svg\n"
     ]
    },
    {
     "name": "stderr",
     "output_type": "stream",
     "text": [
      " 56%|█████▌    | 112/200 [01:57<01:31,  1.04s/it]"
     ]
    },
    {
     "name": "stdout",
     "output_type": "stream",
     "text": [
      "./figures/generator_images_Generator_of_Figure_4_a_d/0112_maps.png\n",
      "./figures/generator_images_Generator_of_Figure_4_a_d/0112_maps.svg\n"
     ]
    },
    {
     "name": "stderr",
     "output_type": "stream",
     "text": [
      " 56%|█████▋    | 113/200 [01:58<01:30,  1.04s/it]"
     ]
    },
    {
     "name": "stdout",
     "output_type": "stream",
     "text": [
      "./figures/generator_images_Generator_of_Figure_4_a_d/0113_maps.png\n",
      "./figures/generator_images_Generator_of_Figure_4_a_d/0113_maps.svg\n"
     ]
    },
    {
     "name": "stderr",
     "output_type": "stream",
     "text": [
      " 57%|█████▋    | 114/200 [01:59<01:28,  1.03s/it]"
     ]
    },
    {
     "name": "stdout",
     "output_type": "stream",
     "text": [
      "./figures/generator_images_Generator_of_Figure_4_a_d/0114_maps.png\n",
      "./figures/generator_images_Generator_of_Figure_4_a_d/0114_maps.svg\n"
     ]
    },
    {
     "name": "stderr",
     "output_type": "stream",
     "text": [
      " 57%|█████▊    | 115/200 [02:00<01:28,  1.04s/it]"
     ]
    },
    {
     "name": "stdout",
     "output_type": "stream",
     "text": [
      "./figures/generator_images_Generator_of_Figure_4_a_d/0115_maps.png\n",
      "./figures/generator_images_Generator_of_Figure_4_a_d/0115_maps.svg\n"
     ]
    },
    {
     "name": "stderr",
     "output_type": "stream",
     "text": [
      " 58%|█████▊    | 116/200 [02:01<01:27,  1.04s/it]"
     ]
    },
    {
     "name": "stdout",
     "output_type": "stream",
     "text": [
      "./figures/generator_images_Generator_of_Figure_4_a_d/0116_maps.png\n",
      "./figures/generator_images_Generator_of_Figure_4_a_d/0116_maps.svg\n"
     ]
    },
    {
     "name": "stderr",
     "output_type": "stream",
     "text": [
      " 58%|█████▊    | 117/200 [02:02<01:26,  1.04s/it]"
     ]
    },
    {
     "name": "stdout",
     "output_type": "stream",
     "text": [
      "./figures/generator_images_Generator_of_Figure_4_a_d/0117_maps.png\n",
      "./figures/generator_images_Generator_of_Figure_4_a_d/0117_maps.svg\n"
     ]
    },
    {
     "name": "stderr",
     "output_type": "stream",
     "text": [
      " 59%|█████▉    | 118/200 [02:03<01:25,  1.04s/it]"
     ]
    },
    {
     "name": "stdout",
     "output_type": "stream",
     "text": [
      "./figures/generator_images_Generator_of_Figure_4_a_d/0118_maps.png\n",
      "./figures/generator_images_Generator_of_Figure_4_a_d/0118_maps.svg\n"
     ]
    },
    {
     "name": "stderr",
     "output_type": "stream",
     "text": [
      " 60%|█████▉    | 119/200 [02:04<01:24,  1.04s/it]"
     ]
    },
    {
     "name": "stdout",
     "output_type": "stream",
     "text": [
      "./figures/generator_images_Generator_of_Figure_4_a_d/0119_maps.png\n",
      "./figures/generator_images_Generator_of_Figure_4_a_d/0119_maps.svg\n"
     ]
    },
    {
     "name": "stderr",
     "output_type": "stream",
     "text": [
      " 60%|██████    | 120/200 [02:05<01:23,  1.04s/it]"
     ]
    },
    {
     "name": "stdout",
     "output_type": "stream",
     "text": [
      "./figures/generator_images_Generator_of_Figure_4_a_d/0120_maps.png\n",
      "./figures/generator_images_Generator_of_Figure_4_a_d/0120_maps.svg\n"
     ]
    },
    {
     "name": "stderr",
     "output_type": "stream",
     "text": [
      " 60%|██████    | 121/200 [02:06<01:22,  1.04s/it]"
     ]
    },
    {
     "name": "stdout",
     "output_type": "stream",
     "text": [
      "./figures/generator_images_Generator_of_Figure_4_a_d/0121_maps.png\n",
      "./figures/generator_images_Generator_of_Figure_4_a_d/0121_maps.svg\n"
     ]
    },
    {
     "name": "stderr",
     "output_type": "stream",
     "text": [
      " 61%|██████    | 122/200 [02:07<01:21,  1.04s/it]"
     ]
    },
    {
     "name": "stdout",
     "output_type": "stream",
     "text": [
      "./figures/generator_images_Generator_of_Figure_4_a_d/0122_maps.png\n",
      "./figures/generator_images_Generator_of_Figure_4_a_d/0122_maps.svg\n"
     ]
    },
    {
     "name": "stderr",
     "output_type": "stream",
     "text": [
      " 62%|██████▏   | 123/200 [02:08<01:19,  1.04s/it]"
     ]
    },
    {
     "name": "stdout",
     "output_type": "stream",
     "text": [
      "./figures/generator_images_Generator_of_Figure_4_a_d/0123_maps.png\n",
      "./figures/generator_images_Generator_of_Figure_4_a_d/0123_maps.svg\n"
     ]
    },
    {
     "name": "stderr",
     "output_type": "stream",
     "text": [
      " 62%|██████▏   | 124/200 [02:09<01:18,  1.04s/it]"
     ]
    },
    {
     "name": "stdout",
     "output_type": "stream",
     "text": [
      "./figures/generator_images_Generator_of_Figure_4_a_d/0124_maps.png\n",
      "./figures/generator_images_Generator_of_Figure_4_a_d/0124_maps.svg\n"
     ]
    },
    {
     "name": "stderr",
     "output_type": "stream",
     "text": [
      " 62%|██████▎   | 125/200 [02:10<01:17,  1.03s/it]"
     ]
    },
    {
     "name": "stdout",
     "output_type": "stream",
     "text": [
      "./figures/generator_images_Generator_of_Figure_4_a_d/0125_maps.png\n",
      "./figures/generator_images_Generator_of_Figure_4_a_d/0125_maps.svg\n"
     ]
    },
    {
     "name": "stderr",
     "output_type": "stream",
     "text": [
      " 63%|██████▎   | 126/200 [02:11<01:17,  1.05s/it]"
     ]
    },
    {
     "name": "stdout",
     "output_type": "stream",
     "text": [
      "./figures/generator_images_Generator_of_Figure_4_a_d/0126_maps.png\n",
      "./figures/generator_images_Generator_of_Figure_4_a_d/0126_maps.svg\n"
     ]
    },
    {
     "name": "stderr",
     "output_type": "stream",
     "text": [
      " 64%|██████▎   | 127/200 [02:12<01:16,  1.04s/it]"
     ]
    },
    {
     "name": "stdout",
     "output_type": "stream",
     "text": [
      "./figures/generator_images_Generator_of_Figure_4_a_d/0127_maps.png\n",
      "./figures/generator_images_Generator_of_Figure_4_a_d/0127_maps.svg\n"
     ]
    },
    {
     "name": "stderr",
     "output_type": "stream",
     "text": [
      " 64%|██████▍   | 128/200 [02:14<01:14,  1.04s/it]"
     ]
    },
    {
     "name": "stdout",
     "output_type": "stream",
     "text": [
      "./figures/generator_images_Generator_of_Figure_4_a_d/0128_maps.png\n",
      "./figures/generator_images_Generator_of_Figure_4_a_d/0128_maps.svg\n"
     ]
    },
    {
     "name": "stderr",
     "output_type": "stream",
     "text": [
      " 64%|██████▍   | 129/200 [02:15<01:13,  1.04s/it]"
     ]
    },
    {
     "name": "stdout",
     "output_type": "stream",
     "text": [
      "./figures/generator_images_Generator_of_Figure_4_a_d/0129_maps.png\n",
      "./figures/generator_images_Generator_of_Figure_4_a_d/0129_maps.svg\n"
     ]
    },
    {
     "name": "stderr",
     "output_type": "stream",
     "text": [
      " 65%|██████▌   | 130/200 [02:16<01:12,  1.04s/it]"
     ]
    },
    {
     "name": "stdout",
     "output_type": "stream",
     "text": [
      "./figures/generator_images_Generator_of_Figure_4_a_d/0130_maps.png\n",
      "./figures/generator_images_Generator_of_Figure_4_a_d/0130_maps.svg\n"
     ]
    },
    {
     "name": "stderr",
     "output_type": "stream",
     "text": [
      " 66%|██████▌   | 131/200 [02:17<01:11,  1.04s/it]"
     ]
    },
    {
     "name": "stdout",
     "output_type": "stream",
     "text": [
      "./figures/generator_images_Generator_of_Figure_4_a_d/0131_maps.png\n",
      "./figures/generator_images_Generator_of_Figure_4_a_d/0131_maps.svg\n"
     ]
    },
    {
     "name": "stderr",
     "output_type": "stream",
     "text": [
      " 66%|██████▌   | 132/200 [02:18<01:10,  1.04s/it]"
     ]
    },
    {
     "name": "stdout",
     "output_type": "stream",
     "text": [
      "./figures/generator_images_Generator_of_Figure_4_a_d/0132_maps.png\n",
      "./figures/generator_images_Generator_of_Figure_4_a_d/0132_maps.svg\n"
     ]
    },
    {
     "name": "stderr",
     "output_type": "stream",
     "text": [
      " 66%|██████▋   | 133/200 [02:19<01:09,  1.04s/it]"
     ]
    },
    {
     "name": "stdout",
     "output_type": "stream",
     "text": [
      "./figures/generator_images_Generator_of_Figure_4_a_d/0133_maps.png\n",
      "./figures/generator_images_Generator_of_Figure_4_a_d/0133_maps.svg\n"
     ]
    },
    {
     "name": "stderr",
     "output_type": "stream",
     "text": [
      " 67%|██████▋   | 134/200 [02:20<01:08,  1.04s/it]"
     ]
    },
    {
     "name": "stdout",
     "output_type": "stream",
     "text": [
      "./figures/generator_images_Generator_of_Figure_4_a_d/0134_maps.png\n",
      "./figures/generator_images_Generator_of_Figure_4_a_d/0134_maps.svg\n"
     ]
    },
    {
     "name": "stderr",
     "output_type": "stream",
     "text": [
      " 68%|██████▊   | 135/200 [02:21<01:07,  1.05s/it]"
     ]
    },
    {
     "name": "stdout",
     "output_type": "stream",
     "text": [
      "./figures/generator_images_Generator_of_Figure_4_a_d/0135_maps.png\n",
      "./figures/generator_images_Generator_of_Figure_4_a_d/0135_maps.svg\n"
     ]
    },
    {
     "name": "stderr",
     "output_type": "stream",
     "text": [
      " 68%|██████▊   | 136/200 [02:22<01:07,  1.05s/it]"
     ]
    },
    {
     "name": "stdout",
     "output_type": "stream",
     "text": [
      "./figures/generator_images_Generator_of_Figure_4_a_d/0136_maps.png\n",
      "./figures/generator_images_Generator_of_Figure_4_a_d/0136_maps.svg\n"
     ]
    },
    {
     "name": "stderr",
     "output_type": "stream",
     "text": [
      " 68%|██████▊   | 137/200 [02:23<01:06,  1.05s/it]"
     ]
    },
    {
     "name": "stdout",
     "output_type": "stream",
     "text": [
      "./figures/generator_images_Generator_of_Figure_4_a_d/0137_maps.png\n",
      "./figures/generator_images_Generator_of_Figure_4_a_d/0137_maps.svg\n"
     ]
    },
    {
     "name": "stderr",
     "output_type": "stream",
     "text": [
      " 69%|██████▉   | 138/200 [02:24<01:04,  1.05s/it]"
     ]
    },
    {
     "name": "stdout",
     "output_type": "stream",
     "text": [
      "./figures/generator_images_Generator_of_Figure_4_a_d/0138_maps.png\n",
      "./figures/generator_images_Generator_of_Figure_4_a_d/0138_maps.svg\n"
     ]
    },
    {
     "name": "stderr",
     "output_type": "stream",
     "text": [
      " 70%|██████▉   | 139/200 [02:25<01:03,  1.05s/it]"
     ]
    },
    {
     "name": "stdout",
     "output_type": "stream",
     "text": [
      "./figures/generator_images_Generator_of_Figure_4_a_d/0139_maps.png\n",
      "./figures/generator_images_Generator_of_Figure_4_a_d/0139_maps.svg\n"
     ]
    },
    {
     "name": "stderr",
     "output_type": "stream",
     "text": [
      " 70%|███████   | 140/200 [02:26<01:02,  1.05s/it]"
     ]
    },
    {
     "name": "stdout",
     "output_type": "stream",
     "text": [
      "./figures/generator_images_Generator_of_Figure_4_a_d/0140_maps.png\n",
      "./figures/generator_images_Generator_of_Figure_4_a_d/0140_maps.svg\n"
     ]
    },
    {
     "name": "stderr",
     "output_type": "stream",
     "text": [
      " 70%|███████   | 141/200 [02:28<01:12,  1.23s/it]"
     ]
    },
    {
     "name": "stdout",
     "output_type": "stream",
     "text": [
      "./figures/generator_images_Generator_of_Figure_4_a_d/0141_maps.png\n",
      "./figures/generator_images_Generator_of_Figure_4_a_d/0141_maps.svg\n"
     ]
    },
    {
     "name": "stderr",
     "output_type": "stream",
     "text": [
      " 71%|███████   | 142/200 [02:29<01:08,  1.17s/it]"
     ]
    },
    {
     "name": "stdout",
     "output_type": "stream",
     "text": [
      "./figures/generator_images_Generator_of_Figure_4_a_d/0142_maps.png\n",
      "./figures/generator_images_Generator_of_Figure_4_a_d/0142_maps.svg\n"
     ]
    },
    {
     "name": "stderr",
     "output_type": "stream",
     "text": [
      " 72%|███████▏  | 143/200 [02:30<01:04,  1.13s/it]"
     ]
    },
    {
     "name": "stdout",
     "output_type": "stream",
     "text": [
      "./figures/generator_images_Generator_of_Figure_4_a_d/0143_maps.png\n",
      "./figures/generator_images_Generator_of_Figure_4_a_d/0143_maps.svg\n"
     ]
    },
    {
     "name": "stderr",
     "output_type": "stream",
     "text": [
      " 72%|███████▏  | 144/200 [02:31<01:01,  1.10s/it]"
     ]
    },
    {
     "name": "stdout",
     "output_type": "stream",
     "text": [
      "./figures/generator_images_Generator_of_Figure_4_a_d/0144_maps.png\n",
      "./figures/generator_images_Generator_of_Figure_4_a_d/0144_maps.svg\n"
     ]
    },
    {
     "name": "stderr",
     "output_type": "stream",
     "text": [
      " 72%|███████▎  | 145/200 [02:32<00:59,  1.08s/it]"
     ]
    },
    {
     "name": "stdout",
     "output_type": "stream",
     "text": [
      "./figures/generator_images_Generator_of_Figure_4_a_d/0145_maps.png\n",
      "./figures/generator_images_Generator_of_Figure_4_a_d/0145_maps.svg\n"
     ]
    },
    {
     "name": "stderr",
     "output_type": "stream",
     "text": [
      " 73%|███████▎  | 146/200 [02:33<00:57,  1.07s/it]"
     ]
    },
    {
     "name": "stdout",
     "output_type": "stream",
     "text": [
      "./figures/generator_images_Generator_of_Figure_4_a_d/0146_maps.png\n",
      "./figures/generator_images_Generator_of_Figure_4_a_d/0146_maps.svg\n"
     ]
    },
    {
     "name": "stderr",
     "output_type": "stream",
     "text": [
      " 74%|███████▎  | 147/200 [02:34<00:56,  1.06s/it]"
     ]
    },
    {
     "name": "stdout",
     "output_type": "stream",
     "text": [
      "./figures/generator_images_Generator_of_Figure_4_a_d/0147_maps.png\n",
      "./figures/generator_images_Generator_of_Figure_4_a_d/0147_maps.svg\n"
     ]
    },
    {
     "name": "stderr",
     "output_type": "stream",
     "text": [
      " 74%|███████▍  | 148/200 [02:35<00:54,  1.05s/it]"
     ]
    },
    {
     "name": "stdout",
     "output_type": "stream",
     "text": [
      "./figures/generator_images_Generator_of_Figure_4_a_d/0148_maps.png\n",
      "./figures/generator_images_Generator_of_Figure_4_a_d/0148_maps.svg\n"
     ]
    },
    {
     "name": "stderr",
     "output_type": "stream",
     "text": [
      " 74%|███████▍  | 149/200 [02:36<00:53,  1.05s/it]"
     ]
    },
    {
     "name": "stdout",
     "output_type": "stream",
     "text": [
      "./figures/generator_images_Generator_of_Figure_4_a_d/0149_maps.png\n",
      "./figures/generator_images_Generator_of_Figure_4_a_d/0149_maps.svg\n"
     ]
    },
    {
     "name": "stderr",
     "output_type": "stream",
     "text": [
      " 75%|███████▌  | 150/200 [02:37<00:52,  1.04s/it]"
     ]
    },
    {
     "name": "stdout",
     "output_type": "stream",
     "text": [
      "./figures/generator_images_Generator_of_Figure_4_a_d/0150_maps.png\n",
      "./figures/generator_images_Generator_of_Figure_4_a_d/0150_maps.svg\n"
     ]
    },
    {
     "name": "stderr",
     "output_type": "stream",
     "text": [
      " 76%|███████▌  | 151/200 [02:38<00:50,  1.04s/it]"
     ]
    },
    {
     "name": "stdout",
     "output_type": "stream",
     "text": [
      "./figures/generator_images_Generator_of_Figure_4_a_d/0151_maps.png\n",
      "./figures/generator_images_Generator_of_Figure_4_a_d/0151_maps.svg\n"
     ]
    },
    {
     "name": "stderr",
     "output_type": "stream",
     "text": [
      " 76%|███████▌  | 152/200 [02:39<00:49,  1.04s/it]"
     ]
    },
    {
     "name": "stdout",
     "output_type": "stream",
     "text": [
      "./figures/generator_images_Generator_of_Figure_4_a_d/0152_maps.png\n",
      "./figures/generator_images_Generator_of_Figure_4_a_d/0152_maps.svg\n"
     ]
    },
    {
     "name": "stderr",
     "output_type": "stream",
     "text": [
      " 76%|███████▋  | 153/200 [02:40<00:48,  1.03s/it]"
     ]
    },
    {
     "name": "stdout",
     "output_type": "stream",
     "text": [
      "./figures/generator_images_Generator_of_Figure_4_a_d/0153_maps.png\n",
      "./figures/generator_images_Generator_of_Figure_4_a_d/0153_maps.svg\n"
     ]
    },
    {
     "name": "stderr",
     "output_type": "stream",
     "text": [
      " 77%|███████▋  | 154/200 [02:41<00:47,  1.03s/it]"
     ]
    },
    {
     "name": "stdout",
     "output_type": "stream",
     "text": [
      "./figures/generator_images_Generator_of_Figure_4_a_d/0154_maps.png\n",
      "./figures/generator_images_Generator_of_Figure_4_a_d/0154_maps.svg\n"
     ]
    },
    {
     "name": "stderr",
     "output_type": "stream",
     "text": [
      " 78%|███████▊  | 155/200 [02:42<00:46,  1.03s/it]"
     ]
    },
    {
     "name": "stdout",
     "output_type": "stream",
     "text": [
      "./figures/generator_images_Generator_of_Figure_4_a_d/0155_maps.png\n",
      "./figures/generator_images_Generator_of_Figure_4_a_d/0155_maps.svg\n"
     ]
    },
    {
     "name": "stderr",
     "output_type": "stream",
     "text": [
      " 78%|███████▊  | 156/200 [02:43<00:45,  1.03s/it]"
     ]
    },
    {
     "name": "stdout",
     "output_type": "stream",
     "text": [
      "./figures/generator_images_Generator_of_Figure_4_a_d/0156_maps.png\n",
      "./figures/generator_images_Generator_of_Figure_4_a_d/0156_maps.svg\n"
     ]
    },
    {
     "name": "stderr",
     "output_type": "stream",
     "text": [
      " 78%|███████▊  | 157/200 [02:44<00:44,  1.03s/it]"
     ]
    },
    {
     "name": "stdout",
     "output_type": "stream",
     "text": [
      "./figures/generator_images_Generator_of_Figure_4_a_d/0157_maps.png\n",
      "./figures/generator_images_Generator_of_Figure_4_a_d/0157_maps.svg\n"
     ]
    },
    {
     "name": "stderr",
     "output_type": "stream",
     "text": [
      " 79%|███████▉  | 158/200 [02:45<00:43,  1.03s/it]"
     ]
    },
    {
     "name": "stdout",
     "output_type": "stream",
     "text": [
      "./figures/generator_images_Generator_of_Figure_4_a_d/0158_maps.png\n",
      "./figures/generator_images_Generator_of_Figure_4_a_d/0158_maps.svg\n"
     ]
    },
    {
     "name": "stderr",
     "output_type": "stream",
     "text": [
      " 80%|███████▉  | 159/200 [02:46<00:42,  1.03s/it]"
     ]
    },
    {
     "name": "stdout",
     "output_type": "stream",
     "text": [
      "./figures/generator_images_Generator_of_Figure_4_a_d/0159_maps.png\n",
      "./figures/generator_images_Generator_of_Figure_4_a_d/0159_maps.svg\n"
     ]
    },
    {
     "name": "stderr",
     "output_type": "stream",
     "text": [
      " 80%|████████  | 160/200 [02:47<00:41,  1.03s/it]"
     ]
    },
    {
     "name": "stdout",
     "output_type": "stream",
     "text": [
      "./figures/generator_images_Generator_of_Figure_4_a_d/0160_maps.png\n",
      "./figures/generator_images_Generator_of_Figure_4_a_d/0160_maps.svg\n"
     ]
    },
    {
     "name": "stderr",
     "output_type": "stream",
     "text": [
      " 80%|████████  | 161/200 [02:48<00:40,  1.03s/it]"
     ]
    },
    {
     "name": "stdout",
     "output_type": "stream",
     "text": [
      "./figures/generator_images_Generator_of_Figure_4_a_d/0161_maps.png\n",
      "./figures/generator_images_Generator_of_Figure_4_a_d/0161_maps.svg\n"
     ]
    },
    {
     "name": "stderr",
     "output_type": "stream",
     "text": [
      " 81%|████████  | 162/200 [02:49<00:39,  1.03s/it]"
     ]
    },
    {
     "name": "stdout",
     "output_type": "stream",
     "text": [
      "./figures/generator_images_Generator_of_Figure_4_a_d/0162_maps.png\n",
      "./figures/generator_images_Generator_of_Figure_4_a_d/0162_maps.svg\n"
     ]
    },
    {
     "name": "stderr",
     "output_type": "stream",
     "text": [
      " 82%|████████▏ | 163/200 [02:50<00:38,  1.04s/it]"
     ]
    },
    {
     "name": "stdout",
     "output_type": "stream",
     "text": [
      "./figures/generator_images_Generator_of_Figure_4_a_d/0163_maps.png\n",
      "./figures/generator_images_Generator_of_Figure_4_a_d/0163_maps.svg\n"
     ]
    },
    {
     "name": "stderr",
     "output_type": "stream",
     "text": [
      " 82%|████████▏ | 164/200 [02:51<00:37,  1.04s/it]"
     ]
    },
    {
     "name": "stdout",
     "output_type": "stream",
     "text": [
      "./figures/generator_images_Generator_of_Figure_4_a_d/0164_maps.png\n",
      "./figures/generator_images_Generator_of_Figure_4_a_d/0164_maps.svg\n"
     ]
    },
    {
     "name": "stderr",
     "output_type": "stream",
     "text": [
      " 82%|████████▎ | 165/200 [02:53<00:36,  1.04s/it]"
     ]
    },
    {
     "name": "stdout",
     "output_type": "stream",
     "text": [
      "./figures/generator_images_Generator_of_Figure_4_a_d/0165_maps.png\n",
      "./figures/generator_images_Generator_of_Figure_4_a_d/0165_maps.svg\n"
     ]
    },
    {
     "name": "stderr",
     "output_type": "stream",
     "text": [
      " 83%|████████▎ | 166/200 [02:54<00:35,  1.04s/it]"
     ]
    },
    {
     "name": "stdout",
     "output_type": "stream",
     "text": [
      "./figures/generator_images_Generator_of_Figure_4_a_d/0166_maps.png\n",
      "./figures/generator_images_Generator_of_Figure_4_a_d/0166_maps.svg\n"
     ]
    },
    {
     "name": "stderr",
     "output_type": "stream",
     "text": [
      " 84%|████████▎ | 167/200 [02:55<00:34,  1.04s/it]"
     ]
    },
    {
     "name": "stdout",
     "output_type": "stream",
     "text": [
      "./figures/generator_images_Generator_of_Figure_4_a_d/0167_maps.png\n",
      "./figures/generator_images_Generator_of_Figure_4_a_d/0167_maps.svg\n"
     ]
    },
    {
     "name": "stderr",
     "output_type": "stream",
     "text": [
      " 84%|████████▍ | 168/200 [02:56<00:33,  1.04s/it]"
     ]
    },
    {
     "name": "stdout",
     "output_type": "stream",
     "text": [
      "./figures/generator_images_Generator_of_Figure_4_a_d/0168_maps.png\n",
      "./figures/generator_images_Generator_of_Figure_4_a_d/0168_maps.svg\n"
     ]
    },
    {
     "name": "stderr",
     "output_type": "stream",
     "text": [
      " 84%|████████▍ | 169/200 [02:57<00:32,  1.04s/it]"
     ]
    },
    {
     "name": "stdout",
     "output_type": "stream",
     "text": [
      "./figures/generator_images_Generator_of_Figure_4_a_d/0169_maps.png\n",
      "./figures/generator_images_Generator_of_Figure_4_a_d/0169_maps.svg\n"
     ]
    },
    {
     "name": "stderr",
     "output_type": "stream",
     "text": [
      " 85%|████████▌ | 170/200 [02:58<00:31,  1.04s/it]"
     ]
    },
    {
     "name": "stdout",
     "output_type": "stream",
     "text": [
      "./figures/generator_images_Generator_of_Figure_4_a_d/0170_maps.png\n",
      "./figures/generator_images_Generator_of_Figure_4_a_d/0170_maps.svg\n"
     ]
    },
    {
     "name": "stderr",
     "output_type": "stream",
     "text": [
      " 86%|████████▌ | 171/200 [02:59<00:30,  1.04s/it]"
     ]
    },
    {
     "name": "stdout",
     "output_type": "stream",
     "text": [
      "./figures/generator_images_Generator_of_Figure_4_a_d/0171_maps.png\n",
      "./figures/generator_images_Generator_of_Figure_4_a_d/0171_maps.svg\n"
     ]
    },
    {
     "name": "stderr",
     "output_type": "stream",
     "text": [
      " 86%|████████▌ | 172/200 [03:00<00:29,  1.04s/it]"
     ]
    },
    {
     "name": "stdout",
     "output_type": "stream",
     "text": [
      "./figures/generator_images_Generator_of_Figure_4_a_d/0172_maps.png\n",
      "./figures/generator_images_Generator_of_Figure_4_a_d/0172_maps.svg\n"
     ]
    },
    {
     "name": "stderr",
     "output_type": "stream",
     "text": [
      " 86%|████████▋ | 173/200 [03:01<00:27,  1.03s/it]"
     ]
    },
    {
     "name": "stdout",
     "output_type": "stream",
     "text": [
      "./figures/generator_images_Generator_of_Figure_4_a_d/0173_maps.png\n",
      "./figures/generator_images_Generator_of_Figure_4_a_d/0173_maps.svg\n"
     ]
    },
    {
     "name": "stderr",
     "output_type": "stream",
     "text": [
      " 87%|████████▋ | 174/200 [03:02<00:26,  1.03s/it]"
     ]
    },
    {
     "name": "stdout",
     "output_type": "stream",
     "text": [
      "./figures/generator_images_Generator_of_Figure_4_a_d/0174_maps.png\n",
      "./figures/generator_images_Generator_of_Figure_4_a_d/0174_maps.svg\n"
     ]
    },
    {
     "name": "stderr",
     "output_type": "stream",
     "text": [
      " 88%|████████▊ | 175/200 [03:03<00:25,  1.03s/it]"
     ]
    },
    {
     "name": "stdout",
     "output_type": "stream",
     "text": [
      "./figures/generator_images_Generator_of_Figure_4_a_d/0175_maps.png\n",
      "./figures/generator_images_Generator_of_Figure_4_a_d/0175_maps.svg\n"
     ]
    },
    {
     "name": "stderr",
     "output_type": "stream",
     "text": [
      " 88%|████████▊ | 176/200 [03:04<00:24,  1.03s/it]"
     ]
    },
    {
     "name": "stdout",
     "output_type": "stream",
     "text": [
      "./figures/generator_images_Generator_of_Figure_4_a_d/0176_maps.png\n",
      "./figures/generator_images_Generator_of_Figure_4_a_d/0176_maps.svg\n"
     ]
    },
    {
     "name": "stderr",
     "output_type": "stream",
     "text": [
      " 88%|████████▊ | 177/200 [03:05<00:23,  1.04s/it]"
     ]
    },
    {
     "name": "stdout",
     "output_type": "stream",
     "text": [
      "./figures/generator_images_Generator_of_Figure_4_a_d/0177_maps.png\n",
      "./figures/generator_images_Generator_of_Figure_4_a_d/0177_maps.svg\n"
     ]
    },
    {
     "name": "stderr",
     "output_type": "stream",
     "text": [
      " 89%|████████▉ | 178/200 [03:06<00:22,  1.04s/it]"
     ]
    },
    {
     "name": "stdout",
     "output_type": "stream",
     "text": [
      "./figures/generator_images_Generator_of_Figure_4_a_d/0178_maps.png\n",
      "./figures/generator_images_Generator_of_Figure_4_a_d/0178_maps.svg\n"
     ]
    },
    {
     "name": "stderr",
     "output_type": "stream",
     "text": [
      " 90%|████████▉ | 179/200 [03:07<00:21,  1.04s/it]"
     ]
    },
    {
     "name": "stdout",
     "output_type": "stream",
     "text": [
      "./figures/generator_images_Generator_of_Figure_4_a_d/0179_maps.png\n",
      "./figures/generator_images_Generator_of_Figure_4_a_d/0179_maps.svg\n"
     ]
    },
    {
     "name": "stderr",
     "output_type": "stream",
     "text": [
      " 90%|█████████ | 180/200 [03:08<00:20,  1.04s/it]"
     ]
    },
    {
     "name": "stdout",
     "output_type": "stream",
     "text": [
      "./figures/generator_images_Generator_of_Figure_4_a_d/0180_maps.png\n",
      "./figures/generator_images_Generator_of_Figure_4_a_d/0180_maps.svg\n"
     ]
    },
    {
     "name": "stderr",
     "output_type": "stream",
     "text": [
      " 90%|█████████ | 181/200 [03:09<00:19,  1.04s/it]"
     ]
    },
    {
     "name": "stdout",
     "output_type": "stream",
     "text": [
      "./figures/generator_images_Generator_of_Figure_4_a_d/0181_maps.png\n",
      "./figures/generator_images_Generator_of_Figure_4_a_d/0181_maps.svg\n"
     ]
    },
    {
     "name": "stderr",
     "output_type": "stream",
     "text": [
      " 91%|█████████ | 182/200 [03:10<00:18,  1.04s/it]"
     ]
    },
    {
     "name": "stdout",
     "output_type": "stream",
     "text": [
      "./figures/generator_images_Generator_of_Figure_4_a_d/0182_maps.png\n",
      "./figures/generator_images_Generator_of_Figure_4_a_d/0182_maps.svg\n"
     ]
    },
    {
     "name": "stderr",
     "output_type": "stream",
     "text": [
      " 92%|█████████▏| 183/200 [03:11<00:17,  1.04s/it]"
     ]
    },
    {
     "name": "stdout",
     "output_type": "stream",
     "text": [
      "./figures/generator_images_Generator_of_Figure_4_a_d/0183_maps.png\n",
      "./figures/generator_images_Generator_of_Figure_4_a_d/0183_maps.svg\n"
     ]
    },
    {
     "name": "stderr",
     "output_type": "stream",
     "text": [
      " 92%|█████████▏| 184/200 [03:13<00:20,  1.27s/it]"
     ]
    },
    {
     "name": "stdout",
     "output_type": "stream",
     "text": [
      "./figures/generator_images_Generator_of_Figure_4_a_d/0184_maps.png\n",
      "./figures/generator_images_Generator_of_Figure_4_a_d/0184_maps.svg\n"
     ]
    },
    {
     "name": "stderr",
     "output_type": "stream",
     "text": [
      " 92%|█████████▎| 185/200 [03:14<00:17,  1.20s/it]"
     ]
    },
    {
     "name": "stdout",
     "output_type": "stream",
     "text": [
      "./figures/generator_images_Generator_of_Figure_4_a_d/0185_maps.png\n",
      "./figures/generator_images_Generator_of_Figure_4_a_d/0185_maps.svg\n"
     ]
    },
    {
     "name": "stderr",
     "output_type": "stream",
     "text": [
      " 93%|█████████▎| 186/200 [03:15<00:16,  1.15s/it]"
     ]
    },
    {
     "name": "stdout",
     "output_type": "stream",
     "text": [
      "./figures/generator_images_Generator_of_Figure_4_a_d/0186_maps.png\n",
      "./figures/generator_images_Generator_of_Figure_4_a_d/0186_maps.svg\n"
     ]
    },
    {
     "name": "stderr",
     "output_type": "stream",
     "text": [
      " 94%|█████████▎| 187/200 [03:16<00:14,  1.11s/it]"
     ]
    },
    {
     "name": "stdout",
     "output_type": "stream",
     "text": [
      "./figures/generator_images_Generator_of_Figure_4_a_d/0187_maps.png\n",
      "./figures/generator_images_Generator_of_Figure_4_a_d/0187_maps.svg\n"
     ]
    },
    {
     "name": "stderr",
     "output_type": "stream",
     "text": [
      " 94%|█████████▍| 188/200 [03:17<00:13,  1.09s/it]"
     ]
    },
    {
     "name": "stdout",
     "output_type": "stream",
     "text": [
      "./figures/generator_images_Generator_of_Figure_4_a_d/0188_maps.png\n",
      "./figures/generator_images_Generator_of_Figure_4_a_d/0188_maps.svg\n"
     ]
    },
    {
     "name": "stderr",
     "output_type": "stream",
     "text": [
      " 94%|█████████▍| 189/200 [03:18<00:11,  1.07s/it]"
     ]
    },
    {
     "name": "stdout",
     "output_type": "stream",
     "text": [
      "./figures/generator_images_Generator_of_Figure_4_a_d/0189_maps.png\n",
      "./figures/generator_images_Generator_of_Figure_4_a_d/0189_maps.svg\n"
     ]
    },
    {
     "name": "stderr",
     "output_type": "stream",
     "text": [
      " 95%|█████████▌| 190/200 [03:19<00:10,  1.06s/it]"
     ]
    },
    {
     "name": "stdout",
     "output_type": "stream",
     "text": [
      "./figures/generator_images_Generator_of_Figure_4_a_d/0190_maps.png\n",
      "./figures/generator_images_Generator_of_Figure_4_a_d/0190_maps.svg\n"
     ]
    },
    {
     "name": "stderr",
     "output_type": "stream",
     "text": [
      " 96%|█████████▌| 191/200 [03:20<00:09,  1.05s/it]"
     ]
    },
    {
     "name": "stdout",
     "output_type": "stream",
     "text": [
      "./figures/generator_images_Generator_of_Figure_4_a_d/0191_maps.png\n",
      "./figures/generator_images_Generator_of_Figure_4_a_d/0191_maps.svg\n"
     ]
    },
    {
     "name": "stderr",
     "output_type": "stream",
     "text": [
      " 96%|█████████▌| 192/200 [03:21<00:08,  1.04s/it]"
     ]
    },
    {
     "name": "stdout",
     "output_type": "stream",
     "text": [
      "./figures/generator_images_Generator_of_Figure_4_a_d/0192_maps.png\n",
      "./figures/generator_images_Generator_of_Figure_4_a_d/0192_maps.svg\n"
     ]
    },
    {
     "name": "stderr",
     "output_type": "stream",
     "text": [
      " 96%|█████████▋| 193/200 [03:22<00:07,  1.04s/it]"
     ]
    },
    {
     "name": "stdout",
     "output_type": "stream",
     "text": [
      "./figures/generator_images_Generator_of_Figure_4_a_d/0193_maps.png\n",
      "./figures/generator_images_Generator_of_Figure_4_a_d/0193_maps.svg\n"
     ]
    },
    {
     "name": "stderr",
     "output_type": "stream",
     "text": [
      " 97%|█████████▋| 194/200 [03:23<00:06,  1.04s/it]"
     ]
    },
    {
     "name": "stdout",
     "output_type": "stream",
     "text": [
      "./figures/generator_images_Generator_of_Figure_4_a_d/0194_maps.png\n",
      "./figures/generator_images_Generator_of_Figure_4_a_d/0194_maps.svg\n"
     ]
    },
    {
     "name": "stderr",
     "output_type": "stream",
     "text": [
      " 98%|█████████▊| 195/200 [03:24<00:05,  1.03s/it]"
     ]
    },
    {
     "name": "stdout",
     "output_type": "stream",
     "text": [
      "./figures/generator_images_Generator_of_Figure_4_a_d/0195_maps.png\n",
      "./figures/generator_images_Generator_of_Figure_4_a_d/0195_maps.svg\n"
     ]
    },
    {
     "name": "stderr",
     "output_type": "stream",
     "text": [
      " 98%|█████████▊| 196/200 [03:25<00:04,  1.03s/it]"
     ]
    },
    {
     "name": "stdout",
     "output_type": "stream",
     "text": [
      "./figures/generator_images_Generator_of_Figure_4_a_d/0196_maps.png\n",
      "./figures/generator_images_Generator_of_Figure_4_a_d/0196_maps.svg\n"
     ]
    },
    {
     "name": "stderr",
     "output_type": "stream",
     "text": [
      " 98%|█████████▊| 197/200 [03:26<00:03,  1.03s/it]"
     ]
    },
    {
     "name": "stdout",
     "output_type": "stream",
     "text": [
      "./figures/generator_images_Generator_of_Figure_4_a_d/0197_maps.png\n",
      "./figures/generator_images_Generator_of_Figure_4_a_d/0197_maps.svg\n"
     ]
    },
    {
     "name": "stderr",
     "output_type": "stream",
     "text": [
      " 99%|█████████▉| 198/200 [03:27<00:02,  1.03s/it]"
     ]
    },
    {
     "name": "stdout",
     "output_type": "stream",
     "text": [
      "./figures/generator_images_Generator_of_Figure_4_a_d/0198_maps.png\n",
      "./figures/generator_images_Generator_of_Figure_4_a_d/0198_maps.svg\n"
     ]
    },
    {
     "name": "stderr",
     "output_type": "stream",
     "text": [
      "100%|█████████▉| 199/200 [03:28<00:01,  1.03s/it]"
     ]
    },
    {
     "name": "stdout",
     "output_type": "stream",
     "text": [
      "./figures/generator_images_Generator_of_Figure_4_a_d/0199_maps.png\n",
      "./figures/generator_images_Generator_of_Figure_4_a_d/0199_maps.svg\n"
     ]
    },
    {
     "name": "stderr",
     "output_type": "stream",
     "text": [
      "100%|██████████| 200/200 [03:30<00:00,  1.05s/it]\n"
     ]
    }
   ],
   "source": [
    "model.embedding = embedding\n",
    "\n",
    "ranges=[[0,0.018],[0,0.022]]\n",
    "folder_name = 'Generator_of_Figure_4_a_d'\n",
    "\n",
    "viz.generator_images(ranges = ranges, folder_name = folder_name, figsize=(3, 1.25), cbar_number_format = \"%d\", shape_=domain.data.shape)"
   ]
  },
  {
   "attachments": {},
   "cell_type": "markdown",
   "metadata": {},
   "source": [
    "## Builds a Movie"
   ]
  },
  {
   "cell_type": "code",
   "execution_count": 12,
   "metadata": {},
   "outputs": [],
   "source": [
    "folder = \"./figures/generator_images_Generator_of_Figure_4_a_d\"\n",
    "output_folder = \"./movies/\"\n",
    "\n",
    "# function to make the movie\n",
    "make_movie('Domain Wall Generator',\n",
    "           folder,\n",
    "           output_folder,\n",
    "          'png',\n",
    "          3)"
   ]
  },
  {
   "cell_type": "code",
   "execution_count": null,
   "metadata": {},
   "outputs": [],
   "source": []
  }
 ],
 "metadata": {
  "kernelspec": {
   "display_name": "rapidfitting",
   "language": "python",
   "name": "python3"
  },
  "language_info": {
   "codemirror_mode": {
    "name": "ipython",
    "version": 3
   },
   "file_extension": ".py",
   "mimetype": "text/x-python",
   "name": "python",
   "nbconvert_exporter": "python",
   "pygments_lexer": "ipython3",
   "version": "3.9.0"
  },
  "orig_nbformat": 4
 },
 "nbformat": 4,
 "nbformat_minor": 2
}
