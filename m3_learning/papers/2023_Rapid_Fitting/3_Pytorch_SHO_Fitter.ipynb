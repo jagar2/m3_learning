{
 "cells": [
  {
   "attachments": {},
   "cell_type": "markdown",
   "metadata": {},
   "source": [
    "# SHO Fitting in Pytorch"
   ]
  },
  {
   "cell_type": "code",
   "execution_count": 1,
   "metadata": {},
   "outputs": [],
   "source": [
    "import sys\n",
    "sys.path.append('../../')\n",
    "sys.path.append('/home/ferroelectric/m3_learning/m3_learning/src')"
   ]
  },
  {
   "cell_type": "code",
   "execution_count": 2,
   "metadata": {},
   "outputs": [
    {
     "name": "stderr",
     "output_type": "stream",
     "text": [
      "2023-03-31 16:43:56.029422: I tensorflow/core/platform/cpu_feature_guard.cc:193] This TensorFlow binary is optimized with oneAPI Deep Neural Network Library (oneDNN) to use the following CPU instructions in performance-critical operations:  AVX2 FMA\n",
      "To enable them in other operations, rebuild TensorFlow with the appropriate compiler flags.\n",
      "2023-03-31 16:43:56.146241: E tensorflow/stream_executor/cuda/cuda_blas.cc:2981] Unable to register cuBLAS factory: Attempting to register factory for plugin cuBLAS when one has already been registered\n",
      "2023-03-31 16:43:56.582203: W tensorflow/stream_executor/platform/default/dso_loader.cc:64] Could not load dynamic library 'libnvinfer.so.7'; dlerror: libnvinfer.so.7: cannot open shared object file: No such file or directory\n",
      "2023-03-31 16:43:56.582252: W tensorflow/stream_executor/platform/default/dso_loader.cc:64] Could not load dynamic library 'libnvinfer_plugin.so.7'; dlerror: libnvinfer_plugin.so.7: cannot open shared object file: No such file or directory\n",
      "2023-03-31 16:43:56.582257: W tensorflow/compiler/tf2tensorrt/utils/py_utils.cc:38] TF-TRT Warning: Cannot dlopen some TensorRT libraries. If you would like to use Nvidia GPU with TensorRT, please make sure the missing libraries mentioned above are installed properly.\n"
     ]
    }
   ],
   "source": [
    "%load_ext autoreload\n",
    "\n",
    "import os\n",
    "import matplotlib.pyplot as plt\n",
    "import numpy as np\n",
    "import h5py\n",
    "import time\n",
    "\n",
    "import torch\n",
    "import torch.nn as nn\n",
    "from torch.utils.data import DataLoader\n",
    "\n",
    "from scipy.signal import resample\n",
    "from sklearn.preprocessing import StandardScaler\n",
    "from sklearn.model_selection import train_test_split \n",
    "from sklearn.metrics import mean_squared_error\n",
    "\n",
    "from m3_learning.optimizers.AdaHessian import AdaHessian\n",
    "from m3_learning.nn.SHO_fitter.SHO import SHO_fit_func_torch\n",
    "from m3_learning.be.processing import convert_amp_phase, SHO_fit_to_array\n",
    "from m3_learning.util.preprocessing import global_scaler\n",
    "from m3_learning.nn.random import random_seed\n",
    "from m3_learning.nn.benchmarks.inference import computeTime\n",
    "from m3_learning.util.file_IO import make_folder\n",
    "from m3_learning.be.dataset import BE_Dataset\n",
    "from m3_learning.be.nn import SHO_Model, SHO_NN_Model\n",
    "\n",
    "\n",
    "# from m3_learning.viz.printing import printer\n",
    "# printing = printer(basepath = './figures/')"
   ]
  },
  {
   "attachments": {},
   "cell_type": "markdown",
   "metadata": {},
   "source": [
    "## Loads Data"
   ]
  },
  {
   "cell_type": "code",
   "execution_count": 3,
   "metadata": {},
   "outputs": [
    {
     "name": "stdout",
     "output_type": "stream",
     "text": [
      "/\n",
      "├ Measurement_000\n",
      "  ---------------\n",
      "  ├ Channel_000\n",
      "    -----------\n",
      "    ├ Bin_FFT\n",
      "    ├ Bin_Frequencies\n",
      "    ├ Bin_Indices\n",
      "    ├ Bin_Step\n",
      "    ├ Bin_Wfm_Type\n",
      "    ├ Excitation_Waveform\n",
      "    ├ Noise_Floor\n",
      "    ├ Position_Indices\n",
      "    ├ Position_Values\n",
      "    ├ Raw_Data\n",
      "    ├ Spatially_Averaged_Plot_Group_000\n",
      "      ---------------------------------\n",
      "      ├ Bin_Frequencies\n",
      "      ├ Max_Response\n",
      "      ├ Mean_Spectrogram\n",
      "      ├ Min_Response\n",
      "      ├ Spectroscopic_Parameter\n",
      "      ├ Step_Averaged_Response\n",
      "    ├ Spatially_Averaged_Plot_Group_001\n",
      "      ---------------------------------\n",
      "      ├ Bin_Frequencies\n",
      "      ├ Max_Response\n",
      "      ├ Mean_Spectrogram\n",
      "      ├ Min_Response\n",
      "      ├ Spectroscopic_Parameter\n",
      "      ├ Step_Averaged_Response\n",
      "    ├ Spectroscopic_Indices\n",
      "    ├ Spectroscopic_Values\n",
      "    ├ UDVS\n",
      "    ├ UDVS_Indices\n",
      "    ├ complex\n",
      "      -------\n",
      "      ├ imag\n",
      "      ├ imag_resampled\n",
      "      ├ imag_resampled_scaled\n",
      "      ├ real\n",
      "      ├ real_resampled\n",
      "      ├ real_resampled_scaled\n",
      "    ├ magnitude_spectrum\n",
      "      ------------------\n",
      "      ├ amplitude\n",
      "      ├ phase\n",
      "    ├ magnitude_spectrum_resampled\n",
      "      ----------------------------\n",
      "      ├ amplitude\n",
      "      ├ phase\n",
      "    ├ raw_data_resampled\n",
      "├ Raw_Data-SHO_Fit_000\n",
      "  --------------------\n",
      "  ├ Fit\n",
      "  ├ Guess\n",
      "  ├ SHO_fit_scaled\n",
      "  ├ Spectroscopic_Indices\n",
      "  ├ Spectroscopic_Values\n",
      "  ├ completed_fit_positions\n",
      "  ├ completed_guess_positions\n",
      "Datasets and datagroups within the file:\n",
      "------------------------------------\n",
      "/\n",
      "/Measurement_000\n",
      "/Measurement_000/Channel_000\n",
      "/Measurement_000/Channel_000/Bin_FFT\n",
      "/Measurement_000/Channel_000/Bin_Frequencies\n",
      "/Measurement_000/Channel_000/Bin_Indices\n",
      "/Measurement_000/Channel_000/Bin_Step\n",
      "/Measurement_000/Channel_000/Bin_Wfm_Type\n",
      "/Measurement_000/Channel_000/Excitation_Waveform\n",
      "/Measurement_000/Channel_000/Noise_Floor\n",
      "/Measurement_000/Channel_000/Position_Indices\n",
      "/Measurement_000/Channel_000/Position_Values\n",
      "/Measurement_000/Channel_000/Raw_Data\n",
      "/Measurement_000/Channel_000/Spatially_Averaged_Plot_Group_000\n",
      "/Measurement_000/Channel_000/Spatially_Averaged_Plot_Group_000/Bin_Frequencies\n",
      "/Measurement_000/Channel_000/Spatially_Averaged_Plot_Group_000/Max_Response\n",
      "/Measurement_000/Channel_000/Spatially_Averaged_Plot_Group_000/Mean_Spectrogram\n",
      "/Measurement_000/Channel_000/Spatially_Averaged_Plot_Group_000/Min_Response\n",
      "/Measurement_000/Channel_000/Spatially_Averaged_Plot_Group_000/Spectroscopic_Parameter\n",
      "/Measurement_000/Channel_000/Spatially_Averaged_Plot_Group_000/Step_Averaged_Response\n",
      "/Measurement_000/Channel_000/Spatially_Averaged_Plot_Group_001\n",
      "/Measurement_000/Channel_000/Spatially_Averaged_Plot_Group_001/Bin_Frequencies\n",
      "/Measurement_000/Channel_000/Spatially_Averaged_Plot_Group_001/Max_Response\n",
      "/Measurement_000/Channel_000/Spatially_Averaged_Plot_Group_001/Mean_Spectrogram\n",
      "/Measurement_000/Channel_000/Spatially_Averaged_Plot_Group_001/Min_Response\n",
      "/Measurement_000/Channel_000/Spatially_Averaged_Plot_Group_001/Spectroscopic_Parameter\n",
      "/Measurement_000/Channel_000/Spatially_Averaged_Plot_Group_001/Step_Averaged_Response\n",
      "/Measurement_000/Channel_000/Spectroscopic_Indices\n",
      "/Measurement_000/Channel_000/Spectroscopic_Values\n",
      "/Measurement_000/Channel_000/UDVS\n",
      "/Measurement_000/Channel_000/UDVS_Indices\n",
      "/Measurement_000/Channel_000/complex\n",
      "/Measurement_000/Channel_000/complex/imag\n",
      "/Measurement_000/Channel_000/complex/imag_resampled\n",
      "/Measurement_000/Channel_000/complex/imag_resampled_scaled\n",
      "/Measurement_000/Channel_000/complex/real\n",
      "/Measurement_000/Channel_000/complex/real_resampled\n",
      "/Measurement_000/Channel_000/complex/real_resampled_scaled\n",
      "/Measurement_000/Channel_000/magnitude_spectrum\n",
      "/Measurement_000/Channel_000/magnitude_spectrum/amplitude\n",
      "/Measurement_000/Channel_000/magnitude_spectrum/phase\n",
      "/Measurement_000/Channel_000/magnitude_spectrum_resampled\n",
      "/Measurement_000/Channel_000/magnitude_spectrum_resampled/amplitude\n",
      "/Measurement_000/Channel_000/magnitude_spectrum_resampled/phase\n",
      "/Measurement_000/Channel_000/raw_data_resampled\n",
      "/Raw_Data-SHO_Fit_000\n",
      "/Raw_Data-SHO_Fit_000/Fit\n",
      "/Raw_Data-SHO_Fit_000/Guess\n",
      "/Raw_Data-SHO_Fit_000/SHO_fit_scaled\n",
      "/Raw_Data-SHO_Fit_000/Spectroscopic_Indices\n",
      "/Raw_Data-SHO_Fit_000/Spectroscopic_Values\n",
      "/Raw_Data-SHO_Fit_000/completed_fit_positions\n",
      "/Raw_Data-SHO_Fit_000/completed_guess_positions\n",
      "\n",
      "The main dataset:\n",
      "------------------------------------\n",
      "<HDF5 file \"data_file_raw.h5\" (mode r+)>\n",
      "\n",
      "The ancillary datasets:\n",
      "------------------------------------\n",
      "<HDF5 dataset \"Position_Indices\": shape (3600, 2), type \"<u4\">\n",
      "<HDF5 dataset \"Position_Values\": shape (3600, 2), type \"<f4\">\n",
      "<HDF5 dataset \"Spectroscopic_Indices\": shape (4, 63360), type \"<u4\">\n",
      "<HDF5 dataset \"Spectroscopic_Values\": shape (4, 63360), type \"<f4\">\n",
      "\n",
      "Metadata or attributes in a datagroup\n",
      "------------------------------------\n",
      "BE_actual_duration_[s] : 0.004\n",
      "BE_amplitude_[V] : 1\n",
      "BE_auto_smoothing : auto smoothing on\n",
      "BE_band_edge_smoothing_[s] : 4832.1\n",
      "BE_band_edge_trim : 0.094742\n",
      "BE_band_width_[Hz] : 200000\n",
      "BE_bins_per_band : 0\n",
      "BE_center_frequency_[Hz] : 1310000\n",
      "BE_desired_duration_[s] : 0.004\n",
      "BE_phase_content : chirp-sinc hybrid\n",
      "BE_phase_variation : 1\n",
      "BE_points_per_BE_wave : 0\n",
      "BE_repeats : 4\n",
      "FORC_V_high1_[V] : 1\n",
      "FORC_V_high2_[V] : 10\n",
      "FORC_V_low1_[V] : -1\n",
      "FORC_V_low2_[V] : -10\n",
      "FORC_num_of_FORC_cycles : 1\n",
      "FORC_num_of_FORC_repeats : 1\n",
      "File_MDAQ_version : MDAQ_VS_090915_01\n",
      "File_date_and_time : 18-Sep-2015 18:32:14\n",
      "File_file_name : SP128_NSO\n",
      "File_file_path : C:\\Users\\Asylum User\\Documents\\Users\\Agar\\SP128_NSO\\\n",
      "File_file_suffix : 99\n",
      "IO_AO_amplifier : 10\n",
      "IO_AO_range_[V] : +/- 10\n",
      "IO_Analog_Input_1 : +/- .1V, FFT\n",
      "IO_Analog_Input_2 : off\n",
      "IO_Analog_Input_3 : off\n",
      "IO_Analog_Input_4 : off\n",
      "IO_DAQ_platform : NI 6115\n",
      "IO_rate_[Hz] : 4000000\n",
      "VS_amplitude_[V] : 16\n",
      "VS_cycle_fraction : full\n",
      "VS_cycle_phase_shift : 0\n",
      "VS_measure_in_field_loops : in and out-of-field\n",
      "VS_mode : DC modulation mode\n",
      "VS_number_of_cycles : 2\n",
      "VS_offset_[V] : 0\n",
      "VS_read_voltage_[V] : 0\n",
      "VS_set_pulse_amplitude[V] : 0\n",
      "VS_set_pulse_duration[s] : 0.002\n",
      "VS_step_edge_smoothing_[s] : 0.001\n",
      "VS_steps_per_full_cycle : 96\n",
      "data_type : BEPSData\n",
      "grid_/single : grid\n",
      "grid_contact_set_point_[V] : 1\n",
      "grid_current_col : 1\n",
      "grid_current_row : 1\n",
      "grid_cycle_time_[s] : 10\n",
      "grid_measuring : 0\n",
      "grid_moving : 0\n",
      "grid_num_cols : 60\n",
      "grid_num_rows : 60\n",
      "grid_settle_time_[s] : 0.15\n",
      "grid_time_remaining_[h;m;s] : 10\n",
      "grid_total_time_[h;m;s] : 10\n",
      "grid_transit_set_point_[V] : 0.1\n",
      "grid_transit_time_[s] : 0.15\n",
      "num_bins : 165\n",
      "num_pix : 3600\n",
      "num_udvs_steps : 384\n"
     ]
    }
   ],
   "source": [
    "# Sets path to file\n",
    "path = r\"./\"\n",
    "\n",
    "# instantiate the dataset object\n",
    "dataset = BE_Dataset(\"./data_file_raw.h5\", testing=True)\n",
    "\n",
    "# print the contents of the file\n",
    "dataset.print_be_tree()\n",
    "\n",
    "# sets size for resampling\n",
    "dataset.resample_bins = 80"
   ]
  },
  {
   "cell_type": "code",
   "execution_count": 4,
   "metadata": {},
   "outputs": [],
   "source": [
    "# # create a list for parameters\n",
    "# fit_results_list = SHO_fit_to_array(h5_f[\"Measurement_000\"][\"Channel_000\"][\"Raw_Data-SHO_Fit_000\"][\"Fit\"])\n",
    "\n",
    "# # flatten parameters list into numpy array\n",
    "# fit_results_list = np.array(fit_results_list).reshape(num_pix, voltage_steps, 5)\n",
    "\n",
    "# # exclude the R2 parameter\n",
    "# params = fit_results_list.reshape(-1, 5)[:, 0:4]\n",
    "\n",
    "# # scale the parameters (now takes only 4 parameters, excluding the R2)\n",
    "# params_scaler = StandardScaler()\n",
    "# scaled_params = params_scaler.fit_transform(fit_results_list.reshape(-1, 5)[:, 0:4])"
   ]
  },
  {
   "attachments": {},
   "cell_type": "markdown",
   "metadata": {},
   "source": [
    "## Testing the Torch Function\n",
    "\n",
    "The function for a simple-harmonic oscillator needs to be recast in PyTorch. Here we prove that the PyTorch function is implemented identically to the Numpy model. \n",
    "\n",
    "Note: This uses the results from the least squares fitting LSQF results. "
   ]
  },
  {
   "cell_type": "code",
   "execution_count": 5,
   "metadata": {},
   "outputs": [],
   "source": [
    "_ = dataset.complex_spectrum_real_resampled_scaled\n",
    "_ = dataset.complex_spectrum_imag_resampled_scaled"
   ]
  },
  {
   "cell_type": "code",
   "execution_count": 6,
   "metadata": {},
   "outputs": [
    {
     "name": "stdout",
     "output_type": "stream",
     "text": [
      "spectra number 1437\n"
     ]
    },
    {
     "data": {
      "image/png": "[encoded data removed]",
      "text/plain": [
       "<Figure size 1200x600 with 3 Axes>"
      ]
     },
     "metadata": {},
     "output_type": "display_data"
    }
   ],
   "source": [
    "dataset.LSQF_torch_function_comparison()"
   ]
  },
  {
   "attachments": {},
   "cell_type": "markdown",
   "metadata": {},
   "source": [
    "## Pytorch Model\n",
    "\n",
    "### Model Architecture"
   ]
  },
  {
   "attachments": {},
   "cell_type": "markdown",
   "metadata": {},
   "source": [
    "![](Assets\\Figures\\model_architecture_sho.png)"
   ]
  },
  {
   "attachments": {},
   "cell_type": "markdown",
   "metadata": {},
   "source": [
    "### Builds the Model"
   ]
  },
  {
   "cell_type": "code",
   "execution_count": 7,
   "metadata": {},
   "outputs": [],
   "source": [
    "SHO_nn = SHO_Model(dataset)"
   ]
  },
  {
   "cell_type": "code",
   "execution_count": 8,
   "metadata": {},
   "outputs": [],
   "source": [
    "# class SHO_Model(nn.Module):\n",
    "#     def __init__(self):\n",
    "#         super().__init__()\n",
    "\n",
    "#         # Input block of 1d convolution\n",
    "#         self.hidden_x1 = nn.Sequential(\n",
    "#             nn.Conv1d(in_channels=2, out_channels=8, kernel_size=7),\n",
    "#             nn.SELU(),\n",
    "#             nn.Conv1d(in_channels=8, out_channels=6, kernel_size=7),\n",
    "#             nn.SELU(),\n",
    "#             nn.Conv1d(in_channels=6, out_channels=4, kernel_size=5),\n",
    "#             nn.SELU(),\n",
    "#         )\n",
    "\n",
    "#         # fully connected block\n",
    "#         self.hidden_xfc = nn.Sequential(\n",
    "#             nn.Linear(256, 20),\n",
    "#             nn.SELU(),\n",
    "#             nn.Linear(20, 20),\n",
    "#             nn.SELU(),\n",
    "#         )\n",
    "\n",
    "#         # 2nd block of 1d-conv layers\n",
    "#         self.hidden_x2 = nn.Sequential(\n",
    "#             nn.MaxPool1d(kernel_size=2),\n",
    "#             nn.Conv1d(in_channels=2, out_channels=4, kernel_size=5),\n",
    "#             nn.SELU(),\n",
    "#             nn.Conv1d(in_channels=4, out_channels=4, kernel_size=5),\n",
    "#             nn.SELU(),\n",
    "#             nn.Conv1d(in_channels=4, out_channels=4, kernel_size=5),\n",
    "#             nn.SELU(),\n",
    "#             nn.Conv1d(in_channels=4, out_channels=4, kernel_size=5),\n",
    "#             nn.SELU(),\n",
    "#             nn.Conv1d(in_channels=4, out_channels=4, kernel_size=5),\n",
    "#             nn.SELU(),\n",
    "#             nn.Conv1d(in_channels=4, out_channels=4, kernel_size=5),\n",
    "#             nn.SELU(),\n",
    "#             nn.AvgPool1d(kernel_size=2),\n",
    "#             nn.Conv1d(in_channels=4, out_channels=2, kernel_size=3),\n",
    "#             nn.SELU(),\n",
    "#             nn.AvgPool1d(kernel_size=2),\n",
    "#             nn.Conv1d(in_channels=2, out_channels=2, kernel_size=3),\n",
    "#             nn.SELU(),\n",
    "#             nn.AvgPool1d(kernel_size=2),\n",
    "#         )\n",
    "\n",
    "#         # Flatten layer\n",
    "#         self.flatten_layer = nn.Flatten()\n",
    "\n",
    "#         # Final embedding block - Output 4 values - linear\n",
    "#         self.hidden_embedding = nn.Sequential(\n",
    "#             nn.Linear(26, 16),\n",
    "#             nn.SELU(),\n",
    "#             nn.Linear(16, 8),\n",
    "#             nn.SELU(),\n",
    "#             nn.Linear(8, 4),\n",
    "#         )\n",
    "\n",
    "#     def forward(self, x, n=-1):\n",
    "#         x = torch.swapaxes(x, 1, 2)  # output shape - samples, (real, imag), frequency\n",
    "#         x = self.hidden_x1(x)\n",
    "#         xfc = torch.reshape(x, (n, 256))  # batch size, features\n",
    "#         xfc = self.hidden_xfc(xfc)\n",
    "#         x = torch.reshape(x, (n, 2, 128))  # batch size, (real, imag), timesteps\n",
    "#         x = self.hidden_x2(x)\n",
    "#         cnn_flat = self.flatten_layer(x)\n",
    "#         encoded = torch.cat((cnn_flat, xfc), 1)  # merge dense and 1d conv.\n",
    "#         embedding = self.hidden_embedding(encoded)  # output is 4 parameters\n",
    "\n",
    "#         # corrects the scaling of the parameters\n",
    "#         unscaled_param = (\n",
    "#             embedding * torch.tensor(params_scaler.var_[0:4] ** 0.5).cuda()\n",
    "#             + torch.tensor(params_scaler.mean_[0:4]).cuda()\n",
    "#         )\n",
    "\n",
    "#         # passes to the pytorch fitting function\n",
    "#         fits = SHO_fit_func_torch(unscaled_param, wvec_freq, device=\"cuda\")\n",
    "\n",
    "#         # extract and return real and imaginary\n",
    "#         real = torch.real(fits)\n",
    "#         real_scaled = (real - torch.tensor(scaler_real.mean).cuda()) / torch.tensor(\n",
    "#             scaler_real.std\n",
    "#         ).cuda()\n",
    "#         imag = torch.imag(fits)\n",
    "#         imag_scaled = (imag - torch.tensor(scaler_imag.mean).cuda()) / torch.tensor(\n",
    "#             scaler_imag.std\n",
    "#         ).cuda()\n",
    "#         out = torch.stack((real_scaled, imag_scaled), 2)\n",
    "#         return out"
   ]
  },
  {
   "attachments": {},
   "cell_type": "markdown",
   "metadata": {},
   "source": [
    "### Test/Train Split"
   ]
  },
  {
   "cell_type": "code",
   "execution_count": 9,
   "metadata": {},
   "outputs": [],
   "source": [
    "# builds the test train split for the data\n",
    "data_train, data_test, params_train, params_test = train_test_split(\n",
    "    dataset.nn_raw_input, dataset.SHO_params_scaled, test_size=0.7, random_state=42\n",
    ")\n",
    "\n",
    "# conduct the inverse transform to get the original data\n",
    "params_test_unscaled = dataset.nn_parms_scalar.inverse_transform(params_test)\n"
   ]
  },
  {
   "cell_type": "markdown",
   "metadata": {},
   "source": [
    "### Training"
   ]
  },
  {
   "cell_type": "code",
   "execution_count": 10,
   "metadata": {},
   "outputs": [
    {
     "name": "stdout",
     "output_type": "stream",
     "text": [
      "SHO_Model(\n",
      "  (hidden_x1): Sequential(\n",
      "    (0): Conv1d(2, 8, kernel_size=(7,), stride=(1,))\n",
      "    (1): SELU()\n",
      "    (2): Conv1d(8, 6, kernel_size=(7,), stride=(1,))\n",
      "    (3): SELU()\n",
      "    (4): Conv1d(6, 4, kernel_size=(5,), stride=(1,))\n",
      "    (5): SELU()\n",
      "  )\n",
      "  (hidden_xfc): Sequential(\n",
      "    (0): Linear(in_features=256, out_features=20, bias=True)\n",
      "    (1): SELU()\n",
      "    (2): Linear(in_features=20, out_features=20, bias=True)\n",
      "    (3): SELU()\n",
      "  )\n",
      "  (hidden_x2): Sequential(\n",
      "    (0): MaxPool1d(kernel_size=2, stride=2, padding=0, dilation=1, ceil_mode=False)\n",
      "    (1): Conv1d(2, 4, kernel_size=(5,), stride=(1,))\n",
      "    (2): SELU()\n",
      "    (3): Conv1d(4, 4, kernel_size=(5,), stride=(1,))\n",
      "    (4): SELU()\n",
      "    (5): Conv1d(4, 4, kernel_size=(5,), stride=(1,))\n",
      "    (6): SELU()\n",
      "    (7): Conv1d(4, 4, kernel_size=(5,), stride=(1,))\n",
      "    (8): SELU()\n",
      "    (9): Conv1d(4, 4, kernel_size=(5,), stride=(1,))\n",
      "    (10): SELU()\n",
      "    (11): Conv1d(4, 4, kernel_size=(5,), stride=(1,))\n",
      "    (12): SELU()\n",
      "    (13): AvgPool1d(kernel_size=(2,), stride=(2,), padding=(0,))\n",
      "    (14): Conv1d(4, 2, kernel_size=(3,), stride=(1,))\n",
      "    (15): SELU()\n",
      "    (16): AvgPool1d(kernel_size=(2,), stride=(2,), padding=(0,))\n",
      "    (17): Conv1d(2, 2, kernel_size=(3,), stride=(1,))\n",
      "    (18): SELU()\n",
      "    (19): AvgPool1d(kernel_size=(2,), stride=(2,), padding=(0,))\n",
      "  )\n",
      "  (flatten_layer): Flatten(start_dim=1, end_dim=-1)\n",
      "  (hidden_embedding): Sequential(\n",
      "    (0): Linear(in_features=26, out_features=16, bias=True)\n",
      "    (1): SELU()\n",
      "    (2): Linear(in_features=16, out_features=8, bias=True)\n",
      "    (3): SELU()\n",
      "    (4): Linear(in_features=8, out_features=4, bias=True)\n",
      "  )\n",
      ")\n"
     ]
    }
   ],
   "source": [
    "# sets the model and DataType\n",
    "model = SHO_nn.cuda().double()\n",
    "\n",
    "# views the structure of the model\n",
    "print(model)"
   ]
  },
  {
   "cell_type": "code",
   "execution_count": 11,
   "metadata": {},
   "outputs": [
    {
     "data": {
      "text/plain": [
       "'./Trained Models/SHO Fitter/'"
      ]
     },
     "execution_count": 11,
     "metadata": {},
     "output_type": "execute_result"
    }
   ],
   "source": [
    "make_folder(f\"{path}Trained Models/SHO Fitter/\")"
   ]
  },
  {
   "cell_type": "code",
   "execution_count": 12,
   "metadata": {},
   "outputs": [
    {
     "name": "stdout",
     "output_type": "stream",
     "text": [
      "Pytorch seed was set to 42\n",
      "Numpy seed was set to 42\n",
      "tensorflow seed was set to 42\n"
     ]
    },
    {
     "name": "stderr",
     "output_type": "stream",
     "text": [
      "/home/ferroelectric/anaconda3/envs/rapidfitting/lib/python3.9/site-packages/torch/autograd/__init__.py:204: UserWarning: Using backward() with create_graph=True will create a reference cycle between the parameter and its gradient which can cause a memory leak. We recommend using autograd.grad when creating the graph to avoid this. If you have to use this function, make sure to reset the .grad fields of your parameters to None after use to break the cycle and avoid the leak. (Triggered internally at ../torch/csrc/autograd/engine.cpp:1146.)\n",
      "  Variable._execution_engine.run_backward(  # Calls into the C++ engine to run the backward pass\n"
     ]
    },
    {
     "name": "stdout",
     "output_type": "stream",
     "text": [
      "epoch : 1/5, recon loss = 0.08085177\n",
      "--- 17.483638048171997 seconds ---\n",
      "epoch : 2/5, recon loss = 0.04338132\n",
      "--- 16.414397954940796 seconds ---\n",
      "epoch : 3/5, recon loss = 0.04285308\n",
      "--- 16.49321484565735 seconds ---\n",
      "epoch : 4/5, recon loss = 0.04264083\n",
      "--- 16.521382808685303 seconds ---\n",
      "epoch : 5/5, recon loss = 0.04251909\n",
      "--- 16.15168070793152 seconds ---\n"
     ]
    }
   ],
   "source": [
    "nn_ = SHO_NN_Model(model)\n",
    "\n",
    "nn_.train(data_train, 200)"
   ]
  },
  {
   "attachments": {},
   "cell_type": "markdown",
   "metadata": {},
   "source": [
    "### Calculate Inference Time"
   ]
  },
  {
   "cell_type": "code",
   "execution_count": 13,
   "metadata": {},
   "outputs": [
    {
     "name": "stdout",
     "output_type": "stream",
     "text": [
      "Avg execution time (ms): 0.007041\n"
     ]
    }
   ],
   "source": [
    "\n",
    "nn_.inference_calculator(data_train)\n",
    "\n"
   ]
  },
  {
   "attachments": {},
   "cell_type": "markdown",
   "metadata": {},
   "source": [
    "### Validation Reconstruction"
   ]
  },
  {
   "cell_type": "code",
   "execution_count": 13,
   "metadata": {},
   "outputs": [],
   "source": [
    "# prediction of reconstructions\n",
    "batch_size = 10000\n",
    "train_dataloader = DataLoader(data_test, batch_size=batch_size)\n",
    "\n",
    "# preallocate the predictions\n",
    "num_elements = len(train_dataloader.dataset)\n",
    "num_batches = len(train_dataloader)\n",
    "predictions = torch.zeros_like(torch.tensor(data_test))\n",
    "\n",
    "# compute the predictions\n",
    "for i, train_batch in enumerate(train_dataloader):\n",
    "    start = i * batch_size\n",
    "    end = start + batch_size\n",
    "\n",
    "    if i == num_batches - 1:\n",
    "        end = num_elements\n",
    "\n",
    "    pred_batch = model(train_batch.double().cuda())\n",
    "    predictions[start:end] = pred_batch.cpu().detach()\n",
    "\n",
    "    del pred_batch\n",
    "    del train_batch\n",
    "    torch.cuda.empty_cache()"
   ]
  },
  {
   "cell_type": "code",
   "execution_count": 14,
   "metadata": {},
   "outputs": [],
   "source": [
    "# save the predictions into a file\n",
    "h5_f.create_dataset(\"predictions\", data=predictions)\n",
    "h5_f.close()"
   ]
  },
  {
   "cell_type": "code",
   "execution_count": null,
   "metadata": {},
   "outputs": [],
   "source": []
  }
 ],
 "metadata": {
  "kernelspec": {
   "display_name": "rapidfitting",
   "language": "python",
   "name": "python3"
  },
  "language_info": {
   "codemirror_mode": {
    "name": "ipython",
    "version": 3
   },
   "file_extension": ".py",
   "mimetype": "text/x-python",
   "name": "python",
   "nbconvert_exporter": "python",
   "pygments_lexer": "ipython3",
   "version": "3.9.0"
  },
  "orig_nbformat": 4,
  "vscode": {
   "interpreter": {
    "hash": "b88dbc8072abb6ef9a30839cda5b7a1baf9f1401fa4b52ed02da9e59e44435e3"
   }
  }
 },
 "nbformat": 4,
 "nbformat_minor": 2
}
