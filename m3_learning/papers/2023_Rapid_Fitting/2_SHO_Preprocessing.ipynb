{
 "cells": [
  {
   "cell_type": "markdown",
   "id": "e7711a85",
   "metadata": {},
   "source": [
    "## Import Packages"
   ]
  },
  {
   "cell_type": "code",
   "execution_count": 1,
   "id": "6ec9c022",
   "metadata": {},
   "outputs": [],
   "source": [
    "import sys\n",
    "sys.path.append('../../')"
   ]
  },
  {
   "cell_type": "code",
   "execution_count": 2,
   "id": "32dfa529",
   "metadata": {},
   "outputs": [
    {
     "ename": "ModuleNotFoundError",
     "evalue": "No module named 'm3_learning'",
     "output_type": "error",
     "traceback": [
      "\u001b[0;31m---------------------------------------------------------------------------\u001b[0m",
      "\u001b[0;31mModuleNotFoundError\u001b[0m                       Traceback (most recent call last)",
      "Cell \u001b[0;32mIn[2], line 7\u001b[0m\n\u001b[1;32m      3\u001b[0m \u001b[39mimport\u001b[39;00m \u001b[39mnumpy\u001b[39;00m \u001b[39mas\u001b[39;00m \u001b[39mnp\u001b[39;00m\n\u001b[1;32m      5\u001b[0m \u001b[39mimport\u001b[39;00m \u001b[39mmatplotlib\u001b[39;00m\u001b[39m.\u001b[39;00m\u001b[39mpyplot\u001b[39;00m \u001b[39mas\u001b[39;00m \u001b[39mplt\u001b[39;00m\n\u001b[0;32m----> 7\u001b[0m \u001b[39mfrom\u001b[39;00m \u001b[39msrc\u001b[39;00m\u001b[39m.\u001b[39;00m\u001b[39mm3_learning\u001b[39;00m\u001b[39m.\u001b[39;00m\u001b[39mbe\u001b[39;00m\u001b[39m.\u001b[39;00m\u001b[39mutil\u001b[39;00m \u001b[39mimport\u001b[39;00m print_be_tree\n\u001b[1;32m      8\u001b[0m \u001b[39mfrom\u001b[39;00m \u001b[39msrc\u001b[39;00m\u001b[39m.\u001b[39;00m\u001b[39mm3_learning\u001b[39;00m\u001b[39m.\u001b[39;00m\u001b[39mbe\u001b[39;00m\u001b[39m.\u001b[39;00m\u001b[39mprocessing\u001b[39;00m \u001b[39mimport\u001b[39;00m convert_amp_phase\n\u001b[1;32m      9\u001b[0m \u001b[39mfrom\u001b[39;00m \u001b[39msrc\u001b[39;00m\u001b[39m.\u001b[39;00m\u001b[39mm3_learning\u001b[39;00m\u001b[39m.\u001b[39;00m\u001b[39mutil\u001b[39;00m\u001b[39m.\u001b[39;00m\u001b[39mh5_util\u001b[39;00m \u001b[39mimport\u001b[39;00m make_dataset, make_group\n",
      "File \u001b[0;32m~/m3_learning/m3_learning/src/__init__.py:1\u001b[0m\n\u001b[0;32m----> 1\u001b[0m \u001b[39mfrom\u001b[39;00m \u001b[39m.\u001b[39;00m \u001b[39mimport\u001b[39;00m m3_learning\n",
      "File \u001b[0;32m~/m3_learning/m3_learning/src/m3_learning/__init__.py:2\u001b[0m\n\u001b[1;32m      1\u001b[0m \u001b[39mfrom\u001b[39;00m \u001b[39m.\u001b[39;00m \u001b[39mimport\u001b[39;00m util\n\u001b[0;32m----> 2\u001b[0m \u001b[39mfrom\u001b[39;00m \u001b[39m.\u001b[39;00m \u001b[39mimport\u001b[39;00m viz\n\u001b[1;32m      3\u001b[0m \u001b[39mfrom\u001b[39;00m \u001b[39m.\u001b[39;00m \u001b[39mimport\u001b[39;00m nn\n\u001b[1;32m      4\u001b[0m \u001b[39mfrom\u001b[39;00m \u001b[39m.\u001b[39;00m \u001b[39mimport\u001b[39;00m be\n",
      "File \u001b[0;32m~/m3_learning/m3_learning/src/m3_learning/viz/__init__.py:3\u001b[0m\n\u001b[1;32m      1\u001b[0m \u001b[39mfrom\u001b[39;00m \u001b[39m.\u001b[39;00m \u001b[39mimport\u001b[39;00m layout\n\u001b[1;32m      2\u001b[0m \u001b[39mfrom\u001b[39;00m \u001b[39m.\u001b[39;00m \u001b[39mimport\u001b[39;00m style\n\u001b[0;32m----> 3\u001b[0m \u001b[39mfrom\u001b[39;00m \u001b[39m.\u001b[39;00m \u001b[39mimport\u001b[39;00m printing\n",
      "File \u001b[0;32m~/m3_learning/m3_learning/src/m3_learning/viz/printing.py:2\u001b[0m\n\u001b[1;32m      1\u001b[0m \u001b[39mimport\u001b[39;00m \u001b[39mmatplotlib\u001b[39;00m\u001b[39m.\u001b[39;00m\u001b[39mpyplot\u001b[39;00m \u001b[39mas\u001b[39;00m \u001b[39mplt\u001b[39;00m\n\u001b[0;32m----> 2\u001b[0m \u001b[39mfrom\u001b[39;00m \u001b[39mm3_learning\u001b[39;00m\u001b[39m.\u001b[39;00m\u001b[39mutil\u001b[39;00m\u001b[39m.\u001b[39;00m\u001b[39mfile_IO\u001b[39;00m \u001b[39mimport\u001b[39;00m make_folder\n\u001b[1;32m      5\u001b[0m \u001b[39mclass\u001b[39;00m \u001b[39mprinter\u001b[39;00m:\n\u001b[1;32m      6\u001b[0m \u001b[39m    \u001b[39m\u001b[39m\"\"\"Class to save figures to a folder\"\"\"\u001b[39;00m\n",
      "\u001b[0;31mModuleNotFoundError\u001b[0m: No module named 'm3_learning'"
     ]
    }
   ],
   "source": [
    "%load_ext autoreload\n",
    "import h5py\n",
    "import numpy as np\n",
    "\n",
    "import matplotlib.pyplot as plt\n",
    "\n",
    "from src.m3_learning.be.util import print_be_tree\n",
    "from src.m3_learning.be.processing import convert_amp_phase\n",
    "from src.m3_learning.util.h5_util import make_dataset, make_group\n",
    "from src.m3_learning.util.preprocessing import global_scaler\n",
    "from scipy.signal import resample\n",
    "from sklearn.preprocessing import StandardScaler\n",
    "from src.m3_learning.util.file_IO import make_folder\n",
    "from src.m3_learning.be.processing import SHO_fit_to_array\n",
    "from src.m3_learning.viz.printing import printer\n",
    "printing = printer(basepath = './figures/')\n",
    "\n",
    "%matplotlib inline"
   ]
  },
  {
   "cell_type": "code",
   "execution_count": null,
   "id": "23db989b",
   "metadata": {},
   "outputs": [],
   "source": [
    "# Sets path to file\n",
    "path = r\"./\""
   ]
  },
  {
   "cell_type": "code",
   "execution_count": null,
   "id": "24920f29",
   "metadata": {},
   "outputs": [],
   "source": [
    "print_be_tree(path + \"data_file.h5\")"
   ]
  },
  {
   "cell_type": "markdown",
   "id": "8be02611",
   "metadata": {},
   "source": [
    "### Extract Data"
   ]
  },
  {
   "cell_type": "code",
   "execution_count": null,
   "id": "6a4ae14a",
   "metadata": {},
   "outputs": [],
   "source": [
    "# Opens the data file\n",
    "h5_f = h5py.File(path + \"data_file.h5\", \"r+\")\n",
    "\n",
    "# number of samples per SHO fit\n",
    "num_bins = h5_f[\"Measurement_000\"].attrs[\"num_bins\"]\n",
    "\n",
    "# number of pixels in the image\n",
    "num_pix = h5_f[\"Measurement_000\"].attrs[\"num_pix\"]\n",
    "\n",
    "# number of pixels in x and y dimensions\n",
    "num_pix_1d = int(np.sqrt(num_pix))\n",
    "\n",
    "# number of DC voltage steps\n",
    "voltage_steps = h5_f[\"Measurement_000\"].attrs[\"num_udvs_steps\"]\n",
    "\n",
    "# Frequency Vector in Hz\n",
    "frequency_bin = h5_f[\"Measurement_000\"][\"Channel_000\"][\"Bin_Frequencies\"][:]\n",
    "\n",
    "# Resampled frequency vector\n",
    "wvec_freq = resample(frequency_bin, 80)\n",
    "\n",
    "# extracting spectroscopic values\n",
    "spectroscopic_values = h5_f[\"Measurement_000\"][\"Channel_000\"][\"Spectroscopic_Values\"]\n",
    "\n",
    "# # extract the real and imaginary components\n",
    "real = h5_f[\"Measurement_000\"][\"Channel_000\"]['complex']['real'][:]\n",
    "imag = h5_f[\"Measurement_000\"][\"Channel_000\"]['complex']['imag'][:]"
   ]
  },
  {
   "attachments": {},
   "cell_type": "markdown",
   "id": "29314067",
   "metadata": {},
   "source": [
    "### Resampling"
   ]
  },
  {
   "cell_type": "code",
   "execution_count": null,
   "id": "25121604",
   "metadata": {},
   "outputs": [],
   "source": [
    "# resamples the real and imaginary components\n",
    "real_resample = resample(real.reshape(num_pix, -1, num_bins), 80, axis=2)\n",
    "imag_resample = resample(imag.reshape(num_pix, -1, num_bins), 80, axis=2)\n",
    "\n",
    "# resamples the raw data\n",
    "raw_data_resample = resample(np.array(h5_f[\"Measurement_000\"][\"Channel_000\"][\"Raw_Data\"]).reshape(-1, 165), 80, axis=1)\n",
    "\n",
    "# resamples the amplitude values\n",
    "amp_resample, phase_resample = convert_amp_phase(raw_data_resample)\n",
    "\n",
    "# makes a new object in the h5 file to store the resampled data\n",
    "make_group(h5_f[\"Measurement_000\"][\"Channel_000\"], 'magn_spec_resample')\n",
    "\n",
    "# adds the resampled data to the h5 file\n",
    "make_dataset(h5_f[\"Measurement_000\"][\"Channel_000\"], 'raw_data_resample', raw_data_resample)\n",
    "make_dataset(h5_f[\"Measurement_000\"][\"Channel_000\"]['complex'], 'real_resample', real_resample)\n",
    "make_dataset(h5_f[\"Measurement_000\"][\"Channel_000\"]['complex'], 'imag_resample', imag_resample)\n",
    "make_dataset(h5_f[\"Measurement_000\"][\"Channel_000\"]['magn_spec_resample'], 'amp_resample', amp_resample)\n",
    "make_dataset(h5_f[\"Measurement_000\"][\"Channel_000\"]['magn_spec_resample'], 'phase_resample', phase_resample)"
   ]
  },
  {
   "cell_type": "markdown",
   "id": "fa53bd44",
   "metadata": {
    "id": "N-5q_r8AV_nO"
   },
   "source": [
    "## Visualizing Input Data\n"
   ]
  },
  {
   "cell_type": "markdown",
   "id": "36c3fa62",
   "metadata": {
    "id": "cBHpl8Aseu3Y"
   },
   "source": [
    "### Comparison of original and resampled data\n"
   ]
  },
  {
   "cell_type": "code",
   "execution_count": null,
   "id": "9b5482ef",
   "metadata": {
    "colab": {
     "base_uri": "https://localhost:8080/",
     "height": 441
    },
    "id": "74BkRHA7YDQJ",
    "outputId": "f65da885-bf15-494c-bd61-48cee777a166"
   },
   "outputs": [],
   "source": [
    "# makes the folder\n",
    "make_folder(f\"{path}Assets/Figures/\")\n",
    "\n",
    "# generates random pixel position and timestep\n",
    "pixel = np.random.randint(\n",
    "    0, h5_f[\"Measurement_000\"][\"Channel_000\"]['complex']['real'].shape[0])\n",
    "timestep = np.random.randint(\n",
    "    0, h5_f[\"Measurement_000\"][\"Channel_000\"]['complex']['real'].shape[1]) // num_bins\n",
    "\n",
    "# plot real and imaginary components of resampled data\n",
    "fig, axs = plt.subplots(nrows=1, ncols=2, figsize=(12, 6))\n",
    "\n",
    "# axs[0].set_title('Magnitude/Phase representation')\n",
    "axs[0].plot(\n",
    "    frequency_bin,\n",
    "    h5_f[\"Measurement_000\"][\"Channel_000\"]['magn_spec']['amp'][pixel].reshape(-1, num_bins)[\n",
    "        timestep],\n",
    "    label=\"amplitude\",\n",
    "    color=\"b\",\n",
    ")\n",
    "axs[0].plot(\n",
    "    wvec_freq,\n",
    "    h5_f[\"Measurement_000\"][\"Channel_000\"]['magn_spec_resample']['amp_resample'][:].reshape(\n",
    "        num_pix, voltage_steps, -1)[pixel, timestep],\n",
    "    \"o\",\n",
    "    label=\"amplitude resampled\",\n",
    "    color=\"b\",\n",
    ")\n",
    "axs[0].set(xlabel=\"Frequency (Hz)\", ylabel=\"Amplitude (Arb. U.)\")\n",
    "ax2 = axs[0].twinx()\n",
    "ax2.plot(\n",
    "    frequency_bin,\n",
    "    h5_f[\"Measurement_000\"][\"Channel_000\"]['magn_spec']['phase'][pixel].reshape(\n",
    "        -1, num_bins)[timestep],\n",
    "    label=\"phase\",\n",
    "    color=\"r\",\n",
    ")\n",
    "ax2.plot(\n",
    "    wvec_freq,\n",
    "    h5_f[\"Measurement_000\"][\"Channel_000\"]['magn_spec_resample']['phase_resample'][:].reshape(\n",
    "        num_pix, voltage_steps, -1)[pixel, timestep],\n",
    "    \"o\",\n",
    "    label=\"phase resampled\",\n",
    "    color=\"r\",\n",
    ")\n",
    "ax2.set(xlabel=\"Frequency (Hz)\", ylabel=\"Phase (rad)\")\n",
    "\n",
    "# axs[1].set_title('Real and Imaginary')\n",
    "axs[1].plot(wvec_freq, real_resample[pixel, timestep],\n",
    "            \"s\", color='b', label=\"Real Resample\")\n",
    "\n",
    "axs[1].plot(frequency_bin, h5_f[\"Measurement_000\"][\"Channel_000\"]['complex']\n",
    "            ['real'][pixel].reshape(-1, num_bins)[timestep], label=\"Real\", color='b')\n",
    "\n",
    "axs[1].plot(wvec_freq, h5_f[\"Measurement_000\"][\"Channel_000\"]['complex']\n",
    "            ['imag_resample'][pixel, timestep], \"s\", color='r', label=\"Imaginary Resample\")\n",
    "\n",
    "axs[1].plot(\n",
    "    frequency_bin, h5_f[\"Measurement_000\"][\"Channel_000\"]['complex']['imag'][pixel].reshape(-1, num_bins)[timestep], label=\"Imaginary\", color='r',\n",
    ")\n",
    "\n",
    "axs[1].set(xlabel=\"Frequency (Hz)\", ylabel=\"Amplitude (Arb. U.)\")\n",
    "\n",
    "fig.legend(bbox_to_anchor=(1.16, 0.93), loc=\"upper right\", borderaxespad=0.0)\n",
    "fig.tight_layout()\n",
    "\n",
    "printing.savefig(fig, \"Figure_4_raw_and_resampled_raw_data.png\")\n"
   ]
  },
  {
   "cell_type": "markdown",
   "id": "45ce2c09",
   "metadata": {},
   "source": [
    "## Data Scaling"
   ]
  },
  {
   "cell_type": "code",
   "execution_count": null,
   "id": "d8acc7d2",
   "metadata": {},
   "outputs": [],
   "source": [
    "# scale the fit results with Standard Scaler\n",
    "fit_results_scaler = StandardScaler()\n",
    "SHO_fit_results = SHO_fit_to_array(h5_f[\"Measurement_000\"][\"Channel_000\"][\"Raw_Data-SHO_Fit_000\"][\"Fit\"])\n",
    "scaled_fit_results = fit_results_scaler.fit_transform(SHO_fit_results.reshape(-1, 5)[:, 0:4])\n",
    "\n"
   ]
  },
  {
   "cell_type": "code",
   "execution_count": null,
   "id": "38c58e99",
   "metadata": {},
   "outputs": [],
   "source": [
    "# Loads SHO Fit Results\n",
    "SHO_fit_results = SHO_fit_to_array(h5_f[\"Measurement_000\"][\"Channel_000\"][\"Raw_Data-SHO_Fit_000\"][\"Fit\"])\n",
    "\n",
    "# check distributions of each parameter before and after scaling\n",
    "fig, axs = plt.subplots(nrows=4, ncols=2, figsize=(13, 26))\n",
    "\n",
    "units = [\n",
    "    \"Amplitude (Arb. U.)\",\n",
    "    \"Frequency (Hz)\",\n",
    "    \"Quality Factor (Arb. U.)\",\n",
    "    \"Phase (rad)\",\n",
    "]\n",
    "\n",
    "for i in range(4):\n",
    "    axs[i, 0].hist(SHO_fit_results[:, :, i].flatten(), 100)\n",
    "    axs[i, 1].hist(scaled_fit_results[:, i].flatten(), 100)\n",
    "\n",
    "i = 0\n",
    "for ax in axs.flat:\n",
    "    ax.set(xlabel=units[i // 2], ylabel=\"Density\")\n",
    "    i += 1\n",
    "    ax.ticklabel_format(axis=\"x\", style=\"sci\", scilimits=(0, 0))\n",
    "\n",
    "axs[0, 0].set_title(\"Before scaling\", fontsize=15)\n",
    "axs[0, 1].set_title(\"After scaling\", fontsize=15)\n",
    "\n",
    "printing.savefig(fig, \"Figure_5_scaled_fitting_parameters_distributions.png\")"
   ]
  },
  {
   "cell_type": "code",
   "execution_count": null,
   "id": "115c9506",
   "metadata": {},
   "outputs": [],
   "source": [
    "# scale the real component of input data\n",
    "scaler_real = global_scaler()\n",
    "scaled_data_real = scaler_real.fit_transform(real_resample).reshape(-1, 80)\n",
    "\n",
    "# scale the imaginary component of input data\n",
    "scaler_imag = global_scaler()\n",
    "scaled_data_imag = scaler_imag.fit_transform(imag_resample).reshape(-1, 80)\n",
    "\n",
    "# saves the data to the h5_file\n",
    "make_dataset(h5_f[\"Measurement_000\"][\"Channel_000\"]['complex'], 'scaled_data', np.stack((scaled_data_real, scaled_data_imag), axis=2))"
   ]
  },
  {
   "cell_type": "code",
   "execution_count": null,
   "id": "470ef065",
   "metadata": {},
   "outputs": [],
   "source": [
    "h5_f.close()"
   ]
  },
  {
   "cell_type": "code",
   "execution_count": null,
   "id": "b54170b0",
   "metadata": {},
   "outputs": [],
   "source": []
  }
 ],
 "metadata": {
  "kernelspec": {
   "display_name": "rapid_fitting",
   "language": "python",
   "name": "python3"
  },
  "language_info": {
   "codemirror_mode": {
    "name": "ipython",
    "version": 3
   },
   "file_extension": ".py",
   "mimetype": "text/x-python",
   "name": "python",
   "nbconvert_exporter": "python",
   "pygments_lexer": "ipython3",
   "version": "3.9.0"
  },
  "varInspector": {
   "cols": {
    "lenName": 16,
    "lenType": 16,
    "lenVar": 40
   },
   "kernels_config": {
    "python": {
     "delete_cmd_postfix": "",
     "delete_cmd_prefix": "del ",
     "library": "var_list.py",
     "varRefreshCmd": "print(var_dic_list())"
    },
    "r": {
     "delete_cmd_postfix": ") ",
     "delete_cmd_prefix": "rm(",
     "library": "var_list.r",
     "varRefreshCmd": "cat(var_dic_list()) "
    }
   },
   "types_to_exclude": [
    "module",
    "function",
    "builtin_function_or_method",
    "instance",
    "_Feature"
   ],
   "window_display": false
  },
  "vscode": {
   "interpreter": {
    "hash": "c58f42fd11d8ae4df132d3c425059695e86ccc63a852aa66615442730ca8b1fc"
   }
  }
 },
 "nbformat": 4,
 "nbformat_minor": 5
}
