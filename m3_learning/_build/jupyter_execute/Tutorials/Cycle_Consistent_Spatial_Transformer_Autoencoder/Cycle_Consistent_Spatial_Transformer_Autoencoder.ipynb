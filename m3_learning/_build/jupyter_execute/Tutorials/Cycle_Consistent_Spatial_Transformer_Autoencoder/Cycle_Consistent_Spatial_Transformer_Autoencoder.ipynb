{
 "cells": [
  {
   "cell_type": "markdown",
   "metadata": {
    "id": "KB7KSC5r1Qar",
    "slideshow": {
     "slide_type": "slide"
    }
   },
   "source": [
    "# Tutorial: Cycle-Consistent Spatial Transforming Autoencoders\n",
    "\n",
    "By Shuyu Qin, Joshua C. Agar\n",
    "\n",
    "Department of Mechanical Engineering and Mechanics\n",
    "Drexel University"
   ]
  },
  {
   "cell_type": "code",
   "execution_count": 1,
   "metadata": {
    "colab": {
     "base_uri": "https://localhost:8080/"
    },
    "id": "aIPhuxCqx049",
    "outputId": "a8b871fe-2b6e-4992-d1cb-81ec0300db77",
    "slideshow": {
     "slide_type": "fragment"
    },
    "tags": [
     "hide-output"
    ]
   },
   "outputs": [
    {
     "name": "stdout",
     "output_type": "stream",
     "text": [
      "Requirement already satisfied: m3_learning in c:\\conda\\lib\\site-packages (0.0.7)\n",
      "Requirement already satisfied: setuptools==65.5.0 in c:\\conda\\lib\\site-packages (from m3_learning) (65.5.0)\n",
      "Requirement already satisfied: scikit-image in c:\\conda\\lib\\site-packages (from m3_learning) (0.19.2)\n",
      "Requirement already satisfied: scikit-learn in c:\\conda\\lib\\site-packages (from m3_learning) (1.0.2)\n",
      "Requirement already satisfied: torchsummary in c:\\conda\\lib\\site-packages (from m3_learning) (1.5.1)\n",
      "Requirement already satisfied: py-cpuinfo in c:\\conda\\lib\\site-packages (from m3_learning) (8.0.0)\n",
      "Requirement already satisfied: jupyter-book in c:\\conda\\lib\\site-packages (from m3_learning) (0.13.1)\n",
      "Requirement already satisfied: tqdm==4.64.1 in c:\\conda\\lib\\site-packages (from m3_learning) (4.64.1)\n",
      "Requirement already satisfied: numpy==1.23.4 in c:\\conda\\lib\\site-packages (from m3_learning) (1.23.4)\n",
      "Requirement already satisfied: torch in c:\\conda\\lib\\site-packages (from m3_learning) (1.12.1)\n",
      "Requirement already satisfied: matplotlib==3.6.1 in c:\\conda\\lib\\site-packages (from m3_learning) (3.6.1)\n",
      "Requirement already satisfied: opencv-python in c:\\conda\\lib\\site-packages (from m3_learning) (4.6.0.66)\n",
      "Requirement already satisfied: pyparsing>=2.2.1 in c:\\conda\\lib\\site-packages (from matplotlib==3.6.1->m3_learning) (3.0.4)\n",
      "Requirement already satisfied: python-dateutil>=2.7 in c:\\conda\\lib\\site-packages (from matplotlib==3.6.1->m3_learning) (2.8.2)\n",
      "Requirement already satisfied: kiwisolver>=1.0.1 in c:\\conda\\lib\\site-packages (from matplotlib==3.6.1->m3_learning) (1.3.2)\n",
      "Requirement already satisfied: pillow>=6.2.0 in c:\\conda\\lib\\site-packages (from matplotlib==3.6.1->m3_learning) (9.0.1)\n",
      "Requirement already satisfied: fonttools>=4.22.0 in c:\\conda\\lib\\site-packages (from matplotlib==3.6.1->m3_learning) (4.25.0)\n",
      "Requirement already satisfied: cycler>=0.10 in c:\\conda\\lib\\site-packages (from matplotlib==3.6.1->m3_learning) (0.11.0)\n",
      "Requirement already satisfied: contourpy>=1.0.1 in c:\\conda\\lib\\site-packages (from matplotlib==3.6.1->m3_learning) (1.0.5)\n",
      "Requirement already satisfied: packaging>=20.0 in c:\\conda\\lib\\site-packages (from matplotlib==3.6.1->m3_learning) (21.3)\n",
      "Requirement already satisfied: colorama in c:\\conda\\lib\\site-packages (from tqdm==4.64.1->m3_learning) (0.4.4)\n",
      "Requirement already satisfied: six>=1.5 in c:\\conda\\lib\\site-packages (from python-dateutil>=2.7->matplotlib==3.6.1->m3_learning) (1.16.0)\n",
      "Requirement already satisfied: sphinx-jupyterbook-latex~=0.4.6 in c:\\conda\\lib\\site-packages (from jupyter-book->m3_learning) (0.4.7)\n",
      "Requirement already satisfied: sphinx-design~=0.1.0 in c:\\conda\\lib\\site-packages (from jupyter-book->m3_learning) (0.1.0)\n",
      "Requirement already satisfied: Jinja2 in c:\\conda\\lib\\site-packages (from jupyter-book->m3_learning) (2.11.3)\n",
      "Requirement already satisfied: sphinx-copybutton in c:\\conda\\lib\\site-packages (from jupyter-book->m3_learning) (0.5.0)\n",
      "Requirement already satisfied: sphinx-comments in c:\\conda\\lib\\site-packages (from jupyter-book->m3_learning) (0.0.3)\n",
      "Requirement already satisfied: sphinx-thebe~=0.1.1 in c:\\conda\\lib\\site-packages (from jupyter-book->m3_learning) (0.1.2)\n",
      "Requirement already satisfied: sphinxcontrib-bibtex<=2.5.0,>=2.2.0 in c:\\conda\\lib\\site-packages (from jupyter-book->m3_learning) (2.5.0)\n",
      "Requirement already satisfied: jsonschema<4 in c:\\conda\\lib\\site-packages (from jupyter-book->m3_learning) (3.2.0)\n",
      "Requirement already satisfied: linkify-it-py~=1.0.1 in c:\\conda\\lib\\site-packages (from jupyter-book->m3_learning) (1.0.3)\n",
      "Requirement already satisfied: sphinx-external-toc~=0.2.3 in c:\\conda\\lib\\site-packages (from jupyter-book->m3_learning) (0.2.4)\n",
      "Requirement already satisfied: sphinx<5,>=4 in c:\\conda\\lib\\site-packages (from jupyter-book->m3_learning) (4.4.0)\n",
      "Requirement already satisfied: sphinx_book_theme~=0.3.2 in c:\\conda\\lib\\site-packages (from jupyter-book->m3_learning) (0.3.3)\n",
      "Requirement already satisfied: click<9,>=7.1 in c:\\conda\\lib\\site-packages (from jupyter-book->m3_learning) (8.0.4)\n",
      "Requirement already satisfied: myst-nb~=0.13.1 in c:\\conda\\lib\\site-packages (from jupyter-book->m3_learning) (0.13.2)\n",
      "Requirement already satisfied: docutils<0.18,>=0.15 in c:\\conda\\lib\\site-packages (from jupyter-book->m3_learning) (0.17.1)\n",
      "Requirement already satisfied: sphinx-multitoc-numbering~=0.1.3 in c:\\conda\\lib\\site-packages (from jupyter-book->m3_learning) (0.1.3)\n",
      "Requirement already satisfied: sphinx_togglebutton in c:\\conda\\lib\\site-packages (from jupyter-book->m3_learning) (0.3.2)\n",
      "Requirement already satisfied: pyyaml in c:\\conda\\lib\\site-packages (from jupyter-book->m3_learning) (6.0)\n",
      "Requirement already satisfied: pyrsistent>=0.14.0 in c:\\conda\\lib\\site-packages (from jsonschema<4->jupyter-book->m3_learning) (0.18.0)\n",
      "Requirement already satisfied: attrs>=17.4.0 in c:\\conda\\lib\\site-packages (from jsonschema<4->jupyter-book->m3_learning) (21.4.0)\n",
      "Requirement already satisfied: uc-micro-py in c:\\conda\\lib\\site-packages (from linkify-it-py~=1.0.1->jupyter-book->m3_learning) (1.0.1)\n",
      "Requirement already satisfied: nbconvert<7,>=5.6 in c:\\conda\\lib\\site-packages (from myst-nb~=0.13.1->jupyter-book->m3_learning) (6.4.4)\n",
      "Requirement already satisfied: jupyter-sphinx~=0.3.2 in c:\\conda\\lib\\site-packages (from myst-nb~=0.13.1->jupyter-book->m3_learning) (0.3.2)\n",
      "Requirement already satisfied: myst-parser~=0.15.2 in c:\\conda\\lib\\site-packages (from myst-nb~=0.13.1->jupyter-book->m3_learning) (0.15.2)\n",
      "Requirement already satisfied: nbformat~=5.0 in c:\\conda\\lib\\site-packages (from myst-nb~=0.13.1->jupyter-book->m3_learning) (5.3.0)\n",
      "Requirement already satisfied: ipython in c:\\conda\\lib\\site-packages (from myst-nb~=0.13.1->jupyter-book->m3_learning) (8.2.0)\n",
      "Requirement already satisfied: importlib-metadata in c:\\conda\\lib\\site-packages (from myst-nb~=0.13.1->jupyter-book->m3_learning) (4.11.3)\n",
      "Requirement already satisfied: ipywidgets<8,>=7.0.0 in c:\\conda\\lib\\site-packages (from myst-nb~=0.13.1->jupyter-book->m3_learning) (7.6.5)\n",
      "Requirement already satisfied: jupyter-cache~=0.4.1 in c:\\conda\\lib\\site-packages (from myst-nb~=0.13.1->jupyter-book->m3_learning) (0.4.3)\n",
      "Requirement already satisfied: ipykernel>=4.5.1 in c:\\conda\\lib\\site-packages (from ipywidgets<8,>=7.0.0->myst-nb~=0.13.1->jupyter-book->m3_learning) (6.9.1)\n",
      "Requirement already satisfied: ipython-genutils~=0.2.0 in c:\\conda\\lib\\site-packages (from ipywidgets<8,>=7.0.0->myst-nb~=0.13.1->jupyter-book->m3_learning) (0.2.0)\n",
      "Requirement already satisfied: jupyterlab-widgets>=1.0.0 in c:\\conda\\lib\\site-packages (from ipywidgets<8,>=7.0.0->myst-nb~=0.13.1->jupyter-book->m3_learning) (1.0.0)\n",
      "Requirement already satisfied: traitlets>=4.3.1 in c:\\conda\\lib\\site-packages (from ipywidgets<8,>=7.0.0->myst-nb~=0.13.1->jupyter-book->m3_learning) (5.1.1)\n",
      "Requirement already satisfied: widgetsnbextension~=3.5.0 in c:\\conda\\lib\\site-packages (from ipywidgets<8,>=7.0.0->myst-nb~=0.13.1->jupyter-book->m3_learning) (3.5.2)\n",
      "Requirement already satisfied: debugpy<2.0,>=1.0.0 in c:\\conda\\lib\\site-packages (from ipykernel>=4.5.1->ipywidgets<8,>=7.0.0->myst-nb~=0.13.1->jupyter-book->m3_learning) (1.5.1)\n",
      "Requirement already satisfied: tornado<7.0,>=4.2 in c:\\conda\\lib\\site-packages (from ipykernel>=4.5.1->ipywidgets<8,>=7.0.0->myst-nb~=0.13.1->jupyter-book->m3_learning) (6.1)\n",
      "Requirement already satisfied: jupyter-client<8.0 in c:\\conda\\lib\\site-packages (from ipykernel>=4.5.1->ipywidgets<8,>=7.0.0->myst-nb~=0.13.1->jupyter-book->m3_learning) (6.1.12)\n",
      "Requirement already satisfied: nest-asyncio in c:\\conda\\lib\\site-packages (from ipykernel>=4.5.1->ipywidgets<8,>=7.0.0->myst-nb~=0.13.1->jupyter-book->m3_learning) (1.5.5)\n",
      "Requirement already satisfied: matplotlib-inline<0.2.0,>=0.1.0 in c:\\conda\\lib\\site-packages (from ipykernel>=4.5.1->ipywidgets<8,>=7.0.0->myst-nb~=0.13.1->jupyter-book->m3_learning) (0.1.2)\n",
      "Requirement already satisfied: jedi>=0.16 in c:\\conda\\lib\\site-packages (from ipython->myst-nb~=0.13.1->jupyter-book->m3_learning) (0.18.1)\n"
     ]
    },
    {
     "name": "stdout",
     "output_type": "stream",
     "text": [
      "Requirement already satisfied: decorator in c:\\conda\\lib\\site-packages (from ipython->myst-nb~=0.13.1->jupyter-book->m3_learning) (5.1.1)\n",
      "Requirement already satisfied: prompt-toolkit!=3.0.0,!=3.0.1,<3.1.0,>=2.0.0 in c:\\conda\\lib\\site-packages (from ipython->myst-nb~=0.13.1->jupyter-book->m3_learning) (3.0.20)\n",
      "Requirement already satisfied: stack-data in c:\\conda\\lib\\site-packages (from ipython->myst-nb~=0.13.1->jupyter-book->m3_learning) (0.2.0)\n",
      "Requirement already satisfied: pickleshare in c:\\conda\\lib\\site-packages (from ipython->myst-nb~=0.13.1->jupyter-book->m3_learning) (0.7.5)\n",
      "Requirement already satisfied: backcall in c:\\conda\\lib\\site-packages (from ipython->myst-nb~=0.13.1->jupyter-book->m3_learning) (0.2.0)\n",
      "Requirement already satisfied: pygments>=2.4.0 in c:\\conda\\lib\\site-packages (from ipython->myst-nb~=0.13.1->jupyter-book->m3_learning) (2.11.2)\n",
      "Requirement already satisfied: parso<0.9.0,>=0.8.0 in c:\\conda\\lib\\site-packages (from jedi>=0.16->ipython->myst-nb~=0.13.1->jupyter-book->m3_learning) (0.8.3)\n",
      "Requirement already satisfied: sqlalchemy<1.5,>=1.3.12 in c:\\conda\\lib\\site-packages (from jupyter-cache~=0.4.1->myst-nb~=0.13.1->jupyter-book->m3_learning) (1.4.32)\n",
      "Requirement already satisfied: nbclient<0.6,>=0.2 in c:\\conda\\lib\\site-packages (from jupyter-cache~=0.4.1->myst-nb~=0.13.1->jupyter-book->m3_learning) (0.5.13)\n",
      "Requirement already satisfied: nbdime in c:\\conda\\lib\\site-packages (from jupyter-cache~=0.4.1->myst-nb~=0.13.1->jupyter-book->m3_learning) (3.1.1)\n",
      "Requirement already satisfied: jupyter-core>=4.6.0 in c:\\conda\\lib\\site-packages (from jupyter-client<8.0->ipykernel>=4.5.1->ipywidgets<8,>=7.0.0->myst-nb~=0.13.1->jupyter-book->m3_learning) (4.9.2)\n",
      "Requirement already satisfied: pyzmq>=13 in c:\\conda\\lib\\site-packages (from jupyter-client<8.0->ipykernel>=4.5.1->ipywidgets<8,>=7.0.0->myst-nb~=0.13.1->jupyter-book->m3_learning) (22.3.0)\n",
      "Requirement already satisfied: pywin32>=1.0 in c:\\conda\\lib\\site-packages (from jupyter-core>=4.6.0->jupyter-client<8.0->ipykernel>=4.5.1->ipywidgets<8,>=7.0.0->myst-nb~=0.13.1->jupyter-book->m3_learning) (302)\n",
      "Requirement already satisfied: markdown-it-py<2.0.0,>=1.0.0 in c:\\conda\\lib\\site-packages (from myst-parser~=0.15.2->myst-nb~=0.13.1->jupyter-book->m3_learning) (1.1.0)\n",
      "Requirement already satisfied: mdit-py-plugins~=0.2.8 in c:\\conda\\lib\\site-packages (from myst-parser~=0.15.2->myst-nb~=0.13.1->jupyter-book->m3_learning) (0.2.8)\n",
      "Requirement already satisfied: jupyterlab-pygments in c:\\conda\\lib\\site-packages (from nbconvert<7,>=5.6->myst-nb~=0.13.1->jupyter-book->m3_learning) (0.1.2)\n",
      "Requirement already satisfied: pandocfilters>=1.4.1 in c:\\conda\\lib\\site-packages (from nbconvert<7,>=5.6->myst-nb~=0.13.1->jupyter-book->m3_learning) (1.5.0)\n",
      "Requirement already satisfied: defusedxml in c:\\conda\\lib\\site-packages (from nbconvert<7,>=5.6->myst-nb~=0.13.1->jupyter-book->m3_learning) (0.7.1)\n",
      "Requirement already satisfied: beautifulsoup4 in c:\\conda\\lib\\site-packages (from nbconvert<7,>=5.6->myst-nb~=0.13.1->jupyter-book->m3_learning) (4.11.1)\n",
      "Requirement already satisfied: bleach in c:\\conda\\lib\\site-packages (from nbconvert<7,>=5.6->myst-nb~=0.13.1->jupyter-book->m3_learning) (4.1.0)\n",
      "Requirement already satisfied: entrypoints>=0.2.2 in c:\\conda\\lib\\site-packages (from nbconvert<7,>=5.6->myst-nb~=0.13.1->jupyter-book->m3_learning) (0.4)\n",
      "Requirement already satisfied: mistune<2,>=0.8.1 in c:\\conda\\lib\\site-packages (from nbconvert<7,>=5.6->myst-nb~=0.13.1->jupyter-book->m3_learning) (0.8.4)\n",
      "Requirement already satisfied: testpath in c:\\conda\\lib\\site-packages (from nbconvert<7,>=5.6->myst-nb~=0.13.1->jupyter-book->m3_learning) (0.5.0)\n",
      "Requirement already satisfied: MarkupSafe>=0.23 in c:\\conda\\lib\\site-packages (from Jinja2->jupyter-book->m3_learning) (2.0.1)\n",
      "Requirement already satisfied: fastjsonschema in c:\\conda\\lib\\site-packages (from nbformat~=5.0->myst-nb~=0.13.1->jupyter-book->m3_learning) (2.15.1)\n",
      "Requirement already satisfied: wcwidth in c:\\conda\\lib\\site-packages (from prompt-toolkit!=3.0.0,!=3.0.1,<3.1.0,>=2.0.0->ipython->myst-nb~=0.13.1->jupyter-book->m3_learning) (0.2.5)\n",
      "Requirement already satisfied: imagesize in c:\\conda\\lib\\site-packages (from sphinx<5,>=4->jupyter-book->m3_learning) (1.3.0)\n",
      "Requirement already satisfied: sphinxcontrib-jsmath in c:\\conda\\lib\\site-packages (from sphinx<5,>=4->jupyter-book->m3_learning) (1.0.1)\n",
      "Requirement already satisfied: babel>=1.3 in c:\\conda\\lib\\site-packages (from sphinx<5,>=4->jupyter-book->m3_learning) (2.9.1)\n",
      "Requirement already satisfied: snowballstemmer>=1.1 in c:\\conda\\lib\\site-packages (from sphinx<5,>=4->jupyter-book->m3_learning) (2.2.0)\n",
      "Requirement already satisfied: sphinxcontrib-serializinghtml>=1.1.5 in c:\\conda\\lib\\site-packages (from sphinx<5,>=4->jupyter-book->m3_learning) (1.1.5)\n",
      "Requirement already satisfied: sphinxcontrib-qthelp in c:\\conda\\lib\\site-packages (from sphinx<5,>=4->jupyter-book->m3_learning) (1.0.3)\n",
      "Requirement already satisfied: alabaster<0.8,>=0.7 in c:\\conda\\lib\\site-packages (from sphinx<5,>=4->jupyter-book->m3_learning) (0.7.12)\n",
      "Requirement already satisfied: requests>=2.5.0 in c:\\conda\\lib\\site-packages (from sphinx<5,>=4->jupyter-book->m3_learning) (2.27.1)\n",
      "Requirement already satisfied: sphinxcontrib-applehelp in c:\\conda\\lib\\site-packages (from sphinx<5,>=4->jupyter-book->m3_learning) (1.0.2)\n",
      "Requirement already satisfied: sphinxcontrib-htmlhelp>=2.0.0 in c:\\conda\\lib\\site-packages (from sphinx<5,>=4->jupyter-book->m3_learning) (2.0.0)\n",
      "Requirement already satisfied: sphinxcontrib-devhelp in c:\\conda\\lib\\site-packages (from sphinx<5,>=4->jupyter-book->m3_learning) (1.0.2)\n",
      "Requirement already satisfied: pytz>=2015.7 in c:\\conda\\lib\\site-packages (from babel>=1.3->sphinx<5,>=4->jupyter-book->m3_learning) (2021.3)\n",
      "Requirement already satisfied: zipp>=0.5 in c:\\conda\\lib\\site-packages (from importlib-metadata->myst-nb~=0.13.1->jupyter-book->m3_learning) (3.7.0)\n",
      "Requirement already satisfied: urllib3<1.27,>=1.21.1 in c:\\conda\\lib\\site-packages (from requests>=2.5.0->sphinx<5,>=4->jupyter-book->m3_learning) (1.26.9)\n",
      "Requirement already satisfied: idna<4,>=2.5 in c:\\conda\\lib\\site-packages (from requests>=2.5.0->sphinx<5,>=4->jupyter-book->m3_learning) (3.3)\n",
      "Requirement already satisfied: charset-normalizer~=2.0.0 in c:\\conda\\lib\\site-packages (from requests>=2.5.0->sphinx<5,>=4->jupyter-book->m3_learning) (2.0.4)\n",
      "Requirement already satisfied: certifi>=2017.4.17 in c:\\conda\\lib\\site-packages (from requests>=2.5.0->sphinx<5,>=4->jupyter-book->m3_learning) (2021.10.8)\n",
      "Requirement already satisfied: pydata-sphinx-theme~=0.8.0 in c:\\conda\\lib\\site-packages (from sphinx_book_theme~=0.3.2->jupyter-book->m3_learning) (0.8.1)\n",
      "Requirement already satisfied: wheel in c:\\conda\\lib\\site-packages (from sphinx_togglebutton->jupyter-book->m3_learning) (0.37.1)\n",
      "Requirement already satisfied: pybtex-docutils>=1.0.0 in c:\\conda\\lib\\site-packages (from sphinxcontrib-bibtex<=2.5.0,>=2.2.0->jupyter-book->m3_learning) (1.0.2)\n",
      "Requirement already satisfied: pybtex>=0.24 in c:\\conda\\lib\\site-packages (from sphinxcontrib-bibtex<=2.5.0,>=2.2.0->jupyter-book->m3_learning) (0.24.0)\n",
      "Requirement already satisfied: latexcodec>=1.0.4 in c:\\conda\\lib\\site-packages (from pybtex>=0.24->sphinxcontrib-bibtex<=2.5.0,>=2.2.0->jupyter-book->m3_learning) (2.0.1)\n",
      "Requirement already satisfied: greenlet!=0.4.17 in c:\\conda\\lib\\site-packages (from sqlalchemy<1.5,>=1.3.12->jupyter-cache~=0.4.1->myst-nb~=0.13.1->jupyter-book->m3_learning) (1.1.1)\n",
      "Requirement already satisfied: notebook>=4.4.1 in c:\\conda\\lib\\site-packages (from widgetsnbextension~=3.5.0->ipywidgets<8,>=7.0.0->myst-nb~=0.13.1->jupyter-book->m3_learning) (6.4.8)\n",
      "Requirement already satisfied: Send2Trash>=1.8.0 in c:\\conda\\lib\\site-packages (from notebook>=4.4.1->widgetsnbextension~=3.5.0->ipywidgets<8,>=7.0.0->myst-nb~=0.13.1->jupyter-book->m3_learning) (1.8.0)\n",
      "Requirement already satisfied: argon2-cffi in c:\\conda\\lib\\site-packages (from notebook>=4.4.1->widgetsnbextension~=3.5.0->ipywidgets<8,>=7.0.0->myst-nb~=0.13.1->jupyter-book->m3_learning) (21.3.0)\n",
      "Requirement already satisfied: prometheus-client in c:\\conda\\lib\\site-packages (from notebook>=4.4.1->widgetsnbextension~=3.5.0->ipywidgets<8,>=7.0.0->myst-nb~=0.13.1->jupyter-book->m3_learning) (0.13.1)\n",
      "Requirement already satisfied: terminado>=0.8.3 in c:\\conda\\lib\\site-packages (from notebook>=4.4.1->widgetsnbextension~=3.5.0->ipywidgets<8,>=7.0.0->myst-nb~=0.13.1->jupyter-book->m3_learning) (0.13.1)\n",
      "Requirement already satisfied: pywinpty>=1.1.0 in c:\\conda\\lib\\site-packages (from terminado>=0.8.3->notebook>=4.4.1->widgetsnbextension~=3.5.0->ipywidgets<8,>=7.0.0->myst-nb~=0.13.1->jupyter-book->m3_learning) (1.1.6)\n",
      "Requirement already satisfied: argon2-cffi-bindings in c:\\conda\\lib\\site-packages (from argon2-cffi->notebook>=4.4.1->widgetsnbextension~=3.5.0->ipywidgets<8,>=7.0.0->myst-nb~=0.13.1->jupyter-book->m3_learning) (21.2.0)\n",
      "Requirement already satisfied: cffi>=1.0.1 in c:\\conda\\lib\\site-packages (from argon2-cffi-bindings->argon2-cffi->notebook>=4.4.1->widgetsnbextension~=3.5.0->ipywidgets<8,>=7.0.0->myst-nb~=0.13.1->jupyter-book->m3_learning) (1.15.0)\n",
      "Requirement already satisfied: pycparser in c:\\conda\\lib\\site-packages (from cffi>=1.0.1->argon2-cffi-bindings->argon2-cffi->notebook>=4.4.1->widgetsnbextension~=3.5.0->ipywidgets<8,>=7.0.0->myst-nb~=0.13.1->jupyter-book->m3_learning) (2.21)\n",
      "Requirement already satisfied: soupsieve>1.2 in c:\\conda\\lib\\site-packages (from beautifulsoup4->nbconvert<7,>=5.6->myst-nb~=0.13.1->jupyter-book->m3_learning) (2.3.1)\n",
      "Requirement already satisfied: webencodings in c:\\conda\\lib\\site-packages (from bleach->nbconvert<7,>=5.6->myst-nb~=0.13.1->jupyter-book->m3_learning) (0.5.1)\n",
      "Requirement already satisfied: GitPython!=2.1.4,!=2.1.5,!=2.1.6 in c:\\conda\\lib\\site-packages (from nbdime->jupyter-cache~=0.4.1->myst-nb~=0.13.1->jupyter-book->m3_learning) (3.1.29)\n",
      "Requirement already satisfied: jupyter-server in c:\\conda\\lib\\site-packages (from nbdime->jupyter-cache~=0.4.1->myst-nb~=0.13.1->jupyter-book->m3_learning) (1.13.5)\n",
      "Requirement already satisfied: jupyter-server-mathjax>=0.2.2 in c:\\conda\\lib\\site-packages (from nbdime->jupyter-cache~=0.4.1->myst-nb~=0.13.1->jupyter-book->m3_learning) (0.2.6)\n",
      "Requirement already satisfied: gitdb<5,>=4.0.1 in c:\\conda\\lib\\site-packages (from GitPython!=2.1.4,!=2.1.5,!=2.1.6->nbdime->jupyter-cache~=0.4.1->myst-nb~=0.13.1->jupyter-book->m3_learning) (4.0.9)\n",
      "Requirement already satisfied: smmap<6,>=3.0.1 in c:\\conda\\lib\\site-packages (from gitdb<5,>=4.0.1->GitPython!=2.1.4,!=2.1.5,!=2.1.6->nbdime->jupyter-cache~=0.4.1->myst-nb~=0.13.1->jupyter-book->m3_learning) (5.0.0)\n",
      "Requirement already satisfied: websocket-client in c:\\conda\\lib\\site-packages (from jupyter-server->nbdime->jupyter-cache~=0.4.1->myst-nb~=0.13.1->jupyter-book->m3_learning) (0.58.0)\n",
      "Requirement already satisfied: anyio<4,>=3.1.0 in c:\\conda\\lib\\site-packages (from jupyter-server->nbdime->jupyter-cache~=0.4.1->myst-nb~=0.13.1->jupyter-book->m3_learning) (3.5.0)\n",
      "Requirement already satisfied: sniffio>=1.1 in c:\\conda\\lib\\site-packages (from anyio<4,>=3.1.0->jupyter-server->nbdime->jupyter-cache~=0.4.1->myst-nb~=0.13.1->jupyter-book->m3_learning) (1.2.0)\n",
      "Requirement already satisfied: PyWavelets>=1.1.1 in c:\\conda\\lib\\site-packages (from scikit-image->m3_learning) (1.3.0)\n",
      "Requirement already satisfied: networkx>=2.2 in c:\\conda\\lib\\site-packages (from scikit-image->m3_learning) (2.7.1)\n",
      "Requirement already satisfied: imageio>=2.4.1 in c:\\conda\\lib\\site-packages (from scikit-image->m3_learning) (2.9.0)\n",
      "Requirement already satisfied: tifffile>=2019.7.26 in c:\\conda\\lib\\site-packages (from scikit-image->m3_learning) (2021.7.2)\n",
      "Requirement already satisfied: scipy>=1.4.1 in c:\\conda\\lib\\site-packages (from scikit-image->m3_learning) (1.9.2)\n",
      "Requirement already satisfied: threadpoolctl>=2.0.0 in c:\\conda\\lib\\site-packages (from scikit-learn->m3_learning) (2.2.0)\n",
      "Requirement already satisfied: joblib>=0.11 in c:\\conda\\lib\\site-packages (from scikit-learn->m3_learning) (1.1.0)\n",
      "Requirement already satisfied: asttokens in c:\\conda\\lib\\site-packages (from stack-data->ipython->myst-nb~=0.13.1->jupyter-book->m3_learning) (2.0.5)\n",
      "Requirement already satisfied: pure-eval in c:\\conda\\lib\\site-packages (from stack-data->ipython->myst-nb~=0.13.1->jupyter-book->m3_learning) (0.2.2)\n",
      "Requirement already satisfied: executing in c:\\conda\\lib\\site-packages (from stack-data->ipython->myst-nb~=0.13.1->jupyter-book->m3_learning) (0.8.3)\n",
      "Requirement already satisfied: typing_extensions in c:\\conda\\lib\\site-packages (from torch->m3_learning) (4.1.1)\n"
     ]
    }
   ],
   "source": [
    "!pip install m3_learning"
   ]
  },
  {
   "cell_type": "markdown",
   "metadata": {
    "id": "-GbJmyO_1itx",
    "slideshow": {
     "slide_type": "subslide"
    }
   },
   "source": [
    "## Configuration\n",
    "\n",
    "### Imports packages\n"
   ]
  },
  {
   "cell_type": "code",
   "execution_count": 2,
   "metadata": {
    "id": "29lMNJV9xe7w",
    "slideshow": {
     "slide_type": "fragment"
    }
   },
   "outputs": [],
   "source": [
    "import matplotlib.pyplot as plt\n",
    "import numpy as np\n",
    "import torch\n",
    "import torch.nn.functional as F\n",
    "import torch.optim as optim\n",
    "import torch.nn as nn\n",
    "from tqdm import tqdm\n",
    "import cv2\n",
    "from skimage.filters import sobel\n",
    "import tarfile"
   ]
  },
  {
   "cell_type": "markdown",
   "metadata": {
    "id": "8R1uHT1P1sPq",
    "slideshow": {
     "slide_type": "subslide"
    }
   },
   "source": [
    "### Downloads Files"
   ]
  },
  {
   "cell_type": "code",
   "execution_count": 3,
   "metadata": {
    "colab": {
     "base_uri": "https://localhost:8080/"
    },
    "id": "8V3z9ZZFyUiu",
    "outputId": "28a3773f-3eb6-40da-b859-30056d8e1767",
    "slideshow": {
     "slide_type": "fragment"
    },
    "tags": [
     "hide-output"
    ]
   },
   "outputs": [
    {
     "name": "stderr",
     "output_type": "stream",
     "text": [
      "'wget' is not recognized as an internal or external command,\n",
      "operable program or batch file.\n"
     ]
    },
    {
     "name": "stderr",
     "output_type": "stream",
     "text": [
      "'wget' is not recognized as an internal or external command,\n",
      "operable program or batch file.\n"
     ]
    }
   ],
   "source": [
    "!wget -O cards.tar.xz https://github.com/m3-learning/m3_learning/blob/main/m3_learning/Tutorials/Cycle_Consistent_Spatial_Transformer_Autoencoder/data/cards.tar.xz?raw=true\n",
    "!wget -O 11.12_unsupervised_learn_label_epoch_17957_coef_0_trainloss_0.0008.pkl https://github.com/m3-learning/Unsupervised-rotation-detection-and-label-learning/blob/main/11.12_unsupervised_learn_label_epoch_17957_coef_0_trainloss_0.0008.pkl?raw=true"
   ]
  },
  {
   "cell_type": "markdown",
   "metadata": {
    "id": "XGnsP5VK14Wa",
    "slideshow": {
     "slide_type": "fragment"
    }
   },
   "source": [
    "### Extracts Files"
   ]
  },
  {
   "cell_type": "code",
   "execution_count": 4,
   "metadata": {
    "id": "aFQrlSJLyiMm",
    "slideshow": {
     "slide_type": "fragment"
    }
   },
   "outputs": [],
   "source": [
    "file = tarfile.open('./cards.tar.xz') \n",
    "file.extractall('./')\n",
    "file.close()"
   ]
  },
  {
   "cell_type": "markdown",
   "metadata": {
    "id": "-3AkKueg2IWu",
    "slideshow": {
     "slide_type": "slide"
    }
   },
   "source": [
    "## Data Preprocessing\n",
    "\n",
    "### Conversion"
   ]
  },
  {
   "cell_type": "code",
   "execution_count": 5,
   "metadata": {
    "colab": {
     "base_uri": "https://localhost:8080/"
    },
    "id": "D4At_FTxxe7x",
    "outputId": "011c308f-7b07-45b4-995d-7136faee87ee",
    "slideshow": {
     "slide_type": "fragment"
    }
   },
   "outputs": [],
   "source": [
    "# Converts images to grayscale\n",
    "card1 = cv2.imread(\"cards/card1.JPG\", cv2.IMREAD_GRAYSCALE)\n",
    "card2 = cv2.imread(\"cards/card2.JPG\", cv2.IMREAD_GRAYSCALE)\n",
    "card3 = cv2.imread(\"cards/card3.JPG\", cv2.IMREAD_GRAYSCALE)\n",
    "card4 = cv2.imread(\"cards/card4.JPG\", cv2.IMREAD_GRAYSCALE)\n",
    "\n",
    "# Normalizes the image based on the max value\n",
    "card1 = torch.tensor(1 - card1 / card1.max())\n",
    "card2 = torch.tensor(1 - card2 / card2.max())\n",
    "card3 = torch.tensor(1 - card3 / card3.max())\n",
    "card4 = torch.tensor(1 - card4 / card4.max())\n",
    "\n",
    "# # Resizes the image\n",
    "# card_small_1 = torch.tensor(F.interpolate(card1.unsqueeze(0).unsqueeze(1), size=(48,48)),dtype=torch.float)\n",
    "# card_small_2 = torch.tensor(F.interpolate(card2.unsqueeze(0).unsqueeze(1), size=(48,48)),dtype=torch.float)\n",
    "# card_small_3 = torch.tensor(F.interpolate(card3.unsqueeze(0).unsqueeze(1), size=(48,48)),dtype=torch.float)\n",
    "# card_small_4 = torch.tensor(F.interpolate(card4.unsqueeze(0).unsqueeze(1), size=(48,48)),dtype=torch.float)\n",
    "\n",
    "# Resizes the image\n",
    "card_small_1 = F.interpolate(card1.unsqueeze(0).unsqueeze(1), size=(48,48)).clone().type(torch.float).cpu().numpy()\n",
    "card_small_2 = F.interpolate(card2.unsqueeze(0).unsqueeze(1), size=(48,48)).clone().type(torch.float).cpu().numpy()\n",
    "card_small_3 = F.interpolate(card3.unsqueeze(0).unsqueeze(1), size=(48,48)).clone().type(torch.float).cpu().numpy()\n",
    "card_small_4 = F.interpolate(card4.unsqueeze(0).unsqueeze(1), size=(48,48)).clone().type(torch.float).cpu().numpy()"
   ]
  },
  {
   "cell_type": "markdown",
   "metadata": {
    "id": "diJ86fln2W69",
    "slideshow": {
     "slide_type": "subslide"
    }
   },
   "source": [
    "### Raw Data Visulalization"
   ]
  },
  {
   "cell_type": "code",
   "execution_count": 6,
   "metadata": {
    "colab": {
     "base_uri": "https://localhost:8080/",
     "height": 285
    },
    "id": "MzZTavM5xe7y",
    "outputId": "62889007-1bcc-4f98-80d4-76e1cf1fb7ef",
    "slideshow": {
     "slide_type": "fragment"
    }
   },
   "outputs": [
    {
     "data": {
      "text/plain": [
       "<matplotlib.image.AxesImage at 0x2bb9d575b50>"
      ]
     },
     "execution_count": 6,
     "metadata": {},
     "output_type": "execute_result"
    },
    {
     "data": {
      "image/png": "[encoded data removed]",
      "text/plain": [
       "<Figure size 432x288 with 1 Axes>"
      ]
     },
     "metadata": {
      "filenames": {
       "image/png": "C:\\Users\\jca92\\Documents\\codes\\m3_learning\\m3_learning\\_build\\jupyter_execute\\Tutorials\\Cycle_Consistent_Spatial_Transformer_Autoencoder\\Cycle_Consistent_Spatial_Transformer_Autoencoder_11_1.png"
      },
      "needs_background": "light"
     },
     "output_type": "display_data"
    }
   ],
   "source": [
    "plt.imshow(card_small_1.squeeze())"
   ]
  },
  {
   "cell_type": "markdown",
   "metadata": {
    "id": "tQU-TTGs2jWy",
    "slideshow": {
     "slide_type": "subslide"
    }
   },
   "source": [
    "### Edge detection"
   ]
  },
  {
   "cell_type": "code",
   "execution_count": 7,
   "metadata": {
    "id": "vBgdUW0Exe7y",
    "slideshow": {
     "slide_type": "fragment"
    }
   },
   "outputs": [],
   "source": [
    "# Sobel edge detection\n",
    "card_edge_1 = sobel(card_small_1.squeeze())\n",
    "card_edge_2 = sobel(card_small_2.squeeze())\n",
    "card_edge_3 = sobel(card_small_3.squeeze())\n",
    "card_edge_4 = sobel(card_small_4.squeeze())\n",
    "\n",
    "# Convert to a tensor\n",
    "card_edge_1 = torch.tensor(card_edge_1,dtype=torch.float).unsqueeze(0).unsqueeze(1)\n",
    "card_edge_2 = torch.tensor(card_edge_2,dtype=torch.float).unsqueeze(0).unsqueeze(1)\n",
    "card_edge_3 = torch.tensor(card_edge_3,dtype=torch.float).unsqueeze(0).unsqueeze(1)\n",
    "card_edge_4 = torch.tensor(card_edge_4,dtype=torch.float).unsqueeze(0).unsqueeze(1)"
   ]
  },
  {
   "cell_type": "markdown",
   "metadata": {
    "id": "mubTbD6Y2xEH",
    "slideshow": {
     "slide_type": "subslide"
    }
   },
   "source": [
    "## Data Generation\n",
    "\n",
    "This will generate a bunch of images that are rotated from the initial position"
   ]
  },
  {
   "cell_type": "code",
   "execution_count": 8,
   "metadata": {
    "colab": {
     "base_uri": "https://localhost:8080/"
    },
    "id": "jYROdDpxxe7y",
    "outputId": "e0df3053-3ec5-41b4-bb9f-3776825fc481",
    "slideshow": {
     "slide_type": "fragment"
    }
   },
   "outputs": [
    {
     "name": "stderr",
     "output_type": "stream",
     "text": [
      "C:\\Conda\\lib\\site-packages\\torch\\nn\\functional.py:4277: UserWarning: Default grid_sample and affine_grid behavior has changed to align_corners=False since 1.3.0. Please specify align_corners=True if the old behavior is desired. See the documentation of grid_sample for details.\n",
      "  warnings.warn(\n",
      "C:\\Conda\\lib\\site-packages\\torch\\nn\\functional.py:4215: UserWarning: Default grid_sample and affine_grid behavior has changed to align_corners=False since 1.3.0. Please specify align_corners=True if the old behavior is desired. See the documentation of grid_sample for details.\n",
      "  warnings.warn(\n"
     ]
    }
   ],
   "source": [
    "# sets the range and the number of steps to generate images\n",
    "angle = torch.linspace(0, 2*np.pi, 2000)\n",
    "\n",
    "# predefines a list\n",
    "input_data_set_1 = []\n",
    "input_data_set_2 = []\n",
    "input_data_set_3 = []\n",
    "input_data_set_4 = []\n",
    "\n",
    "for q in angle:\n",
    "    # defines the theta matrix for an affine transformation\n",
    "    theta = torch.tensor([\n",
    "     [torch.cos(q), torch.sin(q)  , 0],\n",
    "     [-torch.sin(q), torch.cos(q), 0]\n",
    "     ], dtype=torch.float)\n",
    "    \n",
    "    # calculates the grid for the affine transformation\n",
    "    grid = F.affine_grid(theta.unsqueeze(0), card_edge_1.size()) \n",
    "    \n",
    "    # applies the affine transformation to the image\n",
    "    output = F.grid_sample(card_edge_1, grid)\n",
    "    # adds the image to the dataset\n",
    "    input_data_set_1.append(output)\n",
    "    \n",
    "    output = F.grid_sample(card_edge_2, grid)\n",
    "    input_data_set_2.append(output)\n",
    "    \n",
    "    output = F.grid_sample(card_edge_3, grid)\n",
    "    input_data_set_3.append(output)\n",
    "    \n",
    "    output = F.grid_sample(card_edge_4, grid)\n",
    "    input_data_set_4.append(output)\n",
    "\n",
    "# combines all the data together    \n",
    "input_set_1 = torch.stack(input_data_set_1).squeeze(1)\n",
    "input_set_2 = torch.stack(input_data_set_2).squeeze(1)\n",
    "input_set_3 = torch.stack(input_data_set_3).squeeze(1)\n",
    "input_set_4 = torch.stack(input_data_set_4).squeeze(1)"
   ]
  },
  {
   "cell_type": "markdown",
   "metadata": {
    "id": "ob48pgqA3cWN",
    "slideshow": {
     "slide_type": "subslide"
    }
   },
   "source": [
    "### Visualize example rotated images"
   ]
  },
  {
   "cell_type": "code",
   "execution_count": 9,
   "metadata": {
    "colab": {
     "base_uri": "https://localhost:8080/",
     "height": 285
    },
    "id": "Sk_uczFjxe7y",
    "outputId": "bfa01918-0748-40ad-bedc-7a125f05371d",
    "slideshow": {
     "slide_type": "fragment"
    }
   },
   "outputs": [
    {
     "data": {
      "text/plain": [
       "<matplotlib.image.AxesImage at 0x2bb9d6622b0>"
      ]
     },
     "execution_count": 9,
     "metadata": {},
     "output_type": "execute_result"
    },
    {
     "data": {
      "image/png": "[encoded data removed]",
      "text/plain": [
       "<Figure size 432x288 with 1 Axes>"
      ]
     },
     "metadata": {
      "filenames": {
       "image/png": "C:\\Users\\jca92\\Documents\\codes\\m3_learning\\m3_learning\\_build\\jupyter_execute\\Tutorials\\Cycle_Consistent_Spatial_Transformer_Autoencoder\\Cycle_Consistent_Spatial_Transformer_Autoencoder_17_1.png"
      },
      "needs_background": "light"
     },
     "output_type": "display_data"
    }
   ],
   "source": [
    "plt.imshow(card_edge_1.squeeze())"
   ]
  },
  {
   "cell_type": "markdown",
   "metadata": {
    "id": "RkBjGr7B3lTY",
    "slideshow": {
     "slide_type": "subslide"
    }
   },
   "source": [
    "### Formulate a single dataset"
   ]
  },
  {
   "cell_type": "code",
   "execution_count": 10,
   "metadata": {
    "id": "ZDZZp451xe7z",
    "slideshow": {
     "slide_type": "fragment"
    }
   },
   "outputs": [],
   "source": [
    "input_set = torch.cat((input_set_1,input_set_2,input_set_3,input_set_4),axis=0)"
   ]
  },
  {
   "cell_type": "markdown",
   "metadata": {
    "id": "jDjcsxgV3vIT",
    "slideshow": {
     "slide_type": "slide"
    }
   },
   "source": [
    "### Visualize example images in training data"
   ]
  },
  {
   "cell_type": "code",
   "execution_count": 11,
   "metadata": {
    "colab": {
     "base_uri": "https://localhost:8080/",
     "height": 1000
    },
    "id": "ocRbDC50xe7z",
    "outputId": "2b5aa34c-7ad8-43be-bd65-f3663605da48",
    "scrolled": true,
    "slideshow": {
     "slide_type": "fragment"
    }
   },
   "outputs": [
    {
     "data": {
      "image/png": "[encoded data removed]",
      "text/plain": [
       "<Figure size 432x288 with 1 Axes>"
      ]
     },
     "metadata": {
      "filenames": {
       "image/png": "C:\\Users\\jca92\\Documents\\codes\\m3_learning\\m3_learning\\_build\\jupyter_execute\\Tutorials\\Cycle_Consistent_Spatial_Transformer_Autoencoder\\Cycle_Consistent_Spatial_Transformer_Autoencoder_21_0.png"
      },
      "needs_background": "light"
     },
     "output_type": "display_data"
    },
    {
     "data": {
      "image/png": "[encoded data removed]",
      "text/plain": [
       "<Figure size 432x288 with 1 Axes>"
      ]
     },
     "metadata": {
      "filenames": {
       "image/png": "C:\\Users\\jca92\\Documents\\codes\\m3_learning\\m3_learning\\_build\\jupyter_execute\\Tutorials\\Cycle_Consistent_Spatial_Transformer_Autoencoder\\Cycle_Consistent_Spatial_Transformer_Autoencoder_21_1.png"
      },
      "needs_background": "light"
     },
     "output_type": "display_data"
    },
    {
     "data": {
      "image/png": "[encoded data removed]",
      "text/plain": [
       "<Figure size 432x288 with 1 Axes>"
      ]
     },
     "metadata": {
      "filenames": {
       "image/png": "C:\\Users\\jca92\\Documents\\codes\\m3_learning\\m3_learning\\_build\\jupyter_execute\\Tutorials\\Cycle_Consistent_Spatial_Transformer_Autoencoder\\Cycle_Consistent_Spatial_Transformer_Autoencoder_21_2.png"
      },
      "needs_background": "light"
     },
     "output_type": "display_data"
    },
    {
     "data": {
      "image/png": "[encoded data removed]",
      "text/plain": [
       "<Figure size 432x288 with 1 Axes>"
      ]
     },
     "metadata": {
      "filenames": {
       "image/png": "C:\\Users\\jca92\\Documents\\codes\\m3_learning\\m3_learning\\_build\\jupyter_execute\\Tutorials\\Cycle_Consistent_Spatial_Transformer_Autoencoder\\Cycle_Consistent_Spatial_Transformer_Autoencoder_21_3.png"
      },
      "needs_background": "light"
     },
     "output_type": "display_data"
    },
    {
     "data": {
      "image/png": "[encoded data removed]",
      "text/plain": [
       "<Figure size 432x288 with 1 Axes>"
      ]
     },
     "metadata": {
      "filenames": {
       "image/png": "C:\\Users\\jca92\\Documents\\codes\\m3_learning\\m3_learning\\_build\\jupyter_execute\\Tutorials\\Cycle_Consistent_Spatial_Transformer_Autoencoder\\Cycle_Consistent_Spatial_Transformer_Autoencoder_21_4.png"
      },
      "needs_background": "light"
     },
     "output_type": "display_data"
    },
    {
     "data": {
      "image/png": "[encoded data removed]",
      "text/plain": [
       "<Figure size 432x288 with 1 Axes>"
      ]
     },
     "metadata": {
      "filenames": {
       "image/png": "C:\\Users\\jca92\\Documents\\codes\\m3_learning\\m3_learning\\_build\\jupyter_execute\\Tutorials\\Cycle_Consistent_Spatial_Transformer_Autoencoder\\Cycle_Consistent_Spatial_Transformer_Autoencoder_21_5.png"
      },
      "needs_background": "light"
     },
     "output_type": "display_data"
    },
    {
     "data": {
      "image/png": "[encoded data removed]",
      "text/plain": [
       "<Figure size 432x288 with 1 Axes>"
      ]
     },
     "metadata": {
      "filenames": {
       "image/png": "C:\\Users\\jca92\\Documents\\codes\\m3_learning\\m3_learning\\_build\\jupyter_execute\\Tutorials\\Cycle_Consistent_Spatial_Transformer_Autoencoder\\Cycle_Consistent_Spatial_Transformer_Autoencoder_21_6.png"
      },
      "needs_background": "light"
     },
     "output_type": "display_data"
    },
    {
     "data": {
      "image/png": "[encoded data removed]",
      "text/plain": [
       "<Figure size 432x288 with 1 Axes>"
      ]
     },
     "metadata": {
      "filenames": {
       "image/png": "C:\\Users\\jca92\\Documents\\codes\\m3_learning\\m3_learning\\_build\\jupyter_execute\\Tutorials\\Cycle_Consistent_Spatial_Transformer_Autoencoder\\Cycle_Consistent_Spatial_Transformer_Autoencoder_21_7.png"
      },
      "needs_background": "light"
     },
     "output_type": "display_data"
    },
    {
     "data": {
      "image/png": "[encoded data removed]",
      "text/plain": [
       "<Figure size 432x288 with 1 Axes>"
      ]
     },
     "metadata": {
      "filenames": {
       "image/png": "C:\\Users\\jca92\\Documents\\codes\\m3_learning\\m3_learning\\_build\\jupyter_execute\\Tutorials\\Cycle_Consistent_Spatial_Transformer_Autoencoder\\Cycle_Consistent_Spatial_Transformer_Autoencoder_21_8.png"
      },
      "needs_background": "light"
     },
     "output_type": "display_data"
    },
    {
     "data": {
      "image/png": "[encoded data removed]",
      "text/plain": [
       "<Figure size 432x288 with 1 Axes>"
      ]
     },
     "metadata": {
      "filenames": {
       "image/png": "C:\\Users\\jca92\\Documents\\codes\\m3_learning\\m3_learning\\_build\\jupyter_execute\\Tutorials\\Cycle_Consistent_Spatial_Transformer_Autoencoder\\Cycle_Consistent_Spatial_Transformer_Autoencoder_21_9.png"
      },
      "needs_background": "light"
     },
     "output_type": "display_data"
    }
   ],
   "source": [
    "for i in range(2000): \n",
    "    if i%200 == 0:\n",
    "        plt.figure()\n",
    "        plt.imshow(input_set_4[i].squeeze())"
   ]
  },
  {
   "cell_type": "markdown",
   "metadata": {
    "id": "TedTGO8S35AE",
    "slideshow": {
     "slide_type": "slide"
    }
   },
   "source": [
    "## Builds the Neural Network\n",
    "\n",
    "### Convolutional Block\n",
    "\n",
    "This is a standard convolutional block with ReLu. Each block has 4 layers. There is a layer normalization, and ResNet-like message passing."
   ]
  },
  {
   "cell_type": "code",
   "execution_count": 12,
   "metadata": {
    "id": "eXCJoAUexe7z",
    "slideshow": {
     "slide_type": "fragment"
    }
   },
   "outputs": [],
   "source": [
    "class conv_block(nn.Module):\n",
    "    def __init__(self,t_size,n_step):\n",
    "        super(conv_block,self).__init__()\n",
    "        self.cov1d_1 = nn.Conv2d(t_size,t_size,3,stride=1,padding=1,padding_mode = 'zeros')\n",
    "        self.cov1d_2 = nn.Conv2d(t_size,t_size,3,stride=1,padding=1,padding_mode = 'zeros')\n",
    "        self.cov1d_3 = nn.Conv2d(t_size,t_size,3,stride=1,padding=1,padding_mode = 'zeros')\n",
    "        self.norm_3 = nn.LayerNorm(n_step)\n",
    "        self.relu_1 = nn.ReLU()\n",
    "        self.relu_2 = nn.ReLU()\n",
    "        self.relu_3 = nn.ReLU()\n",
    "        \n",
    "    def forward(self,x):\n",
    "        x_input = x\n",
    "        out = self.cov1d_1(x)\n",
    "        out = self.relu_1(out)\n",
    "        out = self.cov1d_2(out)\n",
    "        out = self.relu_2(out)\n",
    "        out = self.cov1d_3(out)\n",
    "        out = self.norm_3(out)\n",
    "        out = self.relu_3(out)\n",
    "        out = out.add(x_input)\n",
    "        \n",
    "        return out"
   ]
  },
  {
   "cell_type": "markdown",
   "metadata": {
    "id": "R0SqTPPh4Tiy",
    "slideshow": {
     "slide_type": "subslide"
    }
   },
   "source": [
    "### Idenity Block\n",
    "This is a single convolutional layer with a layer norm and ReLu activation function"
   ]
  },
  {
   "cell_type": "code",
   "execution_count": 13,
   "metadata": {
    "id": "U86eWxQNxe7z",
    "slideshow": {
     "slide_type": "fragment"
    }
   },
   "outputs": [],
   "source": [
    "class identity_block(nn.Module):\n",
    "    def __init__(self,t_size,n_step):\n",
    "        super(identity_block,self).__init__()\n",
    "        self.cov1d_1 = nn.Conv2d(t_size,t_size,3,stride=1,padding=1,padding_mode = 'zeros')\n",
    "        self.norm_1 = nn.LayerNorm(n_step)\n",
    "        self.relu = nn.ReLU()\n",
    "        \n",
    "    def forward(self,x):\n",
    "        x_input = x\n",
    "        out = self.cov1d_1(x)\n",
    "        out = self.norm_1(out)\n",
    "        out = self.relu(out)\n",
    "        return out"
   ]
  },
  {
   "cell_type": "markdown",
   "metadata": {
    "id": "QiudNnwF4n2j",
    "slideshow": {
     "slide_type": "subslide"
    }
   },
   "source": [
    "### Encoder construction\n",
    "\n",
    "This constructs the encoder using the convolutional and identity blocks. "
   ]
  },
  {
   "cell_type": "code",
   "execution_count": 14,
   "metadata": {
    "id": "u6MSmcRCxe7z",
    "slideshow": {
     "slide_type": "fragment"
    }
   },
   "outputs": [],
   "source": [
    "class Encoder(nn.Module):\n",
    "    def __init__(self,original_step_size,pool_list,embedding_size,conv_size):\n",
    "        super(Encoder,self).__init__()\n",
    "        \n",
    "        # list of blocks\n",
    "        blocks = []\n",
    "\n",
    "        # defines the orignal step size\n",
    "        self.input_size_0 = original_step_size[0]\n",
    "        self.input_size_1 = original_step_size[1]\n",
    "\n",
    "        # a list that has the number of pooling layers\n",
    "        number_of_blocks = len(pool_list)\n",
    "\n",
    "        # Adds an initial Conv_block, identity block and max pool\n",
    "        blocks.append(conv_block(t_size=conv_size, n_step=original_step_size))\n",
    "        blocks.append(identity_block(t_size=conv_size, n_step=original_step_size))\n",
    "        blocks.append(nn.MaxPool2d(pool_list[0], stride=pool_list[0]))\n",
    "\n",
    "        # adds additional layers based on the number of blocks\n",
    "        for i in range(1,number_of_blocks):\n",
    "            original_step_size = [original_step_size[0]//pool_list[i-1],original_step_size[1]//pool_list[i-1]]\n",
    "            blocks.append(conv_block(t_size=conv_size, n_step=original_step_size))\n",
    "            blocks.append(identity_block(t_size=conv_size, n_step=original_step_size))\n",
    "            blocks.append(nn.MaxPool2d(pool_list[i], stride=pool_list[i])) \n",
    "            \n",
    "        # defines the convolutional embedding blocks    \n",
    "        self.block_layer = nn.ModuleList(blocks)\n",
    "\n",
    "\n",
    "        self.layers=len(blocks)\n",
    "\n",
    "        original_step_size = [original_step_size[0]//pool_list[-1],original_step_size[1]//pool_list[-1]]\n",
    "        \n",
    "        input_size = original_step_size[0]*original_step_size[1]\n",
    "        \n",
    "        # defines the initial layer\n",
    "        self.cov2d = nn.Conv2d(1,conv_size,3,stride=1,padding=1,padding_mode = 'zeros')\n",
    "        \n",
    "        # defines the conv layer at the end of the conv block\n",
    "        self.cov2d_1 = nn.Conv2d(conv_size,1,3,stride=1,padding=1,padding_mode = 'zeros')\n",
    "        \n",
    "        self.relu_1 = nn.ReLU()\n",
    "        self.tanh = nn.Tanh()\n",
    " \n",
    "        # Layer that takes the ouput of the conv block and reduces its dimensionsl to 20\n",
    "        self.before = nn.Linear(input_size,20)\n",
    "\n",
    "        # layer that takes the 20 parameter latent space and learns the embedding of the affine transformation\n",
    "        self.dense = nn.Linear(20,embedding_size)\n",
    "\n",
    "\n",
    "\n",
    "        \n",
    "    def forward(self,x):\n",
    "\n",
    "        out = x.view(-1,1,self.input_size_0,self.input_size_1)\n",
    "        out = self.cov2d(out)\n",
    "        for i in range(self.layers):\n",
    "            out = self.block_layer[i](out)\n",
    "        out = self.cov2d_1(out)\n",
    "\n",
    "        # flattens the conv layers so it is 1D\n",
    "        out = torch.flatten(out,start_dim=1)\n",
    "\n",
    "        # Embedding that goes to the classification layer\n",
    "        kout = self.before(out)    \n",
    "      \n",
    "        # Fully connected layer that helps learn the affine transformation\n",
    "        out = self.dense(kout)\n",
    "        out = self.tanh(out)\n",
    "\n",
    "        theta = out.view(-1,2,3)\n",
    "        \n",
    "        # learns the grid of the affine tranformation\n",
    "        grid = F.affine_grid(theta.to(device), x.size()).to(device)\n",
    "        \n",
    "        # applies the affine transformation to the image\n",
    "        output = F.grid_sample(x, grid)\n",
    "   \n",
    "        \n",
    "        return output,kout,theta"
   ]
  },
  {
   "cell_type": "markdown",
   "metadata": {
    "id": "bRPxUQed6cbu",
    "slideshow": {
     "slide_type": "subslide"
    }
   },
   "source": [
    "### Decoder"
   ]
  },
  {
   "cell_type": "code",
   "execution_count": 15,
   "metadata": {
    "id": "VyQJ9qQsxe7z",
    "slideshow": {
     "slide_type": "fragment"
    }
   },
   "outputs": [],
   "source": [
    "class Decoder(nn.Module):\n",
    "    def __init__(self,original_step_size,up_list,embedding_size,conv_size):\n",
    "        super(Decoder,self).__init__()\n",
    "\n",
    "        # Defines the size of the input\n",
    "        self.input_size_0 = original_step_size[0]\n",
    "        self.input_size_1 = original_step_size[1]\n",
    "\n",
    "        # dense layer used for the probability of beloning to each class\n",
    "        self.dense = nn.Linear(4,original_step_size[0]*original_step_size[1])\n",
    "\n",
    "        self.cov2d = nn.Conv2d(1,conv_size,3,stride=1,padding=1,padding_mode = 'zeros')\n",
    "        self.cov2d_1 = nn.Conv2d(conv_size,1,3,stride=1,padding=1,padding_mode = 'zeros')\n",
    "        \n",
    "        # list where the blocks are saved\n",
    "        blocks = []\n",
    "\n",
    "        # number of blocks in the model\n",
    "        number_of_blocks = len(up_list)\n",
    "\n",
    "        # adds the blocks to the model\n",
    "        blocks.append(conv_block(t_size=conv_size, n_step=original_step_size))\n",
    "        blocks.append(identity_block(t_size=conv_size, n_step=original_step_size))\n",
    "        \n",
    "        for i in range(number_of_blocks):\n",
    "            # adds an upsampling layer to compensate for pooling\n",
    "            blocks.append(nn.Upsample(scale_factor=up_list[i], mode='bilinear', align_corners=True))\n",
    "            original_step_size = [original_step_size[0]*up_list[i],original_step_size[1]*up_list[i]]\n",
    "            blocks.append(conv_block(t_size=conv_size, n_step=original_step_size))\n",
    "            blocks.append(identity_block(t_size=conv_size, n_step=original_step_size))\n",
    "            \n",
    "        self.block_layer = nn.ModuleList(blocks)\n",
    "        self.layers=len(blocks)\n",
    "        self.output_size_0 = original_step_size[0]\n",
    "        self.output_size_1 = original_step_size[1]\n",
    "        self.relu_1 = nn.ReLU()\n",
    "        self.norm = nn.LayerNorm(4)\n",
    "\n",
    "        # used to convert probability into classification\n",
    "        self.softmax = nn.Softmax()\n",
    "        \n",
    "        # prediction layer for classification\n",
    "        self.for_k = nn.Linear(20,4)\n",
    "\n",
    "        # number of outputs for the classification layer\n",
    "        self.num_k_sparse=1\n",
    "\n",
    "    def ktop(self,x):\n",
    "        # This conduct the classification based on the encoded value\n",
    "        kout = self.for_k(x)\n",
    "        kout = self.norm(kout)\n",
    "        kout = self.softmax(kout)\n",
    "        k_no = kout.clone()\n",
    "        k = self.num_k_sparse\n",
    "        with torch.no_grad():\n",
    "            if k < kout.shape[1]:\n",
    "                for raw in k_no:\n",
    "                    # computes the k-top layer\n",
    "                    indices = torch.topk(raw, k)[1].to(device)\n",
    "\n",
    "                    # creates a one-hot encoded vector\n",
    "                    mask = torch.ones(raw.shape, dtype=bool).to(device)\n",
    "                    mask[indices] = False\n",
    "                    raw[mask] = 0\n",
    "                    raw[~mask] = 1\n",
    "        return k_no\n",
    "\n",
    "        \n",
    "    def forward(self,x):\n",
    "        # Does the classification\n",
    "        k_out = self.ktop(x)\n",
    "\n",
    "        # uses the classification to the decoder\n",
    "        out = self.dense(k_out)\n",
    "\n",
    "        # reshapes the tensor to be an image of the size of the original image\n",
    "        out = out.view(-1,1,self.input_size_0,self.input_size_1)\n",
    "        \n",
    "        # computes the decoder\n",
    "        out = self.cov2d(out)\n",
    "        for i in range(self.layers):\n",
    "            out = self.block_layer[i](out)\n",
    "        out = self.cov2d_1(out)\n",
    "        out = self.relu_1(out)\n",
    "\n",
    "        \n",
    "        return out, k_out"
   ]
  },
  {
   "cell_type": "markdown",
   "metadata": {
    "slideshow": {
     "slide_type": "subslide"
    }
   },
   "source": [
    "### Builds the autoencoder"
   ]
  },
  {
   "cell_type": "code",
   "execution_count": 16,
   "metadata": {
    "id": "H06vwqpPxe7z",
    "slideshow": {
     "slide_type": "fragment"
    }
   },
   "outputs": [],
   "source": [
    "class Joint(nn.Module):\n",
    "  # Module that combines the encoder and the decoder\n",
    "\n",
    "    def __init__(self,encoder,decoder):\n",
    "        super(Joint,self).__init__()\n",
    "        \n",
    "        # encoder and decoder\n",
    "        self.encoder  = encoder\n",
    "        self.decoder = decoder\n",
    "\n",
    "        \n",
    "    def forward(self,x):\n",
    "\n",
    "        # gets the result from the encoder \n",
    "        predicted,kout,theta = self.encoder(x)\n",
    "    \n",
    "        # Builds the theta matrix\n",
    "        # We use an identity to ensure there is no translation  \n",
    "        identity = torch.tensor([0,0,1],dtype= torch.float).reshape(1,1,3).repeat(x.shape[0],1,1).to(device)\n",
    "        new_theta = torch.cat((theta,identity),axis=1).to(device)\n",
    "\n",
    "        # Computes the inverse of the affine transoformation\n",
    "        inver_theta = torch.linalg.inv(new_theta)[:,0:2].to(device) \n",
    "\n",
    "        # Calculates the grid for inverse affine\n",
    "        grid = F.affine_grid(inver_theta.to(device), x.size()).to(device)\n",
    "        \n",
    "        # Computes the decoder\n",
    "        predicted_base,k_out = self.decoder(kout)\n",
    "        \n",
    "        # applies the inverse affine transformation to the decoded base\n",
    "        predicted_input = F.grid_sample(predicted_base, grid)\n",
    "        \n",
    "        return predicted,predicted_base,predicted_input,k_out,theta"
   ]
  },
  {
   "cell_type": "markdown",
   "metadata": {
    "slideshow": {
     "slide_type": "subslide"
    }
   },
   "source": [
    "### Sets optional parameters for autoencoder"
   ]
  },
  {
   "cell_type": "code",
   "execution_count": 17,
   "metadata": {
    "id": "_lIFzkPoxe7z",
    "slideshow": {
     "slide_type": "fragment"
    }
   },
   "outputs": [],
   "source": [
    "# Size of the original image\n",
    "en_original_step_size=[48,48]\n",
    "\n",
    "# Defines the pooling layer\n",
    "pool_list=[2,2,2]\n",
    "\n",
    "# defines the size of the tensor \n",
    "de_original_step_size = [4,4]\n",
    "\n",
    "# Defines how the upsampling should be conducted\n",
    "up_list = [2,2,3]\n",
    "\n",
    "# Sets the size of the embedding, this is the number of parameters in the affine\n",
    "embedding_size=6\n",
    "\n",
    "# Sets the number of neurons in each layer\n",
    "conv_size =128"
   ]
  },
  {
   "cell_type": "markdown",
   "metadata": {
    "id": "LpPxYC3d-2xp",
    "slideshow": {
     "slide_type": "subslide"
    }
   },
   "source": [
    "### Checks operations"
   ]
  },
  {
   "cell_type": "code",
   "execution_count": 18,
   "metadata": {
    "colab": {
     "base_uri": "https://localhost:8080/"
    },
    "id": "KjixlRluxe70",
    "outputId": "2c5df336-8a9a-4b0a-bdcf-5fe94ffa7b1f",
    "slideshow": {
     "slide_type": "fragment"
    }
   },
   "outputs": [
    {
     "name": "stdout",
     "output_type": "stream",
     "text": [
      "True\n"
     ]
    }
   ],
   "source": [
    "# checks if cuda is available\n",
    "print(torch.cuda.is_available())\n",
    "\n",
    "# Assigns device to cuda\n",
    "device = torch.device('cuda')"
   ]
  },
  {
   "cell_type": "markdown",
   "metadata": {
    "id": "Aj-kWD7dAf86",
    "slideshow": {
     "slide_type": "subslide"
    }
   },
   "source": [
    "### Instantiates the model"
   ]
  },
  {
   "cell_type": "code",
   "execution_count": 19,
   "metadata": {
    "id": "kBqkK_6qxe70",
    "slideshow": {
     "slide_type": "fragment"
    }
   },
   "outputs": [],
   "source": [
    "# instantiates the encoder\n",
    "encoder = Encoder(original_step_size=en_original_step_size,\n",
    "                  pool_list=pool_list,\n",
    "                  embedding_size=embedding_size,\n",
    "                  conv_size=conv_size).to(device)\n",
    "\n",
    "# instantiates the decoder\n",
    "decoder = Decoder(original_step_size=de_original_step_size,\n",
    "                  up_list=up_list,\n",
    "                  embedding_size=embedding_size,\n",
    "                  conv_size=conv_size).to(device)\n",
    "\n",
    "# combines the two models                 \n",
    "join = Joint(encoder,decoder).to(device)"
   ]
  },
  {
   "cell_type": "markdown",
   "metadata": {
    "id": "RrNEt8A1Av7s",
    "slideshow": {
     "slide_type": "subslide"
    }
   },
   "source": [
    "### Instantiate the optimizer"
   ]
  },
  {
   "cell_type": "code",
   "execution_count": 20,
   "metadata": {
    "id": "SGrcC1vFxe70",
    "slideshow": {
     "slide_type": "fragment"
    }
   },
   "outputs": [],
   "source": [
    "optimizer = optim.Adam(join.parameters(), lr=3e-5)"
   ]
  },
  {
   "cell_type": "markdown",
   "metadata": {
    "slideshow": {
     "slide_type": "subslide"
    }
   },
   "source": [
    "### Loads pretrained weights"
   ]
  },
  {
   "cell_type": "code",
   "execution_count": 21,
   "metadata": {
    "id": "-D-ngUHDxe70",
    "slideshow": {
     "slide_type": "fragment"
    }
   },
   "outputs": [],
   "source": [
    "# if you would like to train this model from scratch set equal to false.\n",
    "# Note this model takes many hours to train\n",
    "pretrained = True\n",
    "\n",
    "if pretrained: \n",
    "    # load the trained weights\n",
    "    path_checkpoint = \"./11.12_unsupervised_learn_label_epoch_17957_coef_0_trainloss_0.0008.pkl\"  \n",
    "    checkpoint = torch.load(path_checkpoint,map_location=torch.device('cpu'))  \n",
    "\n",
    "    join.load_state_dict(checkpoint['net'])\n",
    "    encoder.load_state_dict(checkpoint['encoder'])\n",
    "    decoder.load_state_dict(checkpoint['decoder'])\n",
    "    optimizer.load_state_dict(checkpoint['optimizer']) \n",
    "    start_epoch = checkpoint['epoch']\n"
   ]
  },
  {
   "cell_type": "markdown",
   "metadata": {
    "id": "LBx-rQ8hBGro",
    "slideshow": {
     "slide_type": "subslide"
    }
   },
   "source": [
    "### Loss Function"
   ]
  },
  {
   "cell_type": "code",
   "execution_count": 22,
   "metadata": {
    "id": "V9-_12ivxe70",
    "slideshow": {
     "slide_type": "fragment"
    }
   },
   "outputs": [],
   "source": [
    "def loss_function(join,\n",
    "                  train_iterator,\n",
    "                  optimizer,\n",
    "                  ln_parm = 1, \n",
    "                  beta = None):\n",
    "\n",
    "    # weight_decay = coef\n",
    "    # weight_decay_1 = coef1\n",
    "\n",
    "    # set the train mode\n",
    "    join.train()\n",
    "\n",
    "    # loss of the epoch\n",
    "    train_loss = 0\n",
    "\n",
    "    # loop for calculating loss \n",
    "    for x in tqdm(train_iterator, leave=True, total=len(train_iterator)):\n",
    "     \n",
    "\n",
    "        x = x.to(device, dtype=torch.float)\n",
    "\n",
    "        # update the gradients to zero\n",
    "        optimizer.zero_grad()\n",
    "\n",
    "        # computes the forward pass of the model\n",
    "        predicted_x,predicted_base,predicted_input,kout,theta = join(x)\n",
    "\n",
    "        # combines the loss from the affine and inverse affine transform\n",
    "        loss = F.mse_loss(predicted_base.squeeze(), predicted_x.squeeze(), reduction='mean')\\\n",
    "                + F.mse_loss(predicted_input.squeeze(), x.squeeze(), reduction='mean')\n",
    "\n",
    "        # backward pass\n",
    "        train_loss += loss.item()\n",
    "\n",
    "        # computes the gradients\n",
    "        loss.backward()\n",
    "        \n",
    "        # update the weights\n",
    "        optimizer.step()\n",
    "\n",
    "    return train_loss"
   ]
  },
  {
   "cell_type": "markdown",
   "metadata": {
    "id": "-sgaRX8EBur2",
    "slideshow": {
     "slide_type": "subslide"
    }
   },
   "source": [
    "## Model Training"
   ]
  },
  {
   "cell_type": "code",
   "execution_count": 23,
   "metadata": {
    "id": "JZzaf6qexe70",
    "slideshow": {
     "slide_type": "fragment"
    }
   },
   "outputs": [],
   "source": [
    "def Train(join,encoder,decoder,train_iterator,optimizer,\n",
    "          epochs,coef=0,coef_1=0,ln_parm=1, beta=None, epoch_ = None):\n",
    "    \n",
    "    # sets the number of epochs to train\n",
    "    N_EPOCHS = epochs\n",
    "\n",
    "    best_train_loss = float('inf')\n",
    "    \n",
    "    if epoch_==None:\n",
    "        start_epoch = 0\n",
    "    else:\n",
    "        start_epoch = epoch_+1\n",
    "\n",
    "    # loops around the data set for each epoch\n",
    "    for epoch in range(start_epoch,N_EPOCHS):\n",
    "\n",
    "        # computes the loss\n",
    "        train = loss_function(join,train_iterator,\n",
    "                              optimizer,ln_parm,beta)\n",
    "        \n",
    "        # updates and prints the loss\n",
    "        train_loss = train\n",
    "        train_loss /= len(train_iterator)\n",
    "        print(f'Epoch {epoch}, Train Loss: {train_loss:.4f}')\n",
    "        print('.............................')\n",
    "\n",
    "        # If the model shows improvement after 50 epochs will save\n",
    "        if best_train_loss > train_loss:\n",
    "            best_train_loss = train_loss\n",
    "            patience_counter = 1\n",
    "            checkpoint = {\n",
    "                \"net\": join.state_dict(),\n",
    "                \"encoder\":encoder.state_dict(),\n",
    "                \"decoder\":decoder.state_dict(),\n",
    "                'optimizer': optimizer.state_dict(),\n",
    "                \"epoch\": epoch,\n",
    "            }\n",
    "            if epoch >=50:\n",
    "                torch.save(checkpoint, f'/content/drive/MyDrive/cycle_AE_model/11.12_unsupervised_learn_label_epoch:{epoch}_coef:{coef}_trainloss:{train_loss:.4f}.pkl')"
   ]
  },
  {
   "cell_type": "markdown",
   "metadata": {
    "id": "E2Ez-cMgCPWx",
    "slideshow": {
     "slide_type": "subslide"
    }
   },
   "source": [
    "### Data loader\n",
    "\n",
    "Defines an iterator that serves as the data loader"
   ]
  },
  {
   "cell_type": "code",
   "execution_count": 24,
   "metadata": {
    "id": "leIGbHF5xe70",
    "slideshow": {
     "slide_type": "fragment"
    }
   },
   "outputs": [],
   "source": [
    "train_iterator = torch.utils.data.DataLoader(input_set, batch_size = 300,shuffle = True)"
   ]
  },
  {
   "cell_type": "markdown",
   "metadata": {
    "id": "da4PsSkrCalq",
    "slideshow": {
     "slide_type": "subslide"
    }
   },
   "source": [
    "### Trains the model"
   ]
  },
  {
   "cell_type": "code",
   "execution_count": 25,
   "metadata": {
    "id": "MTc9_MYoxe70",
    "slideshow": {
     "slide_type": "fragment"
    }
   },
   "outputs": [],
   "source": [
    "if not pretrained:\n",
    "    # unsupervised learn label\n",
    "    Train(join,encoder,decoder,train_iterator,optimizer,50000, epoch_=0)"
   ]
  },
  {
   "cell_type": "markdown",
   "metadata": {
    "id": "3Nv1qu_-CjMd",
    "slideshow": {
     "slide_type": "subslide"
    }
   },
   "source": [
    "## Validation\n",
    "\n",
    "### Generates a small dataset for "
   ]
  },
  {
   "cell_type": "code",
   "execution_count": 26,
   "metadata": {
    "id": "xOhh6qPhxe73",
    "slideshow": {
     "slide_type": "fragment"
    }
   },
   "outputs": [],
   "source": [
    "# generate the test data set for validation\n",
    "angle = torch.linspace(0, 7*np.pi, 25)\n",
    "\n",
    "input_data_set_1 = []\n",
    "input_data_set_2 = []\n",
    "input_data_set_3 = []\n",
    "input_data_set_4 = []\n",
    "\n",
    "for q in angle:\n",
    "    theta = torch.tensor([\n",
    "     [torch.cos(q), torch.sin(q)  , 0],\n",
    "     [-torch.sin(q), torch.cos(q), 0]\n",
    "     ], dtype=torch.float)\n",
    "    grid = F.affine_grid(theta.unsqueeze(0), card_edge_1.size()) \n",
    "    output = F.grid_sample(card_edge_1, grid)\n",
    "    input_data_set_1.append(output)\n",
    "    \n",
    "    output = F.grid_sample(card_edge_2, grid)\n",
    "    input_data_set_2.append(output)\n",
    "    \n",
    "    output = F.grid_sample(card_edge_3, grid)\n",
    "    input_data_set_3.append(output)\n",
    "    \n",
    "    output = F.grid_sample(card_edge_4, grid)\n",
    "    input_data_set_4.append(output)\n",
    "    \n",
    "input_set_1 = torch.stack(input_data_set_1).squeeze(1)\n",
    "input_set_2 = torch.stack(input_data_set_2).squeeze(1)\n",
    "input_set_3 = torch.stack(input_data_set_3).squeeze(1)\n",
    "input_set_4 = torch.stack(input_data_set_4).squeeze(1)\n",
    "input_set_small = torch.cat((input_set_1,input_set_2,input_set_3,input_set_4),axis=0)"
   ]
  },
  {
   "cell_type": "markdown",
   "metadata": {
    "id": "OTLbu0YNDTNA",
    "slideshow": {
     "slide_type": "subslide"
    }
   },
   "source": [
    "### Builds a validation iterator"
   ]
  },
  {
   "cell_type": "code",
   "execution_count": 27,
   "metadata": {
    "id": "t5wp3qyGxe73",
    "slideshow": {
     "slide_type": "fragment"
    }
   },
   "outputs": [],
   "source": [
    "train_iterator = torch.utils.data.DataLoader(input_set_small, batch_size = 100,shuffle = False)"
   ]
  },
  {
   "cell_type": "markdown",
   "metadata": {
    "id": "FIGtuCR0DWZe",
    "slideshow": {
     "slide_type": "subslide"
    }
   },
   "source": [
    "### Random sample visualization"
   ]
  },
  {
   "cell_type": "code",
   "execution_count": 28,
   "metadata": {
    "id": "ywERve9Vxe73",
    "slideshow": {
     "slide_type": "fragment"
    }
   },
   "outputs": [],
   "source": [
    "sample = next(iter(train_iterator))"
   ]
  },
  {
   "cell_type": "markdown",
   "metadata": {
    "id": "vfQlibj2De5f",
    "slideshow": {
     "slide_type": "subslide"
    }
   },
   "source": [
    "### Evaluation"
   ]
  },
  {
   "cell_type": "code",
   "execution_count": 29,
   "metadata": {
    "colab": {
     "base_uri": "https://localhost:8080/"
    },
    "id": "PrrJbpk8xe73",
    "outputId": "ed0710f7-29a6-4847-93e4-7c12e1c78e00",
    "slideshow": {
     "slide_type": "fragment"
    }
   },
   "outputs": [
    {
     "name": "stderr",
     "output_type": "stream",
     "text": [
      "C:\\Users\\Joshua Agar\\AppData\\Local\\Temp\\ipykernel_29528\\46853740.py:52: UserWarning: Implicit dimension choice for softmax has been deprecated. Change the call to include dim=X as an argument.\n",
      "  kout = self.softmax(kout)\n"
     ]
    }
   ],
   "source": [
    "out,base,inp,kout,theta= join(sample.to(device, dtype=torch.float))"
   ]
  },
  {
   "cell_type": "markdown",
   "metadata": {
    "id": "VGkr2MlRDmiV",
    "slideshow": {
     "slide_type": "subslide"
    }
   },
   "source": [
    "### Visualize the results"
   ]
  },
  {
   "cell_type": "code",
   "execution_count": 30,
   "metadata": {
    "colab": {
     "base_uri": "https://localhost:8080/",
     "height": 1000
    },
    "id": "fvmZkiI8xe73",
    "outputId": "3145b36f-2514-471d-d3bf-44e4ce417d6f",
    "scrolled": false,
    "slideshow": {
     "slide_type": "fragment"
    }
   },
   "outputs": [
    {
     "name": "stdout",
     "output_type": "stream",
     "text": [
      "tensor([1., 0., 0., 0.], device='cuda:0', grad_fn=<SelectBackward0>)\n",
      "tensor([0., 1., 0., 0.], device='cuda:0', grad_fn=<SelectBackward0>)\n",
      "tensor([0., 0., 1., 0.], device='cuda:0', grad_fn=<SelectBackward0>)\n",
      "tensor([0., 0., 0., 1.], device='cuda:0', grad_fn=<SelectBackward0>)\n",
      "tensor([0., 0., 1., 0.], device='cuda:0', grad_fn=<SelectBackward0>)\n",
      "tensor([0., 0., 0., 1.], device='cuda:0', grad_fn=<SelectBackward0>)\n"
     ]
    },
    {
     "data": {
      "image/png": "[encoded data removed]",
      "text/plain": [
       "<Figure size 1440x2160 with 24 Axes>"
      ]
     },
     "metadata": {
      "filenames": {
       "image/png": "C:\\Users\\jca92\\Documents\\codes\\m3_learning\\m3_learning\\_build\\jupyter_execute\\Tutorials\\Cycle_Consistent_Spatial_Transformer_Autoencoder\\Cycle_Consistent_Spatial_Transformer_Autoencoder_59_1.png"
      },
      "needs_background": "light"
     },
     "output_type": "display_data"
    }
   ],
   "source": [
    "label_ = [card_edge_1,card_edge_2,card_edge_3,card_edge_4]\n",
    "\n",
    "# Visualize the result\n",
    "fig,ax = plt.subplots(6,4,figsize=(20,30))\n",
    "for i in range(6):\n",
    "    j = np.random.randint(0,100)\n",
    "    ax[i][0].title.set_text('input image')\n",
    "    ax[i][1].title.set_text('affine transform')\n",
    "    ax[i][2].title.set_text('generated basis')\n",
    "    ax[i][3].title.set_text(f'Rotation {np.degrees(np.arccos(theta[j][0,0].detach().cpu()))}')\n",
    "    ax[i][0].imshow(sample[j].squeeze())\n",
    "    \n",
    "    ax[i][1].imshow(out[j].squeeze().detach().cpu())\n",
    "    \n",
    "    #ax[2].imshow((card_small.squeeze()-out[i].squeeze().detach().cpu())**2)\n",
    "    #num = torch.argmax(prob[i])\n",
    "    ax[i][2].imshow(base[j].squeeze().detach().cpu())\n",
    "    \n",
    "    ax[i][3].imshow(inp[j].squeeze().detach().cpu())\n",
    "    \n",
    "    #ax[3].imshow((label_[num].squeeze()-out[i].squeeze().detach().cpu())**2)\n",
    "    print(kout[j])\n",
    "    \n"
   ]
  },
  {
   "cell_type": "code",
   "execution_count": null,
   "metadata": {
    "id": "rmwFiBWamGVb"
   },
   "outputs": [],
   "source": []
  }
 ],
 "metadata": {
  "accelerator": "GPU",
  "celltoolbar": "Slideshow",
  "colab": {
   "collapsed_sections": [],
   "machine_shape": "hm",
   "provenance": []
  },
  "gpuClass": "premium",
  "kernelspec": {
   "display_name": "Python 3.9.12 ('base')",
   "language": "python",
   "name": "python3"
  },
  "language_info": {
   "codemirror_mode": {
    "name": "ipython",
    "version": 3
   },
   "file_extension": ".py",
   "mimetype": "text/x-python",
   "name": "python",
   "nbconvert_exporter": "python",
   "pygments_lexer": "ipython3",
   "version": "3.9.12"
  },
  "vscode": {
   "interpreter": {
    "hash": "28d6d9e31a694f2aba28d42b1019d9365f56410d563150feaee59905aa4508a9"
   }
  }
 },
 "nbformat": 4,
 "nbformat_minor": 1
}